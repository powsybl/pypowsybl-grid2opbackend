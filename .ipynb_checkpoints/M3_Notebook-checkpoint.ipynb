{
 "cells": [
  {
   "cell_type": "markdown",
   "id": "38283226",
   "metadata": {},
   "source": [
    "# Notebook for M3 assesment"
   ]
  },
  {
   "cell_type": "markdown",
   "id": "4c6362ed",
   "metadata": {},
   "source": [
    "This notebook as been created "
   ]
  },
  {
   "cell_type": "markdown",
   "id": "3764d929",
   "metadata": {},
   "source": [
    "### Import of library"
   ]
  },
  {
   "cell_type": "code",
   "execution_count": 1,
   "id": "06da9afa",
   "metadata": {},
   "outputs": [
    {
     "name": "stderr",
     "output_type": "stream",
     "text": [
      "C:\\Users\\rtschupp\\AppData\\Local\\pypoetry\\Cache\\virtualenvs\\pypowsybltest-3L0u-b9v-py3.10\\lib\\site-packages\\grid2op\\Backend\\PandaPowerBackend.py:31: UserWarning: Numba cannot be loaded. You will gain possibly massive speed if installing it by \n",
      "\tC:\\Users\\rtschupp\\AppData\\Local\\pypoetry\\Cache\\virtualenvs\\pypowsybltest-3L0u-b9v-py3.10\\Scripts\\python.exe -m pip install numba\n",
      "\n",
      "  warnings.warn(\n"
     ]
    }
   ],
   "source": [
    "import grid2op\n",
    "from grid2op.PlotGrid import PlotMatplot\n",
    "from grid2op.Backend.PandaPowerBackend import PandaPowerBackend\n",
    "from grid2op.Agent import DoNothingAgent\n",
    "import numpy as np"
   ]
  },
  {
   "cell_type": "markdown",
   "id": "8aa6af7f",
   "metadata": {},
   "source": [
    "### Create a Grid2op environment"
   ]
  },
  {
   "cell_type": "markdown",
   "id": "63799522",
   "metadata": {},
   "source": [
    "Here we load the rte_case14_realistic file, in the context of our project it should be france network as a whole for the final test.  \n",
    "\n",
    "As you can see for the experience to be reproducible we can set a seed so the train/val/test sets are always the same. \n",
    "\n",
    "The backend would be changed to PypowsyblBackend.\n",
    "\n",
    "The make function is highly customizable and a lot of parameters could be changed as well other classes.\n",
    "For more details : https://grid2op.readthedocs.io/en/latest/makeenv.html#grid2op.MakeEnv.make "
   ]
  },
  {
   "cell_type": "code",
   "execution_count": 4,
   "id": "1283beac",
   "metadata": {},
   "outputs": [
    {
     "name": "stderr",
     "output_type": "stream",
     "text": [
      "C:\\Users\\rtschupp\\AppData\\Local\\pypoetry\\Cache\\virtualenvs\\pypowsybltest-3L0u-b9v-py3.10\\lib\\site-packages\\grid2op\\MakeEnv\\Make.py:393: UserWarning: You are using a development environment. This environment is not intended for training agents. It might not be up to date and its primary use if for tests (hence the \"test=True\" you passed as argument). Use at your own risk.\n",
      "  warnings.warn(_MAKE_DEV_ENV_WARN)\n"
     ]
    }
   ],
   "source": [
    "env = grid2op.make(\"rte_case14_realistic\", test=True,backend = PandaPowerBackend())  # i do a test, i set \"Test=True\" otherwise i don't specify anything\n",
    "max_iter = 5  # we limit the number of iterations to reduce computation time. Put -1 if you don't want to limit it\n",
    "env.seed(42)\n",
    "obs = env.reset()"
   ]
  },
  {
   "cell_type": "markdown",
   "id": "d992c81a",
   "metadata": {},
   "source": [
    "### We can then visualize our network and the data associated with each node"
   ]
  },
  {
   "cell_type": "code",
   "execution_count": null,
   "id": "0b538b1e",
   "metadata": {},
   "outputs": [],
   "source": [
    "plot_helper = PlotMatplot(env.observation_space)\n",
    "_ = plot_helper.plot_layout()"
   ]
  },
  {
   "cell_type": "code",
   "execution_count": null,
   "id": "fec79f5f",
   "metadata": {},
   "outputs": [],
   "source": [
    "_ = plot_helper.plot_obs(obs)"
   ]
  },
  {
   "cell_type": "markdown",
   "id": "1f083d82",
   "metadata": {},
   "source": [
    "### Different type of actions"
   ]
  },
  {
   "cell_type": "markdown",
   "id": "3f4a372b",
   "metadata": {},
   "source": [
    "<strong>There is five main types of actions possible</strong> :\n",
    "* Injection actions\n",
    "* Connection/Deconnection of a line\n",
    "* Topological configuration at every substation  \n",
    "\n",
    "     <em>If the rights parameters are given</em>\n",
    "* Redispatching\n",
    "* Curtailment\n",
    "\n",
    "\n",
    "\n",
    "For more detail : https://grid2op.readthedocs.io/en/latest/action.html"
   ]
  },
  {
   "cell_type": "markdown",
   "id": "71b474c4",
   "metadata": {},
   "source": [
    "### Create an agent"
   ]
  },
  {
   "cell_type": "markdown",
   "id": "0ae9b023",
   "metadata": {},
   "source": [
    "An agent would be the algorithm that is gonna take some actions (all the possible one written just a cell above), regarding some observation on the grid and the possible rewards."
   ]
  },
  {
   "cell_type": "markdown",
   "id": "0fec2d78",
   "metadata": {},
   "source": [
    "In our case we chose the DoNothingAgent that is not gonna take any action at any time step of the simulation which is already pre-implemented. Otherwise it is possible to create one following Grid2op framework and rules.\n",
    "\n",
    "For more informations : https://grid2op.readthedocs.io/en/latest/agent.html"
   ]
  },
  {
   "cell_type": "markdown",
   "id": "b44680d2",
   "metadata": {},
   "source": [
    "This agent should be replaced with your personnal RL agent"
   ]
  },
  {
   "cell_type": "code",
   "execution_count": null,
   "id": "736e89dc",
   "metadata": {},
   "outputs": [],
   "source": [
    "my_agent = DoNothingAgent(env.action_space)"
   ]
  },
  {
   "cell_type": "markdown",
   "id": "e4e6cc90",
   "metadata": {},
   "source": [
    "### Train an agent"
   ]
  },
  {
   "cell_type": "markdown",
   "id": "1e97b583",
   "metadata": {},
   "source": []
  },
  {
   "cell_type": "code",
   "execution_count": null,
   "id": "8cae0581",
   "metadata": {},
   "outputs": [],
   "source": []
  },
  {
   "cell_type": "code",
   "execution_count": 3,
   "id": "450b6d34",
   "metadata": {},
   "outputs": [
    {
     "ename": "EnvError",
     "evalue": "Grid2OpException EnvError \"add_for_test is None and pct_test is not None.\"",
     "output_type": "error",
     "traceback": [
      "\u001b[1;31m---------------------------------------------------------------------------\u001b[0m",
      "\u001b[1;31mEnvError\u001b[0m                                  Traceback (most recent call last)",
      "Cell \u001b[1;32mIn[3], line 3\u001b[0m\n\u001b[0;32m      1\u001b[0m \u001b[38;5;66;03m# extract 1% of the \"chronics\" to be used in the validation environment. The other 99% will\u001b[39;00m\n\u001b[0;32m      2\u001b[0m \u001b[38;5;66;03m# be used for test\u001b[39;00m\n\u001b[1;32m----> 3\u001b[0m nm_env_train, nm_env_val, nm_env_test \u001b[38;5;241m=\u001b[39m \u001b[43menv\u001b[49m\u001b[38;5;241;43m.\u001b[39;49m\u001b[43mtrain_val_split_random\u001b[49m\u001b[43m(\u001b[49m\u001b[43mpct_val\u001b[49m\u001b[38;5;241;43m=\u001b[39;49m\u001b[38;5;241;43m1.\u001b[39;49m\u001b[43m,\u001b[49m\u001b[43m \u001b[49m\u001b[43mpct_test\u001b[49m\u001b[38;5;241;43m=\u001b[39;49m\u001b[38;5;241;43m1.\u001b[39;49m\u001b[43m)\u001b[49m\n",
      "File \u001b[1;32m~\\AppData\\Local\\pypoetry\\Cache\\virtualenvs\\pypowsybltest-3L0u-b9v-py3.10\\lib\\site-packages\\grid2op\\Environment\\Environment.py:1571\u001b[0m, in \u001b[0;36mEnvironment.train_val_split_random\u001b[1;34m(self, pct_val, add_for_train, add_for_val, add_for_test, pct_test, remove_from_name, deep_copy)\u001b[0m\n\u001b[0;32m   1565\u001b[0m     \u001b[38;5;28;01mraise\u001b[39;00m EnvError(\n\u001b[0;32m   1566\u001b[0m         \u001b[38;5;124m\"\u001b[39m\u001b[38;5;124mThe suffixes you can use for validation data (add_for_val)\u001b[39m\u001b[38;5;124m\"\u001b[39m\n\u001b[0;32m   1567\u001b[0m         \u001b[38;5;124m'\u001b[39m\u001b[38;5;124mshould match the regex \u001b[39m\u001b[38;5;124m\"\u001b[39m\u001b[38;5;132;01m{self.REGEX_SPLIT}\u001b[39;00m\u001b[38;5;124m\"\u001b[39m\u001b[38;5;124m'\u001b[39m\n\u001b[0;32m   1568\u001b[0m     )\n\u001b[0;32m   1570\u001b[0m \u001b[38;5;28;01mif\u001b[39;00m add_for_test \u001b[38;5;129;01mis\u001b[39;00m \u001b[38;5;28;01mNone\u001b[39;00m \u001b[38;5;129;01mand\u001b[39;00m pct_test \u001b[38;5;129;01mis\u001b[39;00m \u001b[38;5;129;01mnot\u001b[39;00m \u001b[38;5;28;01mNone\u001b[39;00m:\n\u001b[1;32m-> 1571\u001b[0m     \u001b[38;5;28;01mraise\u001b[39;00m EnvError(\u001b[38;5;124mf\u001b[39m\u001b[38;5;124m\"\u001b[39m\u001b[38;5;124madd_for_test is None and pct_test is not None.\u001b[39m\u001b[38;5;124m\"\u001b[39m)\n\u001b[0;32m   1573\u001b[0m \u001b[38;5;28;01mif\u001b[39;00m add_for_test \u001b[38;5;129;01mis\u001b[39;00m \u001b[38;5;129;01mnot\u001b[39;00m \u001b[38;5;28;01mNone\u001b[39;00m \u001b[38;5;129;01mand\u001b[39;00m pct_test \u001b[38;5;129;01mis\u001b[39;00m \u001b[38;5;28;01mNone\u001b[39;00m:\n\u001b[0;32m   1574\u001b[0m     \u001b[38;5;28;01mraise\u001b[39;00m EnvError(\u001b[38;5;124mf\u001b[39m\u001b[38;5;124m\"\u001b[39m\u001b[38;5;124madd_for_test is not None and pct_test is None.\u001b[39m\u001b[38;5;124m\"\u001b[39m)\n",
      "\u001b[1;31mEnvError\u001b[0m: Grid2OpException EnvError \"add_for_test is None and pct_test is not None.\""
     ]
    }
   ],
   "source": [
    "# extract 1% of the \"chronics\" to be used in the validation environment. The other 99% will\n",
    "# be used for test\n",
    "nm_env_train, nm_env_val, nm_env_test = env.train_val_split_random(pct_val=1., pct_test=1.)"
   ]
  },
  {
   "cell_type": "code",
   "execution_count": null,
   "id": "52e6499b",
   "metadata": {},
   "outputs": [],
   "source": [
    "obs, reward, done, info = env.step(env.action_space())"
   ]
  },
  {
   "cell_type": "code",
   "execution_count": null,
   "id": "1e749268",
   "metadata": {},
   "outputs": [],
   "source": [
    "obs.minute_of_hour"
   ]
  },
  {
   "cell_type": "code",
   "execution_count": null,
   "id": "109ec13a",
   "metadata": {},
   "outputs": [],
   "source": [
    "obs."
   ]
  },
  {
   "cell_type": "code",
   "execution_count": null,
   "id": "e6659439",
   "metadata": {},
   "outputs": [],
   "source": [
    "info"
   ]
  }
 ],
 "metadata": {
  "kernelspec": {
   "display_name": "Python 3 (ipykernel)",
   "language": "python",
   "name": "python3"
  },
  "language_info": {
   "codemirror_mode": {
    "name": "ipython",
    "version": 3
   },
   "file_extension": ".py",
   "mimetype": "text/x-python",
   "name": "python",
   "nbconvert_exporter": "python",
   "pygments_lexer": "ipython3",
   "version": "3.10.10"
  }
 },
 "nbformat": 4,
 "nbformat_minor": 5
}
