{
 "cells": [
  {
   "cell_type": "markdown",
   "id": "38283226",
   "metadata": {},
   "source": [
    "# Notebook for M3 assesment"
   ]
  },
  {
   "cell_type": "markdown",
   "id": "3764d929",
   "metadata": {},
   "source": [
    "### Import of libraries"
   ]
  },
  {
   "cell_type": "code",
   "execution_count": 25,
   "id": "06da9afa",
   "metadata": {},
   "outputs": [],
   "source": [
    "import grid2op\n",
    "from Grid2OpPowsybl.src.Backend.PowsyblBackend import PowsyblBackend\n",
    "import os \n",
    "from pathlib import Path"
   ]
  },
  {
   "cell_type": "code",
   "execution_count": 26,
   "id": "427ecc47",
   "metadata": {},
   "outputs": [
    {
     "ename": "NameError",
     "evalue": "name '__file__' is not defined",
     "output_type": "error",
     "traceback": [
      "\u001b[1;31m---------------------------------------------------------------------------\u001b[0m",
      "\u001b[1;31mNameError\u001b[0m                                 Traceback (most recent call last)",
      "Cell \u001b[1;32mIn[26], line 1\u001b[0m\n\u001b[1;32m----> 1\u001b[0m os\u001b[38;5;241m.\u001b[39mfspath(Path(\u001b[38;5;18;43m__file__\u001b[39;49m)\u001b[38;5;241m.\u001b[39mparent\u001b[38;5;241m.\u001b[39mabsolute()\u001b[38;5;241m.\u001b[39mparent\u001b[38;5;241m.\u001b[39mabsolute())\n",
      "\u001b[1;31mNameError\u001b[0m: name '__file__' is not defined"
     ]
    }
   ],
   "source": [
    "os.fspath(Path(__file__).parent.absolute().parent.absolute())"
   ]
  },
  {
   "cell_type": "code",
   "execution_count": 32,
   "id": "7e0a2577",
   "metadata": {},
   "outputs": [],
   "source": [
    "backend = PowsyblBackend()"
   ]
  },
  {
   "cell_type": "code",
   "execution_count": 34,
   "id": "538525d5",
   "metadata": {},
   "outputs": [
    {
     "name": "stderr",
     "output_type": "stream",
     "text": [
      "<__array_function__ internals>:200: RuntimeWarning: invalid value encountered in cast\n"
     ]
    }
   ],
   "source": [
    "# backend = PowsyblBackend.load_grid('',os.path.join(os.getcwd(),'Grid2OpPowsybl\\src\\data_test\\test_case14.xiidm'))\n",
    "backend.load_grid('','Grid2OpPowsybl/src/data_test/test_case14.xiidm')"
   ]
  },
  {
   "cell_type": "code",
   "execution_count": 4,
   "id": "90d9d0f9",
   "metadata": {},
   "outputs": [
    {
     "ename": "NameError",
     "evalue": "name 'backend' is not defined",
     "output_type": "error",
     "traceback": [
      "\u001b[1;31m---------------------------------------------------------------------------\u001b[0m",
      "\u001b[1;31mNameError\u001b[0m                                 Traceback (most recent call last)",
      "Cell \u001b[1;32mIn[4], line 1\u001b[0m\n\u001b[1;32m----> 1\u001b[0m \u001b[38;5;28mtype\u001b[39m(\u001b[43mbackend\u001b[49m)\u001b[38;5;241m.\u001b[39mset_env_name(\u001b[38;5;124m\"\u001b[39m\u001b[38;5;124mBaseTestLoadingCase\u001b[39m\u001b[38;5;124m\"\u001b[39m)\n\u001b[0;32m      2\u001b[0m backend\u001b[38;5;241m.\u001b[39massert_grid_correct()\n",
      "\u001b[1;31mNameError\u001b[0m: name 'backend' is not defined"
     ]
    }
   ],
   "source": [
    "type(backend).set_env_name(\"BaseTestLoadingCase\")\n",
    "backend.assert_grid_correct()"
   ]
  }
 ],
 "metadata": {
  "kernelspec": {
   "display_name": "Python 3 (ipykernel)",
   "language": "python",
   "name": "python3"
  },
  "language_info": {
   "codemirror_mode": {
    "name": "ipython",
    "version": 3
   },
   "file_extension": ".py",
   "mimetype": "text/x-python",
   "name": "python",
   "nbconvert_exporter": "python",
   "pygments_lexer": "ipython3",
   "version": "3.10.10"
  }
 },
 "nbformat": 4,
 "nbformat_minor": 5
}
