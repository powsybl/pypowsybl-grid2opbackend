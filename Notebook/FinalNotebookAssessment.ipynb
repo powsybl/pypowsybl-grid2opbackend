{
 "cells": [
  {
   "cell_type": "markdown",
   "id": "2c5ebaea",
   "metadata": {},
   "source": [
    "# Notebook for delivering of the Airgo project"
   ]
  },
  {
   "cell_type": "markdown",
   "id": "e3b11d56",
   "metadata": {},
   "source": [
    "### Imports"
   ]
  },
  {
   "cell_type": "code",
   "execution_count": 1,
   "id": "7a5e376f",
   "metadata": {},
   "outputs": [
    {
     "name": "stderr",
     "output_type": "stream",
     "text": [
      "C:\\Users\\rtschupp\\AppData\\Local\\pypoetry\\Cache\\virtualenvs\\pypowsybltest-3L0u-b9v-py3.10\\lib\\site-packages\\grid2op\\Backend\\pandaPowerBackend.py:30: UserWarning: Numba cannot be loaded. You will gain possibly massive speed if installing it by \n",
      "\tC:\\Users\\rtschupp\\AppData\\Local\\pypoetry\\Cache\\virtualenvs\\pypowsybltest-3L0u-b9v-py3.10\\Scripts\\python.exe -m pip install numba\n",
      "\n",
      "  warnings.warn(\n"
     ]
    }
   ],
   "source": [
    "import grid2op\n",
    "from grid2op.Agent import TopologyGreedy, RecoPowerlineAgent\n",
    "from grid2op.Runner import Runner\n",
    "from grid2op.Reward import L2RPNReward\n",
    "\n",
    "import os\n",
    "import sys\n",
    "from pathlib import Path\n",
    "\n",
    "sys.path.insert(0, '../')\n",
    "\n",
    "import src\n",
    "\n",
    "from src.Backend.powsybl_backend import PowsyblBackend"
   ]
  },
  {
   "cell_type": "markdown",
   "id": "29e819d3",
   "metadata": {},
   "source": [
    "### Paths to the data"
   ]
  },
  {
   "cell_type": "code",
   "execution_count": 6,
   "id": "770f4d4a",
   "metadata": {},
   "outputs": [],
   "source": [
    "path = Path(os.getcwd())\n",
    "root_path = path.parent.absolute()\n",
    "ieee14_path = os.path.join(root_path,os.path.join(\"src\",os.path.join(\"data_test\",\"l2rpn_case14_sandbox_Pypowsybl\")))\n",
    "ieee1888_path = os.path.join(root_path,os.path.join(\"src\",os.path.join(\"data_test\",\"Test_1888rte\")))\n"
   ]
  },
  {
   "cell_type": "markdown",
   "id": "e2de236f",
   "metadata": {},
   "source": [
    "### Evaluation function"
   ]
  },
  {
   "cell_type": "code",
   "execution_count": 7,
   "id": "309102ba",
   "metadata": {},
   "outputs": [],
   "source": [
    "from l2rpn_baselines.utils import save_log_gif \n",
    "\n",
    "def evaluate(env,\n",
    "             grid2op_agent,\n",
    "             nb_episode=1,\n",
    "             nb_process=1,\n",
    "             max_steps=-1,\n",
    "             verbose=False,\n",
    "             save_gif=False,\n",
    "             logs_path=os.path.join(root_path,\"logs\")):\n",
    "    \n",
    "    if nb_episode == 0:\n",
    "        return grid2op_agent, []\n",
    "\n",
    "    # Build runner\n",
    "    runner_params = env.get_params_for_runner()\n",
    "    runner_params[\"verbose\"] = verbose\n",
    "    runner = Runner(**runner_params,\n",
    "                    agentClass=None,\n",
    "                    agentInstance=grid2op_agent)\n",
    "    \n",
    "    # Run the agent on the scenarios\n",
    "    if logs_path is not None:\n",
    "        os.makedirs(logs_path, exist_ok=True)\n",
    "\n",
    "    res = runner.run(path_save=logs_path,\n",
    "                     nb_episode=nb_episode,\n",
    "                     nb_process=nb_process,\n",
    "                     max_iter=max_steps,\n",
    "                     pbar=verbose,\n",
    "                     )\n",
    "\n",
    "    # Print summary\n",
    "    if verbose:\n",
    "        print(\"Evaluation summary:\")\n",
    "        for _, chron_name, cum_reward, nb_time_step, max_ts in res:\n",
    "            msg_tmp = \"chronics at: {}\".format(chron_name)\n",
    "            msg_tmp += \"\\ttotal score: {:.6f}\".format(cum_reward)\n",
    "            msg_tmp += \"\\ttime steps: {:.0f}/{:.0f}\".format(nb_time_step, max_ts)\n",
    "            print(msg_tmp)\n",
    "\n",
    "    if save_gif:\n",
    "        if verbose:\n",
    "            print(\"Saving the gif of the episodes\")\n",
    "        save_log_gif(logs_path, res)"
   ]
  },
  {
   "cell_type": "markdown",
   "id": "d1cfc86f",
   "metadata": {},
   "source": [
    "### Loading env and evaluation of an agent"
   ]
  },
  {
   "cell_type": "code",
   "execution_count": 9,
   "id": "637d8f92",
   "metadata": {},
   "outputs": [
    {
     "name": "stderr",
     "output_type": "stream",
     "text": [
      "C:\\Users\\rtschupp\\AppData\\Local\\pypoetry\\Cache\\virtualenvs\\pypowsybltest-3L0u-b9v-py3.10\\lib\\site-packages\\grid2op\\MakeEnv\\MakeFromPath.py:317: UserWarning: Impossible to load the coordinate of the substation with error: \"Grid2OpException EnvError \"Cannot find D:\\Projets\\AIRGo\\OfficialRepo\\pypowsybl-grid2opbackend\\src\\data_test\\Test_1888rte\\grid_layout.json. Dataset grid layout\"\". Expect some issue if you attempt to plot the grid.\n",
      "  warnings.warn(\n",
      "C:\\Users\\rtschupp\\AppData\\Local\\pypoetry\\Cache\\virtualenvs\\pypowsybltest-3L0u-b9v-py3.10\\lib\\site-packages\\grid2op\\MakeEnv\\MakeFromPath.py:347: UserWarning: Dataset D:\\Projets\\AIRGo\\OfficialRepo\\pypowsybl-grid2opbackend\\src\\data_test\\Test_1888rte\\config.py doesn't have a valid graph layout. Expect some failures when attempting to plot the grid. Error was: [Errno 2] No such file or directory: 'D:\\\\Projets\\\\AIRGo\\\\OfficialRepo\\\\pypowsybl-grid2opbackend\\\\src\\\\data_test\\\\Test_1888rte\\\\grid_layout.json'\n",
      "  warnings.warn(\n",
      "gen vm_pu < bus min_vm_pu for gens [ 58  82  87 182 214 246 264 265]. Setting bus limit for these gens.\n",
      "C:\\Users\\rtschupp\\AppData\\Local\\pypoetry\\Cache\\virtualenvs\\pypowsybltest-3L0u-b9v-py3.10\\lib\\site-packages\\numpy\\core\\numeric.py:330: RuntimeWarning: invalid value encountered in cast\n",
      "  multiarray.copyto(a, fill_value, casting='unsafe')\n",
      "C:\\Users\\rtschupp\\AppData\\Local\\pypoetry\\Cache\\virtualenvs\\pypowsybltest-3L0u-b9v-py3.10\\lib\\site-packages\\grid2op\\Environment\\environment.py:254: UserWarning: No layout have been found for you grid (or the layout provided was corrupted). You will not be able to use the renderer, plot the grid etc. The error was \"File D:\\Projets\\AIRGo\\OfficialRepo\\pypowsybl-grid2opbackend\\src\\data_test\\Test_1888rte\\grid_layout.json does not exist\"\n",
      "  warnings.warn(\n",
      "episode:   0%|                                                                                                                                                        | 0/1 [00:00<?, ?it/s]gen vm_pu < bus min_vm_pu for gens [ 58  82  87 182 214 246 264 265]. Setting bus limit for these gens.\n",
      "C:\\Users\\rtschupp\\AppData\\Local\\pypoetry\\Cache\\virtualenvs\\pypowsybltest-3L0u-b9v-py3.10\\lib\\site-packages\\numpy\\core\\numeric.py:330: RuntimeWarning: invalid value encountered in cast\n",
      "  multiarray.copyto(a, fill_value, casting='unsafe')\n",
      "episode:   0%|                                                                                                                                                        | 0/1 [00:06<?, ?it/s]\n"
     ]
    },
    {
     "ename": "Grid2OpException",
     "evalue": "Grid2OpException \"Impossible to initialize the powergrid, the powerflow diverge at iteration 0. Available information are: {'disc_lines': array([-1, -1, -1, ..., -1, -1, -1]), 'is_illegal': False, 'is_ambiguous': False, 'is_dispatching_illegal': False, 'is_illegal_reco': False, 'reason_alarm_illegal': None, 'reason_alert_illegal': None, 'opponent_attack_line': None, 'opponent_attack_sub': None, 'opponent_attack_duration': 0, 'exception': [Grid2OpException DivergingPowerFlow DivergingPowerFlow('Isolated load')], 'rewards': {}}\"",
     "output_type": "error",
     "traceback": [
      "\u001b[1;31m---------------------------------------------------------------------------\u001b[0m",
      "\u001b[1;31mGrid2OpException\u001b[0m                          Traceback (most recent call last)",
      "Cell \u001b[1;32mIn[9], line 8\u001b[0m\n\u001b[0;32m      1\u001b[0m env \u001b[38;5;241m=\u001b[39m grid2op\u001b[38;5;241m.\u001b[39mmake(\n\u001b[0;32m      2\u001b[0m \u001b[38;5;66;03m#         ieee14_path,\u001b[39;00m\n\u001b[0;32m      3\u001b[0m         ieee1888_path,\n\u001b[0;32m      4\u001b[0m         reward_class \u001b[38;5;241m=\u001b[39m L2RPNReward,\n\u001b[0;32m      5\u001b[0m         backend \u001b[38;5;241m=\u001b[39m PowsyblBackend(detailed_infos_for_cascading_failures\u001b[38;5;241m=\u001b[39m\u001b[38;5;28;01mFalse\u001b[39;00m)\n\u001b[0;32m      6\u001b[0m     )\n\u001b[1;32m----> 8\u001b[0m \u001b[43mevaluate\u001b[49m\u001b[43m(\u001b[49m\n\u001b[0;32m      9\u001b[0m \u001b[43m    \u001b[49m\u001b[43menv\u001b[49m\u001b[43m,\u001b[49m\n\u001b[0;32m     10\u001b[0m \u001b[43m    \u001b[49m\u001b[43mRecoPowerlineAgent\u001b[49m\u001b[43m(\u001b[49m\u001b[43menv\u001b[49m\u001b[38;5;241;43m.\u001b[39;49m\u001b[43maction_space\u001b[49m\u001b[43m)\u001b[49m\u001b[43m,\u001b[49m\n\u001b[0;32m     11\u001b[0m \u001b[43m    \u001b[49m\u001b[43mverbose\u001b[49m\u001b[38;5;241;43m=\u001b[39;49m\u001b[38;5;28;43;01mTrue\u001b[39;49;00m\u001b[43m,\u001b[49m\n\u001b[0;32m     12\u001b[0m \u001b[38;5;66;43;03m#     save_gif = True,\u001b[39;49;00m\n\u001b[0;32m     13\u001b[0m \u001b[43m    \u001b[49m\u001b[43mmax_steps\u001b[49m\u001b[38;5;241;43m=\u001b[39;49m\u001b[38;5;241;43m50\u001b[39;49m\u001b[43m,\u001b[49m\n\u001b[0;32m     14\u001b[0m \u001b[43m)\u001b[49m\n",
      "Cell \u001b[1;32mIn[7], line 26\u001b[0m, in \u001b[0;36mevaluate\u001b[1;34m(env, grid2op_agent, nb_episode, nb_process, max_steps, verbose, save_gif, logs_path)\u001b[0m\n\u001b[0;32m     23\u001b[0m \u001b[38;5;28;01mif\u001b[39;00m logs_path \u001b[38;5;129;01mis\u001b[39;00m \u001b[38;5;129;01mnot\u001b[39;00m \u001b[38;5;28;01mNone\u001b[39;00m:\n\u001b[0;32m     24\u001b[0m     os\u001b[38;5;241m.\u001b[39mmakedirs(logs_path, exist_ok\u001b[38;5;241m=\u001b[39m\u001b[38;5;28;01mTrue\u001b[39;00m)\n\u001b[1;32m---> 26\u001b[0m res \u001b[38;5;241m=\u001b[39m \u001b[43mrunner\u001b[49m\u001b[38;5;241;43m.\u001b[39;49m\u001b[43mrun\u001b[49m\u001b[43m(\u001b[49m\u001b[43mpath_save\u001b[49m\u001b[38;5;241;43m=\u001b[39;49m\u001b[43mlogs_path\u001b[49m\u001b[43m,\u001b[49m\n\u001b[0;32m     27\u001b[0m \u001b[43m                 \u001b[49m\u001b[43mnb_episode\u001b[49m\u001b[38;5;241;43m=\u001b[39;49m\u001b[43mnb_episode\u001b[49m\u001b[43m,\u001b[49m\n\u001b[0;32m     28\u001b[0m \u001b[43m                 \u001b[49m\u001b[43mnb_process\u001b[49m\u001b[38;5;241;43m=\u001b[39;49m\u001b[43mnb_process\u001b[49m\u001b[43m,\u001b[49m\n\u001b[0;32m     29\u001b[0m \u001b[43m                 \u001b[49m\u001b[43mmax_iter\u001b[49m\u001b[38;5;241;43m=\u001b[39;49m\u001b[43mmax_steps\u001b[49m\u001b[43m,\u001b[49m\n\u001b[0;32m     30\u001b[0m \u001b[43m                 \u001b[49m\u001b[43mpbar\u001b[49m\u001b[38;5;241;43m=\u001b[39;49m\u001b[43mverbose\u001b[49m\u001b[43m,\u001b[49m\n\u001b[0;32m     31\u001b[0m \u001b[43m                 \u001b[49m\u001b[43m)\u001b[49m\n\u001b[0;32m     33\u001b[0m \u001b[38;5;66;03m# Print summary\u001b[39;00m\n\u001b[0;32m     34\u001b[0m \u001b[38;5;28;01mif\u001b[39;00m verbose:\n",
      "File \u001b[1;32m~\\AppData\\Local\\pypoetry\\Cache\\virtualenvs\\pypowsybltest-3L0u-b9v-py3.10\\lib\\site-packages\\grid2op\\Runner\\runner.py:1227\u001b[0m, in \u001b[0;36mRunner.run\u001b[1;34m(self, nb_episode, nb_process, path_save, max_iter, pbar, env_seeds, agent_seeds, episode_id, add_detailed_output, add_nb_highres_sim)\u001b[0m\n\u001b[0;32m   1225\u001b[0m \u001b[38;5;28;01mif\u001b[39;00m nb_process \u001b[38;5;241m==\u001b[39m \u001b[38;5;241m1\u001b[39m:\n\u001b[0;32m   1226\u001b[0m     \u001b[38;5;28mself\u001b[39m\u001b[38;5;241m.\u001b[39mlogger\u001b[38;5;241m.\u001b[39minfo(\u001b[38;5;124m\"\u001b[39m\u001b[38;5;124mSequential runner used.\u001b[39m\u001b[38;5;124m\"\u001b[39m)\n\u001b[1;32m-> 1227\u001b[0m     res \u001b[38;5;241m=\u001b[39m \u001b[38;5;28;43mself\u001b[39;49m\u001b[38;5;241;43m.\u001b[39;49m\u001b[43m_run_sequential\u001b[49m\u001b[43m(\u001b[49m\n\u001b[0;32m   1228\u001b[0m \u001b[43m        \u001b[49m\u001b[43mnb_episode\u001b[49m\u001b[43m,\u001b[49m\n\u001b[0;32m   1229\u001b[0m \u001b[43m        \u001b[49m\u001b[43mpath_save\u001b[49m\u001b[38;5;241;43m=\u001b[39;49m\u001b[43mpath_save\u001b[49m\u001b[43m,\u001b[49m\n\u001b[0;32m   1230\u001b[0m \u001b[43m        \u001b[49m\u001b[43mpbar\u001b[49m\u001b[38;5;241;43m=\u001b[39;49m\u001b[43mpbar\u001b[49m\u001b[43m,\u001b[49m\n\u001b[0;32m   1231\u001b[0m \u001b[43m        \u001b[49m\u001b[43menv_seeds\u001b[49m\u001b[38;5;241;43m=\u001b[39;49m\u001b[43menv_seeds\u001b[49m\u001b[43m,\u001b[49m\n\u001b[0;32m   1232\u001b[0m \u001b[43m        \u001b[49m\u001b[43mmax_iter\u001b[49m\u001b[38;5;241;43m=\u001b[39;49m\u001b[43mmax_iter\u001b[49m\u001b[43m,\u001b[49m\n\u001b[0;32m   1233\u001b[0m \u001b[43m        \u001b[49m\u001b[43magent_seeds\u001b[49m\u001b[38;5;241;43m=\u001b[39;49m\u001b[43magent_seeds\u001b[49m\u001b[43m,\u001b[49m\n\u001b[0;32m   1234\u001b[0m \u001b[43m        \u001b[49m\u001b[43mepisode_id\u001b[49m\u001b[38;5;241;43m=\u001b[39;49m\u001b[43mepisode_id\u001b[49m\u001b[43m,\u001b[49m\n\u001b[0;32m   1235\u001b[0m \u001b[43m        \u001b[49m\u001b[43madd_detailed_output\u001b[49m\u001b[38;5;241;43m=\u001b[39;49m\u001b[43madd_detailed_output\u001b[49m\u001b[43m,\u001b[49m\n\u001b[0;32m   1236\u001b[0m \u001b[43m        \u001b[49m\u001b[43madd_nb_highres_sim\u001b[49m\u001b[38;5;241;43m=\u001b[39;49m\u001b[43madd_nb_highres_sim\u001b[49m\u001b[43m,\u001b[49m\n\u001b[0;32m   1237\u001b[0m \u001b[43m    \u001b[49m\u001b[43m)\u001b[49m\n\u001b[0;32m   1238\u001b[0m \u001b[38;5;28;01melse\u001b[39;00m:\n\u001b[0;32m   1239\u001b[0m     \u001b[38;5;28;01mif\u001b[39;00m add_detailed_output \u001b[38;5;129;01mand\u001b[39;00m (_IS_WINDOWS \u001b[38;5;129;01mor\u001b[39;00m _IS_MACOS):\n",
      "File \u001b[1;32m~\\AppData\\Local\\pypoetry\\Cache\\virtualenvs\\pypowsybltest-3L0u-b9v-py3.10\\lib\\site-packages\\grid2op\\Runner\\runner.py:846\u001b[0m, in \u001b[0;36mRunner._run_sequential\u001b[1;34m(self, nb_episode, path_save, pbar, env_seeds, agent_seeds, max_iter, episode_id, add_detailed_output, add_nb_highres_sim)\u001b[0m\n\u001b[0;32m    837\u001b[0m \u001b[38;5;28;01mif\u001b[39;00m episode_id \u001b[38;5;129;01mis\u001b[39;00m \u001b[38;5;129;01mnot\u001b[39;00m \u001b[38;5;28;01mNone\u001b[39;00m:\n\u001b[0;32m    838\u001b[0m     ep_id \u001b[38;5;241m=\u001b[39m episode_id[i]  \u001b[38;5;66;03m# otherwise i use the provided one\u001b[39;00m\n\u001b[0;32m    839\u001b[0m (\n\u001b[0;32m    840\u001b[0m     name_chron,\n\u001b[0;32m    841\u001b[0m     cum_reward,\n\u001b[0;32m    842\u001b[0m     nb_time_step,\n\u001b[0;32m    843\u001b[0m     max_ts,\n\u001b[0;32m    844\u001b[0m     episode_data,\n\u001b[0;32m    845\u001b[0m     nb_call_highres_sim,\n\u001b[1;32m--> 846\u001b[0m ) \u001b[38;5;241m=\u001b[39m \u001b[38;5;28;43mself\u001b[39;49m\u001b[38;5;241;43m.\u001b[39;49m\u001b[43mrun_one_episode\u001b[49m\u001b[43m(\u001b[49m\n\u001b[0;32m    847\u001b[0m \u001b[43m    \u001b[49m\u001b[43mpath_save\u001b[49m\u001b[38;5;241;43m=\u001b[39;49m\u001b[43mpath_save\u001b[49m\u001b[43m,\u001b[49m\n\u001b[0;32m    848\u001b[0m \u001b[43m    \u001b[49m\u001b[43mindx\u001b[49m\u001b[38;5;241;43m=\u001b[39;49m\u001b[43mep_id\u001b[49m\u001b[43m,\u001b[49m\n\u001b[0;32m    849\u001b[0m \u001b[43m    \u001b[49m\u001b[43mpbar\u001b[49m\u001b[38;5;241;43m=\u001b[39;49m\u001b[43mnext_pbar\u001b[49m\u001b[43m[\u001b[49m\u001b[38;5;241;43m0\u001b[39;49m\u001b[43m]\u001b[49m\u001b[43m,\u001b[49m\n\u001b[0;32m    850\u001b[0m \u001b[43m    \u001b[49m\u001b[43menv_seed\u001b[49m\u001b[38;5;241;43m=\u001b[39;49m\u001b[43menv_seed\u001b[49m\u001b[43m,\u001b[49m\n\u001b[0;32m    851\u001b[0m \u001b[43m    \u001b[49m\u001b[43magent_seed\u001b[49m\u001b[38;5;241;43m=\u001b[39;49m\u001b[43magt_seed\u001b[49m\u001b[43m,\u001b[49m\n\u001b[0;32m    852\u001b[0m \u001b[43m    \u001b[49m\u001b[43mmax_iter\u001b[49m\u001b[38;5;241;43m=\u001b[39;49m\u001b[43mmax_iter\u001b[49m\u001b[43m,\u001b[49m\n\u001b[0;32m    853\u001b[0m \u001b[43m    \u001b[49m\u001b[43mdetailed_output\u001b[49m\u001b[38;5;241;43m=\u001b[39;49m\u001b[38;5;28;43;01mTrue\u001b[39;49;00m\u001b[43m,\u001b[49m\n\u001b[0;32m    854\u001b[0m \u001b[43m    \u001b[49m\u001b[43madd_nb_highres_sim\u001b[49m\u001b[38;5;241;43m=\u001b[39;49m\u001b[38;5;28;43;01mTrue\u001b[39;49;00m\n\u001b[0;32m    855\u001b[0m \u001b[43m\u001b[49m\u001b[43m)\u001b[49m\n\u001b[0;32m    856\u001b[0m id_chron \u001b[38;5;241m=\u001b[39m \u001b[38;5;28mself\u001b[39m\u001b[38;5;241m.\u001b[39mchronics_handler\u001b[38;5;241m.\u001b[39mget_id()\n\u001b[0;32m    857\u001b[0m res[i] \u001b[38;5;241m=\u001b[39m (id_chron,\n\u001b[0;32m    858\u001b[0m           name_chron,\n\u001b[0;32m    859\u001b[0m           \u001b[38;5;28mfloat\u001b[39m(cum_reward),\n\u001b[0;32m    860\u001b[0m           nb_time_step,\n\u001b[0;32m    861\u001b[0m           max_ts\n\u001b[0;32m    862\u001b[0m           )\n",
      "File \u001b[1;32m~\\AppData\\Local\\pypoetry\\Cache\\virtualenvs\\pypowsybltest-3L0u-b9v-py3.10\\lib\\site-packages\\grid2op\\Runner\\runner.py:738\u001b[0m, in \u001b[0;36mRunner.run_one_episode\u001b[1;34m(self, indx, path_save, pbar, env_seed, max_iter, agent_seed, episode_id, detailed_output, add_nb_highres_sim)\u001b[0m\n\u001b[0;32m    736\u001b[0m \u001b[38;5;28mself\u001b[39m\u001b[38;5;241m.\u001b[39mreset()\n\u001b[0;32m    737\u001b[0m \u001b[38;5;28;01mwith\u001b[39;00m \u001b[38;5;28mself\u001b[39m\u001b[38;5;241m.\u001b[39minit_env() \u001b[38;5;28;01mas\u001b[39;00m env:\n\u001b[1;32m--> 738\u001b[0m     res \u001b[38;5;241m=\u001b[39m \u001b[43m_aux_run_one_episode\u001b[49m\u001b[43m(\u001b[49m\n\u001b[0;32m    739\u001b[0m \u001b[43m        \u001b[49m\u001b[43menv\u001b[49m\u001b[43m,\u001b[49m\n\u001b[0;32m    740\u001b[0m \u001b[43m        \u001b[49m\u001b[38;5;28;43mself\u001b[39;49m\u001b[38;5;241;43m.\u001b[39;49m\u001b[43magent\u001b[49m\u001b[43m,\u001b[49m\n\u001b[0;32m    741\u001b[0m \u001b[43m        \u001b[49m\u001b[38;5;28;43mself\u001b[39;49m\u001b[38;5;241;43m.\u001b[39;49m\u001b[43mlogger\u001b[49m\u001b[43m,\u001b[49m\n\u001b[0;32m    742\u001b[0m \u001b[43m        \u001b[49m\u001b[43mindx\u001b[49m\u001b[43m,\u001b[49m\n\u001b[0;32m    743\u001b[0m \u001b[43m        \u001b[49m\u001b[43mpath_save\u001b[49m\u001b[43m,\u001b[49m\n\u001b[0;32m    744\u001b[0m \u001b[43m        \u001b[49m\u001b[43mpbar\u001b[49m\u001b[38;5;241;43m=\u001b[39;49m\u001b[43mpbar\u001b[49m\u001b[43m,\u001b[49m\n\u001b[0;32m    745\u001b[0m \u001b[43m        \u001b[49m\u001b[43menv_seed\u001b[49m\u001b[38;5;241;43m=\u001b[39;49m\u001b[43menv_seed\u001b[49m\u001b[43m,\u001b[49m\n\u001b[0;32m    746\u001b[0m \u001b[43m        \u001b[49m\u001b[43mmax_iter\u001b[49m\u001b[38;5;241;43m=\u001b[39;49m\u001b[43mmax_iter\u001b[49m\u001b[43m,\u001b[49m\n\u001b[0;32m    747\u001b[0m \u001b[43m        \u001b[49m\u001b[43magent_seed\u001b[49m\u001b[38;5;241;43m=\u001b[39;49m\u001b[43magent_seed\u001b[49m\u001b[43m,\u001b[49m\n\u001b[0;32m    748\u001b[0m \u001b[43m        \u001b[49m\u001b[43mdetailed_output\u001b[49m\u001b[38;5;241;43m=\u001b[39;49m\u001b[43mdetailed_output\u001b[49m\u001b[43m,\u001b[49m\n\u001b[0;32m    749\u001b[0m \u001b[43m    \u001b[49m\u001b[43m)\u001b[49m\n\u001b[0;32m    750\u001b[0m     \u001b[38;5;28;01mif\u001b[39;00m max_iter \u001b[38;5;129;01mis\u001b[39;00m \u001b[38;5;129;01mnot\u001b[39;00m \u001b[38;5;28;01mNone\u001b[39;00m:\n\u001b[0;32m    751\u001b[0m         env\u001b[38;5;241m.\u001b[39mchronics_handler\u001b[38;5;241m.\u001b[39mset_max_iter(\u001b[38;5;241m-\u001b[39m\u001b[38;5;241m1\u001b[39m)\n",
      "File \u001b[1;32m~\\AppData\\Local\\pypoetry\\Cache\\virtualenvs\\pypowsybltest-3L0u-b9v-py3.10\\lib\\site-packages\\grid2op\\Runner\\aux_fun.py:124\u001b[0m, in \u001b[0;36m_aux_run_one_episode\u001b[1;34m(env, agent, logger, indx, path_save, pbar, env_seed, agent_seed, max_iter, detailed_output)\u001b[0m\n\u001b[0;32m    121\u001b[0m     env\u001b[38;5;241m.\u001b[39mchronics_handler\u001b[38;5;241m.\u001b[39mset_max_iter(max_iter)\n\u001b[0;32m    123\u001b[0m \u001b[38;5;66;03m# reset it\u001b[39;00m\n\u001b[1;32m--> 124\u001b[0m obs \u001b[38;5;241m=\u001b[39m \u001b[43menv\u001b[49m\u001b[38;5;241;43m.\u001b[39;49m\u001b[43mreset\u001b[49m\u001b[43m(\u001b[49m\u001b[43m)\u001b[49m\n\u001b[0;32m    125\u001b[0m \u001b[38;5;66;03m# reset the number of calls to high resolution simulator\u001b[39;00m\n\u001b[0;32m    126\u001b[0m env\u001b[38;5;241m.\u001b[39m_highres_sim_counter\u001b[38;5;241m.\u001b[39m_HighResSimCounter__nb_highres_called \u001b[38;5;241m=\u001b[39m \u001b[38;5;241m0\u001b[39m\n",
      "File \u001b[1;32m~\\AppData\\Local\\pypoetry\\Cache\\virtualenvs\\pypowsybltest-3L0u-b9v-py3.10\\lib\\site-packages\\grid2op\\Environment\\environment.py:909\u001b[0m, in \u001b[0;36mEnvironment.reset\u001b[1;34m(self)\u001b[0m\n\u001b[0;32m    907\u001b[0m \u001b[38;5;28mself\u001b[39m\u001b[38;5;241m.\u001b[39m_reset_redispatching()\n\u001b[0;32m    908\u001b[0m \u001b[38;5;28mself\u001b[39m\u001b[38;5;241m.\u001b[39m_reset_vectors_and_timings()  \u001b[38;5;66;03m# it need to be done BEFORE to prevent cascading failure when there has been\u001b[39;00m\n\u001b[1;32m--> 909\u001b[0m \u001b[38;5;28;43mself\u001b[39;49m\u001b[38;5;241;43m.\u001b[39;49m\u001b[43mreset_grid\u001b[49m\u001b[43m(\u001b[49m\u001b[43m)\u001b[49m\n\u001b[0;32m    910\u001b[0m \u001b[38;5;28;01mif\u001b[39;00m \u001b[38;5;28mself\u001b[39m\u001b[38;5;241m.\u001b[39mviewer_fig \u001b[38;5;129;01mis\u001b[39;00m \u001b[38;5;129;01mnot\u001b[39;00m \u001b[38;5;28;01mNone\u001b[39;00m:\n\u001b[0;32m    911\u001b[0m     \u001b[38;5;28;01mdel\u001b[39;00m \u001b[38;5;28mself\u001b[39m\u001b[38;5;241m.\u001b[39mviewer_fig\n",
      "File \u001b[1;32m~\\AppData\\Local\\pypoetry\\Cache\\virtualenvs\\pypowsybltest-3L0u-b9v-py3.10\\lib\\site-packages\\grid2op\\Environment\\environment.py:844\u001b[0m, in \u001b[0;36mEnvironment.reset_grid\u001b[1;34m(self)\u001b[0m\n\u001b[0;32m    842\u001b[0m \u001b[38;5;241m*\u001b[39m_, fail_to_start, info \u001b[38;5;241m=\u001b[39m \u001b[38;5;28mself\u001b[39m\u001b[38;5;241m.\u001b[39mstep(do_nothing)\n\u001b[0;32m    843\u001b[0m \u001b[38;5;28;01mif\u001b[39;00m fail_to_start:\n\u001b[1;32m--> 844\u001b[0m     \u001b[38;5;28;01mraise\u001b[39;00m Grid2OpException(\n\u001b[0;32m    845\u001b[0m         \u001b[38;5;124m\"\u001b[39m\u001b[38;5;124mImpossible to initialize the powergrid, the powerflow diverge at iteration 0. \u001b[39m\u001b[38;5;124m\"\u001b[39m\n\u001b[0;32m    846\u001b[0m         \u001b[38;5;124m\"\u001b[39m\u001b[38;5;124mAvailable information are: \u001b[39m\u001b[38;5;132;01m{}\u001b[39;00m\u001b[38;5;124m\"\u001b[39m\u001b[38;5;241m.\u001b[39mformat(info)\n\u001b[0;32m    847\u001b[0m     )\n\u001b[0;32m    849\u001b[0m \u001b[38;5;66;03m# assign the right\u001b[39;00m\n\u001b[0;32m    850\u001b[0m \u001b[38;5;28mself\u001b[39m\u001b[38;5;241m.\u001b[39m_observation_space\u001b[38;5;241m.\u001b[39mset_real_env_kwargs(\u001b[38;5;28mself\u001b[39m)\n",
      "\u001b[1;31mGrid2OpException\u001b[0m: Grid2OpException \"Impossible to initialize the powergrid, the powerflow diverge at iteration 0. Available information are: {'disc_lines': array([-1, -1, -1, ..., -1, -1, -1]), 'is_illegal': False, 'is_ambiguous': False, 'is_dispatching_illegal': False, 'is_illegal_reco': False, 'reason_alarm_illegal': None, 'reason_alert_illegal': None, 'opponent_attack_line': None, 'opponent_attack_sub': None, 'opponent_attack_duration': 0, 'exception': [Grid2OpException DivergingPowerFlow DivergingPowerFlow('Isolated load')], 'rewards': {}}\""
     ]
    }
   ],
   "source": [
    "env = grid2op.make(\n",
    "#         ieee14_path,\n",
    "        ieee1888_path,\n",
    "        reward_class = L2RPNReward,\n",
    "        backend = PowsyblBackend(detailed_infos_for_cascading_failures=False)\n",
    "    )\n",
    "\n",
    "evaluate(\n",
    "    env,\n",
    "    RecoPowerlineAgent(env.action_space),\n",
    "    verbose=True,\n",
    "#     save_gif = True,\n",
    "    max_steps=50,\n",
    ")"
   ]
  }
 ],
 "metadata": {
  "kernelspec": {
   "display_name": "Python 3 (ipykernel)",
   "language": "python",
   "name": "python3"
  },
  "language_info": {
   "codemirror_mode": {
    "name": "ipython",
    "version": 3
   },
   "file_extension": ".py",
   "mimetype": "text/x-python",
   "name": "python",
   "nbconvert_exporter": "python",
   "pygments_lexer": "ipython3",
   "version": "3.10.10"
  }
 },
 "nbformat": 4,
 "nbformat_minor": 5
}
