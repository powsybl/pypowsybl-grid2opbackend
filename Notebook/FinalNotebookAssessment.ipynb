{
 "cells": [
  {
   "cell_type": "markdown",
   "id": "2c5ebaea",
   "metadata": {},
   "source": [
    "# Notebook for delivering of the Airgo project"
   ]
  },
  {
   "cell_type": "markdown",
   "id": "e3b11d56",
   "metadata": {},
   "source": [
    "### Imports"
   ]
  },
  {
   "cell_type": "code",
   "execution_count": null,
   "id": "7a5e376f",
   "metadata": {},
   "outputs": [],
   "source": [
    "import grid2op\n",
    "from grid2op.Agent import TopologyGreedy, RecoPowerlineAgent\n",
    "from grid2op.Runner import Runner\n",
    "from grid2op.Reward import L2RPNReward\n",
    "\n",
    "import os\n",
    "import sys\n",
    "from pathlib import Path\n",
    "\n",
    "sys.path.insert(0, '../')\n",
    "\n",
    "import src\n",
    "\n",
    "from src.Backend.powsybl_backend import PowsyblBackend"
   ]
  },
  {
   "cell_type": "markdown",
   "id": "29e819d3",
   "metadata": {},
   "source": [
    "### Paths to the data"
   ]
  },
  {
   "cell_type": "code",
   "execution_count": null,
   "id": "770f4d4a",
   "metadata": {},
   "outputs": [],
   "source": [
    "path = Path(os.getcwd())\n",
    "root_path = path.parent.absolute()\n",
    "ieee14_path = os.path.join(root_path,os.path.join(\"src\",os.path.join(\"data_test\",\"l2rpn_case14_sandbox_Pypowsybl\")))\n",
    "ieee1888_path = os.path.join(root_path,os.path.join(\"src\",os.path.join(\"data_test\",\"case1888rte_Artelys_v1\")))\n"
   ]
  },
  {
   "cell_type": "markdown",
   "id": "e2de236f",
   "metadata": {},
   "source": [
    "### Evaluation function"
   ]
  },
  {
   "cell_type": "code",
   "execution_count": null,
   "id": "309102ba",
   "metadata": {},
   "outputs": [],
   "source": [
    "from l2rpn_baselines.utils import save_log_gif \n",
    "\n",
    "def evaluate(env,\n",
    "             grid2op_agent,\n",
    "             nb_episode=1,\n",
    "             nb_process=1,\n",
    "             max_steps=-1,\n",
    "             verbose=False,\n",
    "             save_gif=False,\n",
    "             logs_path=os.path.join(root_path,\"logs\")):\n",
    "    \n",
    "    if nb_episode == 0:\n",
    "        return grid2op_agent, []\n",
    "\n",
    "    # Build runner\n",
    "    runner_params = env.get_params_for_runner()\n",
    "    runner_params[\"verbose\"] = verbose\n",
    "    runner = Runner(**runner_params,\n",
    "                    agentClass=None,\n",
    "                    agentInstance=grid2op_agent)\n",
    "    \n",
    "    # Run the agent on the scenarios\n",
    "    if logs_path is not None:\n",
    "        os.makedirs(logs_path, exist_ok=True)\n",
    "\n",
    "    res = runner.run(path_save=logs_path,\n",
    "                     nb_episode=nb_episode,\n",
    "                     nb_process=nb_process,\n",
    "                     max_iter=max_steps,\n",
    "                     pbar=verbose,\n",
    "                     )\n",
    "\n",
    "    # Print summary\n",
    "    if verbose:\n",
    "        print(\"Evaluation summary:\")\n",
    "        for _, chron_name, cum_reward, nb_time_step, max_ts in res:\n",
    "            msg_tmp = \"chronics at: {}\".format(chron_name)\n",
    "            msg_tmp += \"\\ttotal score: {:.6f}\".format(cum_reward)\n",
    "            msg_tmp += \"\\ttime steps: {:.0f}/{:.0f}\".format(nb_time_step, max_ts)\n",
    "            print(msg_tmp)\n",
    "\n",
    "    if save_gif:\n",
    "        if verbose:\n",
    "            print(\"Saving the gif of the episodes\")\n",
    "        save_log_gif(logs_path, res)"
   ]
  },
  {
   "cell_type": "markdown",
   "id": "d1cfc86f",
   "metadata": {},
   "source": [
    "### Loading env and evaluation of an agent"
   ]
  },
  {
   "cell_type": "code",
   "execution_count": null,
   "id": "637d8f92",
   "metadata": {},
   "outputs": [],
   "source": [
    "env = grid2op.make(\n",
    "#         ieee14_path,\n",
    "        ieee1888_path,\n",
    "        reward_class = L2RPNReward,\n",
    "        backend = PowsyblBackend(detailed_infos_for_cascading_failures=False)\n",
    "    )\n",
    "\n",
    "evaluate(\n",
    "    env,\n",
    "    RecoPowerlineAgent(env.action_space),\n",
    "    verbose=True,\n",
    "    nb_episode=4,\n",
    "#     save_gif = True,\n",
    "    max_steps=50,\n",
    ")"
   ]
  },
  {
   "cell_type": "code",
   "execution_count": null,
   "metadata": {},
   "outputs": [],
   "source": []
  }
 ],
 "metadata": {
  "kernelspec": {
   "display_name": "Python 3 (ipykernel)",
   "language": "python",
   "name": "python3"
  },
  "language_info": {
   "codemirror_mode": {
    "name": "ipython",
    "version": 3
   },
   "file_extension": ".py",
   "mimetype": "text/x-python",
   "name": "python",
   "nbconvert_exporter": "python",
   "pygments_lexer": "ipython3",
   "version": "3.9.0"
  }
 },
 "nbformat": 4,
 "nbformat_minor": 5
}
