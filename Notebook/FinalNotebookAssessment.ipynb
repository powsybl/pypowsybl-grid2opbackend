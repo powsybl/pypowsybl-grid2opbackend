{
 "cells": [
  {
   "cell_type": "markdown",
   "id": "2c5ebaea",
   "metadata": {},
   "source": [
    "# Notebook for delivering of the Airgo project"
   ]
  },
  {
   "cell_type": "markdown",
   "id": "e80f91ad",
   "metadata": {},
   "source": [
    "*This Jupyter Notebook is part of a project that has received funding from the European Union’s Horizon 2020 research and innovation programme under grant agreement No 101016508.*"
   ]
  },
  {
   "cell_type": "code",
   "execution_count": 1,
   "id": "6046ce4d",
   "metadata": {},
   "outputs": [
    {
     "data": {
      "image/png": "[encoded data removed]",
      "text/plain": [
       "<IPython.core.display.Image object>"
      ]
     },
     "execution_count": 1,
     "metadata": {},
     "output_type": "execute_result"
    }
   ],
   "source": [
    "from IPython import display\n",
    "display.Image(\"../logos/i-nergy_logo.png\")"
   ]
  },
  {
   "cell_type": "markdown",
   "id": "e3b11d56",
   "metadata": {},
   "source": [
    "### Imports"
   ]
  },
  {
   "cell_type": "code",
   "execution_count": 2,
   "id": "7a5e376f",
   "metadata": {},
   "outputs": [
    {
     "name": "stderr",
     "output_type": "stream",
     "text": [
      "C:\\Users\\rtschupp\\AppData\\Local\\pypoetry\\Cache\\virtualenvs\\pypowsybltest-3L0u-b9v-py3.10\\lib\\site-packages\\grid2op\\Backend\\pandaPowerBackend.py:30: UserWarning: Numba cannot be loaded. You will gain possibly massive speed if installing it by \n",
      "\tC:\\Users\\rtschupp\\AppData\\Local\\pypoetry\\Cache\\virtualenvs\\pypowsybltest-3L0u-b9v-py3.10\\Scripts\\python.exe -m pip install numba\n",
      "\n",
      "  warnings.warn(\n"
     ]
    }
   ],
   "source": [
    "import grid2op\n",
    "from grid2op.Agent import TopologyGreedy, RecoPowerlineAgent, OneChangeThenNothing\n",
    "from grid2op.Runner import Runner\n",
    "from grid2op.Reward import L2RPNReward\n",
    "\n",
    "import os\n",
    "import sys\n",
    "from pathlib import Path\n",
    "\n",
    "sys.path.insert(0, '../')\n",
    "\n",
    "from pypowsybl_grid2opbackend.Backend.powsybl_backend import PowsyblBackend"
   ]
  },
  {
   "cell_type": "markdown",
   "id": "29e819d3",
   "metadata": {},
   "source": [
    "### Paths to the data"
   ]
  },
  {
   "cell_type": "code",
   "execution_count": 6,
   "id": "770f4d4a",
   "metadata": {},
   "outputs": [],
   "source": [
    "path = Path(os.getcwd())\n",
    "root_path = path.parent.absolute()\n",
    "ieee1888_path = os.path.join(root_path,\"case1888rte\")"
   ]
  },
  {
   "cell_type": "markdown",
   "id": "e2de236f",
   "metadata": {},
   "source": [
    "### Evaluation function"
   ]
  },
  {
   "cell_type": "code",
   "execution_count": 7,
   "id": "309102ba",
   "metadata": {},
   "outputs": [],
   "source": [
    "from l2rpn_baselines.utils import save_log_gif \n",
    "\n",
    "def evaluate(env,\n",
    "             grid2op_agent,\n",
    "             nb_episode=1,\n",
    "             nb_process=1,\n",
    "             max_steps=-1,\n",
    "             verbose=False,\n",
    "             save_gif=False,\n",
    "             logs_path=os.path.join(root_path,\"logs\")):\n",
    "    \n",
    "    if nb_episode == 0:\n",
    "        return grid2op_agent, []\n",
    "\n",
    "    # Build runner\n",
    "    runner_params = env.get_params_for_runner()\n",
    "    runner_params[\"verbose\"] = verbose\n",
    "    runner = Runner(**runner_params,\n",
    "                    agentClass=None,\n",
    "                    agentInstance=grid2op_agent)\n",
    "    \n",
    "    # Run the agent on the scenarios\n",
    "    if logs_path is not None:\n",
    "        os.makedirs(logs_path, exist_ok=True)\n",
    "\n",
    "    res = runner.run(path_save=logs_path,\n",
    "                     nb_episode=nb_episode,\n",
    "                     nb_process=nb_process,\n",
    "                     max_iter=max_steps,\n",
    "                     pbar=verbose,\n",
    "                     )\n",
    "\n",
    "    # Print summary\n",
    "    if verbose:\n",
    "        print(\"Evaluation summary:\")\n",
    "        for _, chron_name, cum_reward, nb_time_step, max_ts in res:\n",
    "            msg_tmp = \"chronics at: {}\".format(chron_name)\n",
    "            msg_tmp += \"\\ttotal score: {:.6f}\".format(cum_reward)\n",
    "            msg_tmp += \"\\ttime steps: {:.0f}/{:.0f}\".format(nb_time_step, max_ts)\n",
    "            print(msg_tmp)\n",
    "\n",
    "    if save_gif:\n",
    "        if verbose:\n",
    "            print(\"Saving the gif of the episodes\")\n",
    "        save_log_gif(logs_path, res)"
   ]
  },
  {
   "cell_type": "markdown",
   "id": "4957db1d",
   "metadata": {},
   "source": [
    "### Loading environment"
   ]
  },
  {
   "cell_type": "code",
   "execution_count": 8,
   "id": "91800a4e",
   "metadata": {},
   "outputs": [
    {
     "name": "stderr",
     "output_type": "stream",
     "text": [
      "C:\\Users\\rtschupp\\AppData\\Local\\pypoetry\\Cache\\virtualenvs\\pypowsybltest-3L0u-b9v-py3.10\\lib\\site-packages\\grid2op\\MakeEnv\\MakeFromPath.py:317: UserWarning: Impossible to load the coordinate of the substation with error: \"Grid2OpException EnvError \"Cannot find D:\\Projets\\AIRGo\\OfficialRepo\\pypowsybl-grid2opbackend\\case1888rte\\grid_layout.json. Dataset grid layout\"\". Expect some issue if you attempt to plot the grid.\n",
      "  warnings.warn(\n",
      "C:\\Users\\rtschupp\\AppData\\Local\\pypoetry\\Cache\\virtualenvs\\pypowsybltest-3L0u-b9v-py3.10\\lib\\site-packages\\grid2op\\MakeEnv\\MakeFromPath.py:347: UserWarning: Dataset D:\\Projets\\AIRGo\\OfficialRepo\\pypowsybl-grid2opbackend\\case1888rte\\config.py doesn't have a valid graph layout. Expect some failures when attempting to plot the grid. Error was: [Errno 2] No such file or directory: 'D:\\\\Projets\\\\AIRGo\\\\OfficialRepo\\\\pypowsybl-grid2opbackend\\\\case1888rte\\\\grid_layout.json'\n",
      "  warnings.warn(\n",
      "gen vm_pu < bus min_vm_pu for gens [ 58  82  87 182 214 246 264 265]. Setting bus limit for these gens.\n",
      "C:\\Users\\rtschupp\\AppData\\Local\\pypoetry\\Cache\\virtualenvs\\pypowsybltest-3L0u-b9v-py3.10\\lib\\site-packages\\numpy\\core\\numeric.py:330: RuntimeWarning: invalid value encountered in cast\n",
      "  multiarray.copyto(a, fill_value, casting='unsafe')\n",
      "C:\\Users\\rtschupp\\AppData\\Local\\pypoetry\\Cache\\virtualenvs\\pypowsybltest-3L0u-b9v-py3.10\\lib\\site-packages\\grid2op\\Environment\\environment.py:254: UserWarning: No layout have been found for you grid (or the layout provided was corrupted). You will not be able to use the renderer, plot the grid etc. The error was \"File D:\\Projets\\AIRGo\\OfficialRepo\\pypowsybl-grid2opbackend\\case1888rte\\grid_layout.json does not exist\"\n",
      "  warnings.warn(\n"
     ]
    }
   ],
   "source": [
    "env = grid2op.make(\n",
    "        ieee1888_path,\n",
    "        reward_class = L2RPNReward,\n",
    "        backend = PowsyblBackend(detailed_infos_for_cascading_failures=False)\n",
    "    )"
   ]
  },
  {
   "cell_type": "markdown",
   "id": "bd49d75e",
   "metadata": {},
   "source": [
    "### Agent initialization"
   ]
  },
  {
   "cell_type": "code",
   "execution_count": 9,
   "id": "9288990d",
   "metadata": {},
   "outputs": [
    {
     "data": {
      "text/plain": [
       "grid2op.Agent.oneChangeThenNothing.OneChangeThenNothing"
      ]
     },
     "execution_count": 9,
     "metadata": {},
     "output_type": "execute_result"
    }
   ],
   "source": [
    "acts_dict = {\n",
    "    \"set_bus\": {\n",
    "        \"lines_or_id\": [(3,2),(4,2)],\n",
    "        \"loads_id\": [(0,2)],\n",
    "        \"generators_id\": [(1,2)]\n",
    "    }\n",
    "}\n",
    "\n",
    "one_change_then_nothing = OneChangeThenNothing(env.action_space)\n",
    "one_change_then_nothing.gen_next(acts_dict)"
   ]
  },
  {
   "cell_type": "markdown",
   "id": "d1cfc86f",
   "metadata": {},
   "source": [
    "### Evaluation of an agent"
   ]
  },
  {
   "cell_type": "code",
   "execution_count": 10,
   "id": "637d8f92",
   "metadata": {
    "scrolled": false
   },
   "outputs": [
    {
     "name": "stderr",
     "output_type": "stream",
     "text": [
      "episode:   0%|                                                                                                                                                        | 0/4 [00:00<?, ?it/s]gen vm_pu < bus min_vm_pu for gens [ 58  82  87 182 214 246 264 265]. Setting bus limit for these gens.\n",
      "C:\\Users\\rtschupp\\AppData\\Local\\pypoetry\\Cache\\virtualenvs\\pypowsybltest-3L0u-b9v-py3.10\\lib\\site-packages\\numpy\\core\\numeric.py:330: RuntimeWarning: invalid value encountered in cast\n",
      "  multiarray.copyto(a, fill_value, casting='unsafe')\n",
      "\n",
      "episode:   0%|                                                                                                                                                       | 0/50 [00:00<?, ?it/s]\u001b[A\n",
      "episode:   2%|██▊                                                                                                                                            | 1/50 [00:00<00:23,  2.09it/s]\u001b[A\n",
      "episode:   4%|█████▋                                                                                                                                         | 2/50 [00:00<00:23,  2.07it/s]\u001b[A\n",
      "episode:   6%|████████▌                                                                                                                                      | 3/50 [00:01<00:23,  1.98it/s]\u001b[A\n",
      "episode:   8%|███████████▍                                                                                                                                   | 4/50 [00:02<00:23,  1.94it/s]\u001b[A\n",
      "episode:  10%|██████████████▎                                                                                                                                | 5/50 [00:02<00:25,  1.75it/s]\u001b[A\n",
      "episode:  12%|█████████████████▏                                                                                                                             | 6/50 [00:03<00:23,  1.88it/s]\u001b[A\n",
      "episode:  14%|████████████████████                                                                                                                           | 7/50 [00:03<00:22,  1.95it/s]\u001b[A\n",
      "episode:  16%|██████████████████████▉                                                                                                                        | 8/50 [00:04<00:20,  2.01it/s]\u001b[A\n",
      "episode:  18%|█████████████████████████▋                                                                                                                     | 9/50 [00:04<00:22,  1.79it/s]\u001b[A\n",
      "episode:  20%|████████████████████████████▍                                                                                                                 | 10/50 [00:05<00:21,  1.85it/s]\u001b[A\n",
      "episode:  22%|███████████████████████████████▏                                                                                                              | 11/50 [00:05<00:20,  1.90it/s]\u001b[A\n",
      "episode:  24%|██████████████████████████████████                                                                                                            | 12/50 [00:06<00:19,  1.92it/s]\u001b[A\n",
      "episode:  26%|████████████████████████████████████▉                                                                                                         | 13/50 [00:06<00:20,  1.78it/s]\u001b[A\n",
      "episode:  28%|███████████████████████████████████████▊                                                                                                      | 14/50 [00:07<00:18,  1.90it/s]\u001b[A\n",
      "episode:  30%|██████████████████████████████████████████▌                                                                                                   | 15/50 [00:07<00:17,  1.97it/s]\u001b[A\n",
      "episode:  32%|█████████████████████████████████████████████▍                                                                                                | 16/50 [00:08<00:16,  2.02it/s]\u001b[A\n",
      "episode:  34%|████████████████████████████████████████████████▎                                                                                             | 17/50 [00:08<00:17,  1.88it/s]\u001b[A\n",
      "episode:  36%|███████████████████████████████████████████████████                                                                                           | 18/50 [00:09<00:16,  1.96it/s]\u001b[A\n",
      "episode:  38%|█████████████████████████████████████████████████████▉                                                                                        | 19/50 [00:09<00:15,  2.02it/s]\u001b[A\n",
      "episode:  40%|████████████████████████████████████████████████████████▊                                                                                     | 20/50 [00:10<00:14,  2.04it/s]\u001b[A\n",
      "episode:  42%|███████████████████████████████████████████████████████████▋                                                                                  | 21/50 [00:10<00:14,  2.05it/s]\u001b[A\n",
      "episode:  44%|██████████████████████████████████████████████████████████████▍                                                                               | 22/50 [00:11<00:13,  2.09it/s]\u001b[A\n",
      "episode:  46%|█████████████████████████████████████████████████████████████████▎                                                                            | 23/50 [00:11<00:14,  1.88it/s]\u001b[A\n",
      "episode:  48%|████████████████████████████████████████████████████████████████████▏                                                                         | 24/50 [00:12<00:13,  1.98it/s]\u001b[A\n",
      "episode:  50%|███████████████████████████████████████████████████████████████████████                                                                       | 25/50 [00:12<00:12,  2.05it/s]\u001b[A\n",
      "episode:  52%|█████████████████████████████████████████████████████████████████████████▊                                                                    | 26/50 [00:13<00:11,  2.11it/s]\u001b[A\n",
      "episode:  54%|████████████████████████████████████████████████████████████████████████████▋                                                                 | 27/50 [00:13<00:10,  2.14it/s]\u001b[A\n",
      "episode:  56%|███████████████████████████████████████████████████████████████████████████████▌                                                              | 28/50 [00:14<00:10,  2.12it/s]\u001b[A\n",
      "episode:  58%|██████████████████████████████████████████████████████████████████████████████████▎                                                           | 29/50 [00:14<00:09,  2.16it/s]\u001b[A\n",
      "episode:  60%|█████████████████████████████████████████████████████████████████████████████████████▏                                                        | 30/50 [00:15<00:09,  2.16it/s]\u001b[A\n",
      "episode:  62%|████████████████████████████████████████████████████████████████████████████████████████                                                      | 31/50 [00:15<00:08,  2.14it/s]\u001b[A\n",
      "episode:  64%|██████████████████████████████████████████████████████████████████████████████████████████▉                                                   | 32/50 [00:16<00:08,  2.18it/s]\u001b[A\n",
      "episode:  66%|█████████████████████████████████████████████████████████████████████████████████████████████▋                                                | 33/50 [00:16<00:07,  2.18it/s]\u001b[A\n",
      "episode:  68%|████████████████████████████████████████████████████████████████████████████████████████████████▌                                             | 34/50 [00:16<00:07,  2.17it/s]\u001b[A\n",
      "episode:  70%|███████████████████████████████████████████████████████████████████████████████████████████████████▍                                          | 35/50 [00:17<00:06,  2.18it/s]\u001b[A\n",
      "episode:  72%|██████████████████████████████████████████████████████████████████████████████████████████████████████▏                                       | 36/50 [00:17<00:06,  2.20it/s]\u001b[A\n",
      "episode:  74%|█████████████████████████████████████████████████████████████████████████████████████████████████████████                                     | 37/50 [00:18<00:05,  2.20it/s]\u001b[A\n",
      "episode:  76%|███████████████████████████████████████████████████████████████████████████████████████████████████████████▉                                  | 38/50 [00:18<00:05,  2.22it/s]\u001b[A\n"
     ]
    },
    {
     "name": "stderr",
     "output_type": "stream",
     "text": [
      "episode:  78%|██████████████████████████████████████████████████████████████████████████████████████████████████████████████▊                               | 39/50 [00:19<00:04,  2.23it/s]\u001b[A\n",
      "episode:  80%|█████████████████████████████████████████████████████████████████████████████████████████████████████████████████▌                            | 40/50 [00:19<00:04,  2.24it/s]\u001b[A\n",
      "episode:  82%|████████████████████████████████████████████████████████████████████████████████████████████████████████████████████▍                         | 41/50 [00:20<00:03,  2.26it/s]\u001b[A\n",
      "episode:  84%|███████████████████████████████████████████████████████████████████████████████████████████████████████████████████████▎                      | 42/50 [00:20<00:03,  2.27it/s]\u001b[A\n",
      "episode:  86%|██████████████████████████████████████████████████████████████████████████████████████████████████████████████████████████                    | 43/50 [00:20<00:03,  2.29it/s]\u001b[A\n",
      "episode:  88%|████████████████████████████████████████████████████████████████████████████████████████████████████████████████████████████▉                 | 44/50 [00:21<00:02,  2.30it/s]\u001b[A\n",
      "episode:  90%|███████████████████████████████████████████████████████████████████████████████████████████████████████████████████████████████▊              | 45/50 [00:21<00:02,  2.32it/s]\u001b[A\n",
      "episode:  92%|██████████████████████████████████████████████████████████████████████████████████████████████████████████████████████████████████▋           | 46/50 [00:22<00:01,  2.32it/s]\u001b[A\n",
      "episode:  94%|█████████████████████████████████████████████████████████████████████████████████████████████████████████████████████████████████████▍        | 47/50 [00:22<00:01,  2.31it/s]\u001b[A\n",
      "episode:  96%|████████████████████████████████████████████████████████████████████████████████████████████████████████████████████████████████████████▎     | 48/50 [00:23<00:00,  2.33it/s]\u001b[A\n",
      "episode:  98%|███████████████████████████████████████████████████████████████████████████████████████████████████████████████████████████████████████████▏  | 49/50 [00:25<00:00,  1.89it/s]\u001b[A\n",
      "episode:  25%|████████████████████████████████████                                                                                                            | 1/4 [00:37<01:52, 37.57s/it]gen vm_pu < bus min_vm_pu for gens [ 58  82  87 182 214 246 264 265]. Setting bus limit for these gens.\n",
      "C:\\Users\\rtschupp\\AppData\\Local\\pypoetry\\Cache\\virtualenvs\\pypowsybltest-3L0u-b9v-py3.10\\lib\\site-packages\\numpy\\core\\numeric.py:330: RuntimeWarning: invalid value encountered in cast\n",
      "  multiarray.copyto(a, fill_value, casting='unsafe')\n",
      "\n",
      "episode:   0%|                                                                                                                                                       | 0/50 [00:00<?, ?it/s]\u001b[A\n",
      "episode:   2%|██▊                                                                                                                                            | 1/50 [00:00<00:19,  2.55it/s]\u001b[A\n",
      "episode:   4%|█████▋                                                                                                                                         | 2/50 [00:00<00:19,  2.46it/s]\u001b[A\n",
      "episode:   6%|████████▌                                                                                                                                      | 3/50 [00:01<00:25,  1.87it/s]\u001b[A\n",
      "episode:   8%|███████████▍                                                                                                                                   | 4/50 [00:01<00:22,  2.03it/s]\u001b[A\n",
      "episode:  10%|██████████████▎                                                                                                                                | 5/50 [00:02<00:21,  2.14it/s]\u001b[A\n",
      "episode:  12%|█████████████████▏                                                                                                                             | 6/50 [00:02<00:20,  2.19it/s]\u001b[A\n",
      "episode:  14%|████████████████████                                                                                                                           | 7/50 [00:03<00:19,  2.25it/s]\u001b[A\n",
      "episode:  16%|██████████████████████▉                                                                                                                        | 8/50 [00:03<00:18,  2.22it/s]\u001b[A\n",
      "episode:  18%|█████████████████████████▋                                                                                                                     | 9/50 [00:04<00:18,  2.24it/s]\u001b[A\n",
      "episode:  20%|████████████████████████████▍                                                                                                                 | 10/50 [00:04<00:17,  2.27it/s]\u001b[A\n",
      "episode:  22%|███████████████████████████████▏                                                                                                              | 11/50 [00:04<00:17,  2.28it/s]\u001b[A\n",
      "episode:  24%|██████████████████████████████████                                                                                                            | 12/50 [00:05<00:16,  2.30it/s]\u001b[A\n",
      "episode:  26%|████████████████████████████████████▉                                                                                                         | 13/50 [00:05<00:16,  2.28it/s]\u001b[A\n",
      "episode:  28%|███████████████████████████████████████▊                                                                                                      | 14/50 [00:06<00:15,  2.30it/s]\u001b[A\n",
      "episode:  30%|██████████████████████████████████████████▌                                                                                                   | 15/50 [00:06<00:15,  2.30it/s]\u001b[A\n",
      "episode:  32%|█████████████████████████████████████████████▍                                                                                                | 16/50 [00:07<00:14,  2.29it/s]\u001b[A\n",
      "episode:  34%|████████████████████████████████████████████████▎                                                                                             | 17/50 [00:07<00:14,  2.29it/s]\u001b[A\n",
      "episode:  36%|███████████████████████████████████████████████████                                                                                           | 18/50 [00:08<00:13,  2.29it/s]\u001b[A\n",
      "episode:  38%|█████████████████████████████████████████████████████▉                                                                                        | 19/50 [00:08<00:13,  2.29it/s]\u001b[A\n",
      "episode:  40%|████████████████████████████████████████████████████████▊                                                                                     | 20/50 [00:08<00:13,  2.25it/s]\u001b[A\n",
      "episode:  42%|███████████████████████████████████████████████████████████▋                                                                                  | 21/50 [00:09<00:12,  2.27it/s]\u001b[A\n",
      "episode:  44%|██████████████████████████████████████████████████████████████▍                                                                               | 22/50 [00:09<00:12,  2.22it/s]\u001b[A\n",
      "episode:  46%|█████████████████████████████████████████████████████████████████▎                                                                            | 23/50 [00:10<00:12,  2.24it/s]\u001b[A\n",
      "episode:  48%|████████████████████████████████████████████████████████████████████▏                                                                         | 24/50 [00:10<00:11,  2.27it/s]\u001b[A\n",
      "episode:  50%|███████████████████████████████████████████████████████████████████████                                                                       | 25/50 [00:11<00:11,  2.25it/s]\u001b[A\n",
      "episode:  52%|█████████████████████████████████████████████████████████████████████████▊                                                                    | 26/50 [00:11<00:10,  2.26it/s]\u001b[A\n",
      "episode:  54%|████████████████████████████████████████████████████████████████████████████▋                                                                 | 27/50 [00:12<00:10,  2.22it/s]\u001b[A\n"
     ]
    },
    {
     "name": "stderr",
     "output_type": "stream",
     "text": [
      "episode:  56%|███████████████████████████████████████████████████████████████████████████████▌                                                              | 28/50 [00:12<00:09,  2.22it/s]\u001b[A\n",
      "episode:  58%|██████████████████████████████████████████████████████████████████████████████████▎                                                           | 29/50 [00:12<00:09,  2.23it/s]\u001b[A\n",
      "episode:  60%|█████████████████████████████████████████████████████████████████████████████████████▏                                                        | 30/50 [00:13<00:08,  2.22it/s]\u001b[A\n",
      "episode:  62%|████████████████████████████████████████████████████████████████████████████████████████                                                      | 31/50 [00:13<00:08,  2.22it/s]\u001b[A\n",
      "episode:  64%|██████████████████████████████████████████████████████████████████████████████████████████▉                                                   | 32/50 [00:14<00:08,  2.23it/s]\u001b[A\n",
      "episode:  66%|█████████████████████████████████████████████████████████████████████████████████████████████▋                                                | 33/50 [00:14<00:07,  2.24it/s]\u001b[A\n",
      "episode:  68%|████████████████████████████████████████████████████████████████████████████████████████████████▌                                             | 34/50 [00:15<00:07,  2.20it/s]\u001b[A\n",
      "episode:  70%|███████████████████████████████████████████████████████████████████████████████████████████████████▍                                          | 35/50 [00:15<00:06,  2.19it/s]\u001b[A\n",
      "episode:  72%|██████████████████████████████████████████████████████████████████████████████████████████████████████▏                                       | 36/50 [00:16<00:06,  2.20it/s]\u001b[A\n",
      "episode:  74%|█████████████████████████████████████████████████████████████████████████████████████████████████████████                                     | 37/50 [00:16<00:05,  2.23it/s]\u001b[A\n",
      "episode:  76%|███████████████████████████████████████████████████████████████████████████████████████████████████████████▉                                  | 38/50 [00:16<00:05,  2.22it/s]\u001b[A\n",
      "episode:  78%|██████████████████████████████████████████████████████████████████████████████████████████████████████████████▊                               | 39/50 [00:17<00:04,  2.24it/s]\u001b[A\n",
      "episode:  80%|█████████████████████████████████████████████████████████████████████████████████████████████████████████████████▌                            | 40/50 [00:17<00:04,  2.26it/s]\u001b[A\n",
      "episode:  82%|████████████████████████████████████████████████████████████████████████████████████████████████████████████████████▍                         | 41/50 [00:18<00:04,  2.06it/s]\u001b[A\n",
      "episode:  84%|███████████████████████████████████████████████████████████████████████████████████████████████████████████████████████▎                      | 42/50 [00:18<00:03,  2.13it/s]\u001b[A\n",
      "episode:  86%|██████████████████████████████████████████████████████████████████████████████████████████████████████████████████████████                    | 43/50 [00:19<00:03,  2.19it/s]\u001b[A\n",
      "episode:  88%|████████████████████████████████████████████████████████████████████████████████████████████████████████████████████████████▉                 | 44/50 [00:19<00:02,  2.22it/s]\u001b[A\n",
      "episode:  90%|███████████████████████████████████████████████████████████████████████████████████████████████████████████████████████████████▊              | 45/50 [00:20<00:02,  2.23it/s]\u001b[A\n",
      "episode:  92%|██████████████████████████████████████████████████████████████████████████████████████████████████████████████████████████████████▋           | 46/50 [00:20<00:01,  2.24it/s]\u001b[A\n",
      "episode:  94%|█████████████████████████████████████████████████████████████████████████████████████████████████████████████████████████████████████▍        | 47/50 [00:21<00:01,  2.26it/s]\u001b[A\n",
      "episode:  96%|████████████████████████████████████████████████████████████████████████████████████████████████████████████████████████████████████████▎     | 48/50 [00:21<00:00,  2.26it/s]\u001b[A\n",
      "episode:  98%|███████████████████████████████████████████████████████████████████████████████████████████████████████████████████████████████████████████▏  | 49/50 [00:21<00:00,  2.27it/s]\u001b[A\n",
      "episode: 100%|██████████████████████████████████████████████████████████████████████████████████████████████████████████████████████████████████████████████| 50/50 [00:23<00:00,  2.13it/s]\u001b[A\n",
      "episode:  50%|████████████████████████████████████████████████████████████████████████                                                                        | 2/4 [01:11<01:11, 35.51s/it]gen vm_pu < bus min_vm_pu for gens [ 58  82  87 182 214 246 264 265]. Setting bus limit for these gens.\n",
      "C:\\Users\\rtschupp\\AppData\\Local\\pypoetry\\Cache\\virtualenvs\\pypowsybltest-3L0u-b9v-py3.10\\lib\\site-packages\\numpy\\core\\numeric.py:330: RuntimeWarning: invalid value encountered in cast\n",
      "  multiarray.copyto(a, fill_value, casting='unsafe')\n",
      "\n",
      "episode:   0%|                                                                                                                                                       | 0/50 [00:00<?, ?it/s]\u001b[A\n",
      "episode:   2%|██▊                                                                                                                                            | 1/50 [00:00<00:22,  2.22it/s]\u001b[A\n",
      "episode:   4%|█████▋                                                                                                                                         | 2/50 [00:00<00:21,  2.25it/s]\u001b[A\n",
      "episode:   6%|████████▌                                                                                                                                      | 3/50 [00:01<00:20,  2.24it/s]\u001b[A\n",
      "episode:   8%|███████████▍                                                                                                                                   | 4/50 [00:01<00:21,  2.19it/s]\u001b[A\n",
      "episode:  10%|██████████████▎                                                                                                                                | 5/50 [00:02<00:19,  2.28it/s]\u001b[A\n",
      "episode:  12%|█████████████████▏                                                                                                                             | 6/50 [00:02<00:18,  2.32it/s]\u001b[A\n",
      "episode:  14%|████████████████████                                                                                                                           | 7/50 [00:03<00:18,  2.37it/s]\u001b[A\n",
      "episode:  16%|██████████████████████▉                                                                                                                        | 8/50 [00:03<00:17,  2.35it/s]\u001b[A\n",
      "episode:  18%|█████████████████████████▋                                                                                                                     | 9/50 [00:03<00:17,  2.39it/s]\u001b[A\n",
      "episode:  20%|████████████████████████████▍                                                                                                                 | 10/50 [00:04<00:16,  2.41it/s]\u001b[A\n",
      "episode:  22%|███████████████████████████████▏                                                                                                              | 11/50 [00:04<00:16,  2.38it/s]\u001b[A\n",
      "episode:  24%|██████████████████████████████████                                                                                                            | 12/50 [00:05<00:15,  2.41it/s]\u001b[A\n",
      "episode:  26%|████████████████████████████████████▉                                                                                                         | 13/50 [00:05<00:15,  2.44it/s]\u001b[A\n",
      "episode:  28%|███████████████████████████████████████▊                                                                                                      | 14/50 [00:05<00:14,  2.46it/s]\u001b[A\n",
      "episode:  30%|██████████████████████████████████████████▌                                                                                                   | 15/50 [00:06<00:14,  2.40it/s]\u001b[A\n"
     ]
    },
    {
     "name": "stderr",
     "output_type": "stream",
     "text": [
      "episode:  32%|█████████████████████████████████████████████▍                                                                                                | 16/50 [00:06<00:14,  2.40it/s]\u001b[A\n",
      "episode:  34%|████████████████████████████████████████████████▎                                                                                             | 17/50 [00:07<00:13,  2.43it/s]\u001b[A\n",
      "episode:  36%|███████████████████████████████████████████████████                                                                                           | 18/50 [00:07<00:13,  2.39it/s]\u001b[A\n",
      "episode:  38%|█████████████████████████████████████████████████████▉                                                                                        | 19/50 [00:08<00:12,  2.41it/s]\u001b[A\n",
      "episode:  40%|████████████████████████████████████████████████████████▊                                                                                     | 20/50 [00:08<00:12,  2.39it/s]\u001b[A\n",
      "episode:  42%|███████████████████████████████████████████████████████████▋                                                                                  | 21/50 [00:08<00:12,  2.32it/s]\u001b[A\n",
      "episode:  44%|██████████████████████████████████████████████████████████████▍                                                                               | 22/50 [00:09<00:12,  2.33it/s]\u001b[A\n",
      "episode:  46%|█████████████████████████████████████████████████████████████████▎                                                                            | 23/50 [00:09<00:11,  2.35it/s]\u001b[A\n",
      "episode:  48%|████████████████████████████████████████████████████████████████████▏                                                                         | 24/50 [00:10<00:11,  2.34it/s]\u001b[A\n",
      "episode:  50%|███████████████████████████████████████████████████████████████████████                                                                       | 25/50 [00:10<00:10,  2.34it/s]\u001b[A\n",
      "episode:  52%|█████████████████████████████████████████████████████████████████████████▊                                                                    | 26/50 [00:11<00:10,  2.35it/s]\u001b[A\n",
      "episode:  54%|████████████████████████████████████████████████████████████████████████████▋                                                                 | 27/50 [00:11<00:09,  2.37it/s]\u001b[A\n",
      "episode:  56%|███████████████████████████████████████████████████████████████████████████████▌                                                              | 28/50 [00:11<00:09,  2.38it/s]\u001b[A\n",
      "episode:  58%|██████████████████████████████████████████████████████████████████████████████████▎                                                           | 29/50 [00:12<00:08,  2.39it/s]\u001b[A\n",
      "episode:  60%|█████████████████████████████████████████████████████████████████████████████████████▏                                                        | 30/50 [00:12<00:08,  2.36it/s]\u001b[A\n",
      "episode:  62%|████████████████████████████████████████████████████████████████████████████████████████                                                      | 31/50 [00:13<00:07,  2.39it/s]\u001b[A\n",
      "episode:  64%|██████████████████████████████████████████████████████████████████████████████████████████▉                                                   | 32/50 [00:13<00:07,  2.39it/s]\u001b[A\n",
      "episode:  66%|█████████████████████████████████████████████████████████████████████████████████████████████▋                                                | 33/50 [00:13<00:07,  2.38it/s]\u001b[A\n",
      "episode:  68%|████████████████████████████████████████████████████████████████████████████████████████████████▌                                             | 34/50 [00:14<00:06,  2.36it/s]\u001b[A\n",
      "episode:  70%|███████████████████████████████████████████████████████████████████████████████████████████████████▍                                          | 35/50 [00:14<00:06,  2.38it/s]\u001b[A\n",
      "episode:  72%|██████████████████████████████████████████████████████████████████████████████████████████████████████▏                                       | 36/50 [00:15<00:05,  2.35it/s]\u001b[A\n",
      "episode:  74%|█████████████████████████████████████████████████████████████████████████████████████████████████████████                                     | 37/50 [00:15<00:05,  2.38it/s]\u001b[A\n",
      "episode:  76%|███████████████████████████████████████████████████████████████████████████████████████████████████████████▉                                  | 38/50 [00:16<00:05,  2.37it/s]\u001b[A\n",
      "episode:  78%|██████████████████████████████████████████████████████████████████████████████████████████████████████████████▊                               | 39/50 [00:16<00:04,  2.37it/s]\u001b[A\n",
      "episode:  80%|█████████████████████████████████████████████████████████████████████████████████████████████████████████████████▌                            | 40/50 [00:16<00:04,  2.37it/s]\u001b[A\n",
      "episode:  82%|████████████████████████████████████████████████████████████████████████████████████████████████████████████████████▍                         | 41/50 [00:17<00:03,  2.36it/s]\u001b[A\n",
      "episode:  84%|███████████████████████████████████████████████████████████████████████████████████████████████████████████████████████▎                      | 42/50 [00:17<00:03,  2.38it/s]\u001b[A\n",
      "episode:  86%|██████████████████████████████████████████████████████████████████████████████████████████████████████████████████████████                    | 43/50 [00:18<00:02,  2.38it/s]\u001b[A\n",
      "episode:  88%|████████████████████████████████████████████████████████████████████████████████████████████████████████████████████████████▉                 | 44/50 [00:18<00:02,  2.33it/s]\u001b[A\n",
      "episode:  90%|███████████████████████████████████████████████████████████████████████████████████████████████████████████████████████████████▊              | 45/50 [00:19<00:02,  2.34it/s]\u001b[A\n",
      "episode:  92%|██████████████████████████████████████████████████████████████████████████████████████████████████████████████████████████████████▋           | 46/50 [00:19<00:01,  2.29it/s]\u001b[A\n",
      "episode:  94%|█████████████████████████████████████████████████████████████████████████████████████████████████████████████████████████████████████▍        | 47/50 [00:19<00:01,  2.36it/s]\u001b[A\n",
      "episode:  96%|████████████████████████████████████████████████████████████████████████████████████████████████████████████████████████████████████████▎     | 48/50 [00:20<00:00,  2.39it/s]\u001b[A\n",
      "episode:  98%|███████████████████████████████████████████████████████████████████████████████████████████████████████████████████████████████████████████▏  | 49/50 [00:20<00:00,  2.41it/s]\u001b[A\n",
      "episode: 100%|██████████████████████████████████████████████████████████████████████████████████████████████████████████████████████████████████████████████| 50/50 [00:22<00:00,  2.24it/s]\u001b[A\n",
      "episode:  75%|████████████████████████████████████████████████████████████████████████████████████████████████████████████                                    | 3/4 [01:44<00:34, 34.30s/it]gen vm_pu < bus min_vm_pu for gens [ 58  82  87 182 214 246 264 265]. Setting bus limit for these gens.\n",
      "C:\\Users\\rtschupp\\AppData\\Local\\pypoetry\\Cache\\virtualenvs\\pypowsybltest-3L0u-b9v-py3.10\\lib\\site-packages\\numpy\\core\\numeric.py:330: RuntimeWarning: invalid value encountered in cast\n",
      "  multiarray.copyto(a, fill_value, casting='unsafe')\n",
      "\n",
      "episode:   0%|                                                                                                                                                       | 0/50 [00:00<?, ?it/s]\u001b[A\n",
      "episode:   2%|██▊                                                                                                                                            | 1/50 [00:00<00:23,  2.09it/s]\u001b[A\n",
      "episode:   4%|█████▋                                                                                                                                         | 2/50 [00:01<00:34,  1.40it/s]\u001b[A\n",
      "episode:   6%|████████▌                                                                                                                                      | 3/50 [00:01<00:26,  1.75it/s]\u001b[A\n"
     ]
    },
    {
     "name": "stderr",
     "output_type": "stream",
     "text": [
      "episode:   8%|███████████▍                                                                                                                                   | 4/50 [00:02<00:23,  1.95it/s]\u001b[A\n",
      "episode:  10%|██████████████▎                                                                                                                                | 5/50 [00:02<00:21,  2.09it/s]\u001b[A\n",
      "episode:  12%|█████████████████▏                                                                                                                             | 6/50 [00:03<00:20,  2.14it/s]\u001b[A\n",
      "episode:  14%|████████████████████                                                                                                                           | 7/50 [00:03<00:20,  2.12it/s]\u001b[A\n",
      "episode:  16%|██████████████████████▉                                                                                                                        | 8/50 [00:03<00:18,  2.22it/s]\u001b[A\n",
      "episode:  18%|█████████████████████████▋                                                                                                                     | 9/50 [00:04<00:18,  2.19it/s]\u001b[A\n",
      "episode:  20%|████████████████████████████▍                                                                                                                 | 10/50 [00:04<00:17,  2.23it/s]\u001b[A\n",
      "episode:  22%|███████████████████████████████▏                                                                                                              | 11/50 [00:05<00:17,  2.26it/s]\u001b[A\n",
      "episode:  24%|██████████████████████████████████                                                                                                            | 12/50 [00:05<00:16,  2.28it/s]\u001b[A\n",
      "episode:  26%|████████████████████████████████████▉                                                                                                         | 13/50 [00:06<00:16,  2.20it/s]\u001b[A\n",
      "episode:  28%|███████████████████████████████████████▊                                                                                                      | 14/50 [00:06<00:15,  2.25it/s]\u001b[A\n",
      "episode:  30%|██████████████████████████████████████████▌                                                                                                   | 15/50 [00:07<00:15,  2.28it/s]\u001b[A\n",
      "episode:  32%|█████████████████████████████████████████████▍                                                                                                | 16/50 [00:07<00:14,  2.29it/s]\u001b[A\n",
      "episode:  34%|████████████████████████████████████████████████▎                                                                                             | 17/50 [00:07<00:14,  2.29it/s]\u001b[A\n",
      "episode:  36%|███████████████████████████████████████████████████                                                                                           | 18/50 [00:08<00:13,  2.29it/s]\u001b[A\n",
      "episode:  38%|█████████████████████████████████████████████████████▉                                                                                        | 19/50 [00:08<00:13,  2.32it/s]\u001b[A\n",
      "episode:  40%|████████████████████████████████████████████████████████▊                                                                                     | 20/50 [00:09<00:13,  2.29it/s]\u001b[A\n",
      "episode:  42%|███████████████████████████████████████████████████████████▋                                                                                  | 21/50 [00:09<00:13,  2.22it/s]\u001b[A\n",
      "episode:  44%|██████████████████████████████████████████████████████████████▍                                                                               | 22/50 [00:10<00:12,  2.18it/s]\u001b[A\n",
      "episode:  46%|█████████████████████████████████████████████████████████████████▎                                                                            | 23/50 [00:10<00:12,  2.15it/s]\u001b[A\n",
      "episode:  48%|████████████████████████████████████████████████████████████████████▏                                                                         | 24/50 [00:11<00:11,  2.17it/s]\u001b[A\n",
      "episode:  50%|███████████████████████████████████████████████████████████████████████                                                                       | 25/50 [00:11<00:12,  1.98it/s]\u001b[A\n",
      "episode:  52%|█████████████████████████████████████████████████████████████████████████▊                                                                    | 26/50 [00:12<00:11,  2.05it/s]\u001b[A\n",
      "episode:  54%|████████████████████████████████████████████████████████████████████████████▋                                                                 | 27/50 [00:12<00:10,  2.11it/s]\u001b[A\n",
      "episode:  56%|███████████████████████████████████████████████████████████████████████████████▌                                                              | 28/50 [00:13<00:10,  2.14it/s]\u001b[A\n",
      "episode:  58%|██████████████████████████████████████████████████████████████████████████████████▎                                                           | 29/50 [00:13<00:09,  2.18it/s]\u001b[A\n",
      "episode:  60%|█████████████████████████████████████████████████████████████████████████████████████▏                                                        | 30/50 [00:13<00:09,  2.19it/s]\u001b[A\n",
      "episode:  62%|████████████████████████████████████████████████████████████████████████████████████████                                                      | 31/50 [00:14<00:08,  2.22it/s]\u001b[A\n",
      "episode:  64%|██████████████████████████████████████████████████████████████████████████████████████████▉                                                   | 32/50 [00:14<00:08,  2.23it/s]\u001b[A\n",
      "episode:  66%|█████████████████████████████████████████████████████████████████████████████████████████████▋                                                | 33/50 [00:15<00:07,  2.22it/s]\u001b[A\n",
      "episode:  68%|████████████████████████████████████████████████████████████████████████████████████████████████▌                                             | 34/50 [00:15<00:07,  2.23it/s]\u001b[A\n",
      "episode:  70%|███████████████████████████████████████████████████████████████████████████████████████████████████▍                                          | 35/50 [00:16<00:06,  2.24it/s]\u001b[A\n",
      "episode:  72%|██████████████████████████████████████████████████████████████████████████████████████████████████████▏                                       | 36/50 [00:16<00:06,  2.25it/s]\u001b[A\n",
      "episode:  74%|█████████████████████████████████████████████████████████████████████████████████████████████████████████                                     | 37/50 [00:17<00:05,  2.25it/s]\u001b[A\n",
      "episode:  76%|███████████████████████████████████████████████████████████████████████████████████████████████████████████▉                                  | 38/50 [00:17<00:05,  2.27it/s]\u001b[A\n",
      "episode:  78%|██████████████████████████████████████████████████████████████████████████████████████████████████████████████▊                               | 39/50 [00:17<00:04,  2.26it/s]\u001b[A\n",
      "episode:  80%|█████████████████████████████████████████████████████████████████████████████████████████████████████████████████▌                            | 40/50 [00:18<00:04,  2.28it/s]\u001b[A\n",
      "episode:  82%|████████████████████████████████████████████████████████████████████████████████████████████████████████████████████▍                         | 41/50 [00:18<00:03,  2.28it/s]\u001b[A\n",
      "episode:  84%|███████████████████████████████████████████████████████████████████████████████████████████████████████████████████████▎                      | 42/50 [00:19<00:03,  2.28it/s]\u001b[A\n",
      "episode:  86%|██████████████████████████████████████████████████████████████████████████████████████████████████████████████████████████                    | 43/50 [00:19<00:03,  2.19it/s]\u001b[A\n",
      "episode:  88%|████████████████████████████████████████████████████████████████████████████████████████████████████████████████████████████▉                 | 44/50 [00:20<00:02,  2.22it/s]\u001b[A\n",
      "episode:  90%|███████████████████████████████████████████████████████████████████████████████████████████████████████████████████████████████▊              | 45/50 [00:20<00:02,  2.13it/s]\u001b[A\n"
     ]
    },
    {
     "name": "stderr",
     "output_type": "stream",
     "text": [
      "episode:  92%|██████████████████████████████████████████████████████████████████████████████████████████████████████████████████████████████████▋           | 46/50 [00:21<00:01,  2.08it/s]\u001b[A\n",
      "episode:  94%|█████████████████████████████████████████████████████████████████████████████████████████████████████████████████████████████████████▍        | 47/50 [00:21<00:01,  2.14it/s]\u001b[A\n",
      "episode:  96%|████████████████████████████████████████████████████████████████████████████████████████████████████████████████████████████████████████▎     | 48/50 [00:22<00:00,  2.14it/s]\u001b[A\n",
      "episode:  98%|███████████████████████████████████████████████████████████████████████████████████████████████████████████████████████████████████████████▏  | 49/50 [00:22<00:00,  2.20it/s]\u001b[A\n",
      "episode: 100%|██████████████████████████████████████████████████████████████████████████████████████████████████████████████████████████████████████████████| 50/50 [00:23<00:00,  2.12it/s]\u001b[A\n",
      "episode: 100%|████████████████████████████████████████████████████████████████████████████████████████████████████████████████████████████████████████████████| 4/4 [02:19<00:00, 34.87s/it]"
     ]
    },
    {
     "name": "stdout",
     "output_type": "stream",
     "text": [
      "Evaluation summary:\n",
      "chronics at: 2012-01-01\ttotal score: 87017.734375\ttime steps: 49/50\n",
      "chronics at: 2012-01-08\ttotal score: 88921.539062\ttime steps: 50/50\n",
      "chronics at: 2012-01-15\ttotal score: 88922.554688\ttime steps: 50/50\n",
      "chronics at: 2012-01-22\ttotal score: 88923.101562\ttime steps: 50/50\n"
     ]
    },
    {
     "name": "stderr",
     "output_type": "stream",
     "text": [
      "\n"
     ]
    }
   ],
   "source": [
    "evaluate(\n",
    "    env,\n",
    "    one_change_then_nothing,\n",
    "    verbose=True,\n",
    "    nb_episode=4,\n",
    "    max_steps=50,\n",
    ")"
   ]
  }
 ],
 "metadata": {
  "kernelspec": {
   "display_name": "Python 3 (ipykernel)",
   "language": "python",
   "name": "python3"
  },
  "language_info": {
   "codemirror_mode": {
    "name": "ipython",
    "version": 3
   },
   "file_extension": ".py",
   "mimetype": "text/x-python",
   "name": "python",
   "nbconvert_exporter": "python",
   "pygments_lexer": "ipython3",
   "version": "3.10.10"
  }
 },
 "nbformat": 4,
 "nbformat_minor": 5
}
