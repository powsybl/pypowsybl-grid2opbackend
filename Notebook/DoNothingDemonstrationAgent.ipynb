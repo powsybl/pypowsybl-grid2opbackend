{
 "cells": [
  {
   "cell_type": "code",
   "execution_count": 1,
   "id": "6bc6f37d",
   "metadata": {},
   "outputs": [
    {
     "name": "stderr",
     "output_type": "stream",
     "text": [
      "C:\\Users\\rtschupp\\AppData\\Local\\pypoetry\\Cache\\virtualenvs\\pypowsybltest-3L0u-b9v-py3.10\\lib\\site-packages\\grid2op\\Backend\\PandaPowerBackend.py:31: UserWarning: Numba cannot be loaded. You will gain possibly massive speed if installing it by \n",
      "\tC:\\Users\\rtschupp\\AppData\\Local\\pypoetry\\Cache\\virtualenvs\\pypowsybltest-3L0u-b9v-py3.10\\Scripts\\python.exe -m pip install numba\n",
      "\n",
      "  warnings.warn(\n"
     ]
    }
   ],
   "source": [
    "import grid2op\n",
    "from grid2op.PlotGrid import PlotMatplot\n",
    "from grid2op.Agent import DoNothingAgent\n",
    "from grid2op.Episode import EpisodeData\n",
    "import numpy as np\n",
    "import os\n",
    "import shutil\n",
    "from grid2op.gym_compat import GymEnv\n",
    "from gym import Env\n",
    "from gym.utils.env_checker import check_env\n",
    "import tqdm\n",
    "from grid2op.Runner import Runner"
   ]
  },
  {
   "cell_type": "code",
   "execution_count": 2,
   "id": "2a83a77e",
   "metadata": {},
   "outputs": [
    {
     "name": "stderr",
     "output_type": "stream",
     "text": [
      "d:\\projets\\airgo\\officialrepo\\pypowsybl-grid2opbackend\\src\\Backend\\PowsyblBackend.py:31: UserWarning: Numba cannot be loaded. You will gain possibly massive speed if installing it by \n",
      "\tC:\\Users\\rtschupp\\AppData\\Local\\pypoetry\\Cache\\virtualenvs\\pypowsybltest-3L0u-b9v-py3.10\\Scripts\\python.exe -m pip install numba\n",
      "\n",
      "  warnings.warn(\n"
     ]
    }
   ],
   "source": [
    "import sys\n",
    "sys.path.append('..\\src')\n",
    "from Backend.PowsyblBackend import PowsyblBackend"
   ]
  },
  {
   "cell_type": "code",
   "execution_count": null,
   "id": "bcace802",
   "metadata": {},
   "outputs": [],
   "source": [
    "def make_backend(detailed_infos_for_cascading_failures=False):\n",
    "    return PowsyblBackend(\n",
    "        detailed_infos_for_cascading_failures=detailed_infos_for_cascading_failures\n",
    "    )"
   ]
  },
  {
   "cell_type": "code",
   "execution_count": null,
   "id": "abb66ef8",
   "metadata": {},
   "outputs": [],
   "source": [
    "def setUp():\n",
    "    backend = make_backend()\n",
    "    path_matpower = get_path()\n",
    "    case_file = get_casefile()\n",
    "    with warnings.catch_warnings():\n",
    "        warnings.filterwarnings(\"ignore\")\n",
    "        backend.load_grid(path_matpower, case_file)\n",
    "    type(backend).set_env_name(\"TestLoadingBackendFunc_env\")\n",
    "    type(backend).set_no_storage()\n",
    "    backend.assert_grid_correct()\n",
    "    game_rules = RulesChecker()\n",
    "    action_env_class = ActionSpace.init_grid(backend)\n",
    "    action_env = action_env_class(\n",
    "        gridobj=backend, legal_action=game_rules.legal_action\n",
    "    )\n",
    "    bkact_class = _BackendAction.init_grid(backend)\n",
    "    backend.runpf()\n",
    "    backend.assert_grid_correct_after_powerflow()"
   ]
  },
  {
   "cell_type": "code",
   "execution_count": null,
   "id": "c6c6432f",
   "metadata": {},
   "outputs": [],
   "source": [
    "def get_path():\n",
    "    return r\"C:\\Users\\rtschupp\\AppData\\Local\\pypoetry\\Cache\\virtualenvs\\pypowsybltest-3L0u-b9v-py3.10\\Lib\\site-packages\\grid2op\\data_test\\test_PandaPower\"\n",
    "\n",
    "def get_casefile(self):\n",
    "    return \"test_case14.json\""
   ]
  },
  {
   "cell_type": "code",
   "execution_count": null,
   "id": "63b273ac",
   "metadata": {},
   "outputs": [],
   "source": [
    "\n",
    "    conv = backend.runpf()\n",
    "    init_flow = backend.get_line_flow()\n",
    "    init_lp, *_ = backend.loads_info()\n",
    "    init_gp, *_ = backend.generators_info()\n",
    "    init_ls = backend.get_line_status()\n",
    "\n",
    "    action = action_env({})  # update the action\n",
    "    bk_action = bkact_class()\n",
    "    bk_action += action\n",
    "    backend.apply_action(bk_action)\n",
    "    after_lp, *_ = backend.loads_info()\n",
    "    after_gp, *_ = backend.generators_info()\n",
    "    after_ls = backend.get_line_status()\n",
    "#     assert compare_vect(init_lp, after_lp)  # check i didn't modify the loads\n",
    "    # assert self.compare_vect(init_gp, after_gp)  # check i didn't modify the generators  # TODO here !!! problem with steady state P=C+L\n",
    "#     assert np.all(init_ls == after_ls)  # check i didn't disconnect any powerlines\n",
    "    print(np.all(init_ls == after_ls))\n",
    "    conv = backend.runpf()\n",
    "    print(conv)\n",
    "#     assert conv, \"Cannot perform a powerflow after doing nothing\"\n",
    "    after_flow = backend.get_line_flow()\n",
    "    print(init_flow)\n",
    "    print(after_flow)\n",
    "#     assert compare_vect(init_flow, after_flow)"
   ]
  },
  {
   "cell_type": "code",
   "execution_count": null,
   "id": "d400ed3c",
   "metadata": {},
   "outputs": [],
   "source": [
    "test_donothing_action()"
   ]
  },
  {
   "cell_type": "code",
   "execution_count": null,
   "id": "2e14137f",
   "metadata": {},
   "outputs": [],
   "source": [
    "backend = PowsyblBackend(detailed_infos_for_cascading_failures=False)"
   ]
  },
  {
   "cell_type": "code",
   "execution_count": 3,
   "id": "ab49a1f3",
   "metadata": {},
   "outputs": [
    {
     "name": "stderr",
     "output_type": "stream",
     "text": [
      "gen vm_pu > bus max_vm_pu for gens [2 3 4]. Setting bus limit for these gens.\n",
      "<__array_function__ internals>:200: RuntimeWarning: invalid value encountered in cast\n"
     ]
    },
    {
     "name": "stdout",
     "output_type": "stream",
     "text": [
      "<class 'Backend.PowsyblBackend.PowsyblBackend_l2rpn_case14_sandbox_Pypowsybl'>\n",
      "True\n"
     ]
    },
    {
     "name": "stderr",
     "output_type": "stream",
     "text": [
      "gen vm_pu > bus max_vm_pu for gens [2 3 4]. Setting bus limit for these gens.\n",
      "<__array_function__ internals>:200: RuntimeWarning: invalid value encountered in cast\n"
     ]
    },
    {
     "name": "stdout",
     "output_type": "stream",
     "text": [
      "<class 'Backend.PowsyblBackend.PowsyblBackend_l2rpn_case14_sandbox_Pypowsybl'>\n",
      "True\n",
      "<class 'Backend.PowsyblBackend.PowsyblBackend_l2rpn_case14_sandbox_Pypowsybl'>\n",
      "-1\n",
      "['sub_BUS-1' 'sub_BUS-2' 'sub_BUS-3' 'sub_BUS-4' 'sub_BUS-5' 'sub_BUS-6'\n",
      " 'sub_BUS-7' 'sub_BUS-8' 'sub_BUS-9' 'sub_BUS-10' 'sub_BUS-11'\n",
      " 'sub_BUS-12' 'sub_BUS-13' 'sub_BUS-14']\n",
      "<class 'Backend.PowsyblBackend.PowsyblBackend_l2rpn_case14_sandbox_Pypowsybl'>\n",
      "['sub_BUS-1' 'sub_BUS-2' 'sub_BUS-3' 'sub_BUS-4' 'sub_BUS-5' 'sub_BUS-6'\n",
      " 'sub_BUS-7' 'sub_BUS-8' 'sub_BUS-9' 'sub_BUS-10' 'sub_BUS-11'\n",
      " 'sub_BUS-12' 'sub_BUS-13' 'sub_BUS-14']\n",
      "-1\n"
     ]
    },
    {
     "ename": "Grid2OpException",
     "evalue": "Grid2OpException \"Impossible to initialize the powergrid, the powerflow diverge at iteration 0. Available information are: {'disc_lines': array([-1, -1, -1, -1, -1, -1, -1, -1, -1, -1, -1, -1, -1, -1, -1,  0,  0,\n       -1, -1, -1]), 'is_illegal': False, 'is_ambiguous': False, 'is_dispatching_illegal': False, 'is_illegal_reco': False, 'reason_alarm_illegal': None, 'opponent_attack_line': None, 'opponent_attack_sub': None, 'opponent_attack_duration': 0, 'exception': [Grid2OpException DivergingPowerFlow DivergingPowerFlow(' An unexpected error occurred during the computation of the powerflow.The error is: \\n \"[\\'\\'] not in index\" \\n. This is game over')], 'rewards': {}}\"",
     "output_type": "error",
     "traceback": [
      "\u001b[1;31m---------------------------------------------------------------------------\u001b[0m",
      "\u001b[1;31mGrid2OpException\u001b[0m                          Traceback (most recent call last)",
      "Cell \u001b[1;32mIn[3], line 4\u001b[0m\n\u001b[0;32m      2\u001b[0m max_iter \u001b[38;5;241m=\u001b[39m \u001b[38;5;241m5\u001b[39m  \u001b[38;5;66;03m# we limit the number of iterations to reduce computation time. Put -1 if you don't want to limit it\u001b[39;00m\n\u001b[0;32m      3\u001b[0m env\u001b[38;5;241m.\u001b[39mseed(\u001b[38;5;241m42\u001b[39m)\n\u001b[1;32m----> 4\u001b[0m obs \u001b[38;5;241m=\u001b[39m \u001b[43menv\u001b[49m\u001b[38;5;241;43m.\u001b[39;49m\u001b[43mreset\u001b[49m\u001b[43m(\u001b[49m\u001b[43m)\u001b[49m\n",
      "File \u001b[1;32m~\\AppData\\Local\\pypoetry\\Cache\\virtualenvs\\pypowsybltest-3L0u-b9v-py3.10\\lib\\site-packages\\grid2op\\Environment\\Environment.py:900\u001b[0m, in \u001b[0;36mEnvironment.reset\u001b[1;34m(self)\u001b[0m\n\u001b[0;32m    898\u001b[0m \u001b[38;5;28mself\u001b[39m\u001b[38;5;241m.\u001b[39m_reset_redispatching()\n\u001b[0;32m    899\u001b[0m \u001b[38;5;28mself\u001b[39m\u001b[38;5;241m.\u001b[39m_reset_vectors_and_timings()  \u001b[38;5;66;03m# it need to be done BEFORE to prevent cascading failure when there has been\u001b[39;00m\n\u001b[1;32m--> 900\u001b[0m \u001b[38;5;28;43mself\u001b[39;49m\u001b[38;5;241;43m.\u001b[39;49m\u001b[43mreset_grid\u001b[49m\u001b[43m(\u001b[49m\u001b[43m)\u001b[49m\n\u001b[0;32m    901\u001b[0m \u001b[38;5;28;01mif\u001b[39;00m \u001b[38;5;28mself\u001b[39m\u001b[38;5;241m.\u001b[39mviewer_fig \u001b[38;5;129;01mis\u001b[39;00m \u001b[38;5;129;01mnot\u001b[39;00m \u001b[38;5;28;01mNone\u001b[39;00m:\n\u001b[0;32m    902\u001b[0m     \u001b[38;5;28;01mdel\u001b[39;00m \u001b[38;5;28mself\u001b[39m\u001b[38;5;241m.\u001b[39mviewer_fig\n",
      "File \u001b[1;32m~\\AppData\\Local\\pypoetry\\Cache\\virtualenvs\\pypowsybltest-3L0u-b9v-py3.10\\lib\\site-packages\\grid2op\\Environment\\Environment.py:835\u001b[0m, in \u001b[0;36mEnvironment.reset_grid\u001b[1;34m(self)\u001b[0m\n\u001b[0;32m    833\u001b[0m \u001b[38;5;241m*\u001b[39m_, fail_to_start, info \u001b[38;5;241m=\u001b[39m \u001b[38;5;28mself\u001b[39m\u001b[38;5;241m.\u001b[39mstep(do_nothing)\n\u001b[0;32m    834\u001b[0m \u001b[38;5;28;01mif\u001b[39;00m fail_to_start:\n\u001b[1;32m--> 835\u001b[0m     \u001b[38;5;28;01mraise\u001b[39;00m Grid2OpException(\n\u001b[0;32m    836\u001b[0m         \u001b[38;5;124m\"\u001b[39m\u001b[38;5;124mImpossible to initialize the powergrid, the powerflow diverge at iteration 0. \u001b[39m\u001b[38;5;124m\"\u001b[39m\n\u001b[0;32m    837\u001b[0m         \u001b[38;5;124m\"\u001b[39m\u001b[38;5;124mAvailable information are: \u001b[39m\u001b[38;5;132;01m{}\u001b[39;00m\u001b[38;5;124m\"\u001b[39m\u001b[38;5;241m.\u001b[39mformat(info)\n\u001b[0;32m    838\u001b[0m     )\n\u001b[0;32m    840\u001b[0m \u001b[38;5;66;03m# assign the right\u001b[39;00m\n\u001b[0;32m    841\u001b[0m \u001b[38;5;28mself\u001b[39m\u001b[38;5;241m.\u001b[39m_observation_space\u001b[38;5;241m.\u001b[39mset_real_env_kwargs(\u001b[38;5;28mself\u001b[39m)\n",
      "\u001b[1;31mGrid2OpException\u001b[0m: Grid2OpException \"Impossible to initialize the powergrid, the powerflow diverge at iteration 0. Available information are: {'disc_lines': array([-1, -1, -1, -1, -1, -1, -1, -1, -1, -1, -1, -1, -1, -1, -1,  0,  0,\n       -1, -1, -1]), 'is_illegal': False, 'is_ambiguous': False, 'is_dispatching_illegal': False, 'is_illegal_reco': False, 'reason_alarm_illegal': None, 'opponent_attack_line': None, 'opponent_attack_sub': None, 'opponent_attack_duration': 0, 'exception': [Grid2OpException DivergingPowerFlow DivergingPowerFlow(' An unexpected error occurred during the computation of the powerflow.The error is: \\n \"[\\'\\'] not in index\" \\n. This is game over')], 'rewards': {}}\""
     ]
    }
   ],
   "source": [
    "env = grid2op.make(\"D:\\Projets\\AIRGo\\OfficialRepo\\pypowsybl-grid2opbackend\\src\\data_test\\l2rpn_case14_sandbox_Pypowsybl\",backend = PowsyblBackend(detailed_infos_for_cascading_failures=False)) \n",
    "max_iter = 5  # we limit the number of iterations to reduce computation time. Put -1 if you don't want to limit it\n",
    "env.seed(42)\n",
    "obs = env.reset()"
   ]
  },
  {
   "cell_type": "code",
   "execution_count": null,
   "id": "4c0059c1",
   "metadata": {},
   "outputs": [],
   "source": [
    "backend = PowsyblBackend(detailed_infos_for_cascading_failures=False)"
   ]
  },
  {
   "cell_type": "code",
   "execution_count": null,
   "id": "f3856e53",
   "metadata": {},
   "outputs": [],
   "source": [
    "backend.load_grid(\"D:\\Projets\\AIRGo\\OfficialRepo\\pypowsybl-grid2opbackend\\src\\data_test\\l2rpn_case14_sandbox_Pypowsybl\\grid.json\")"
   ]
  },
  {
   "cell_type": "code",
   "execution_count": null,
   "id": "15713a0b",
   "metadata": {},
   "outputs": [],
   "source": [
    "backend.load_grid_layout(\"D:\\Projets\\AIRGo\\OfficialRepo\\pypowsybl-grid2opbackend\\src\\data_test\\l2rpn_case14_sandbox_Pypowsybl\")"
   ]
  },
  {
   "cell_type": "code",
   "execution_count": null,
   "id": "7c6bcb92",
   "metadata": {},
   "outputs": [],
   "source": [
    "backend.next_grid_state()"
   ]
  },
  {
   "cell_type": "code",
   "execution_count": null,
   "id": "ad1d1147",
   "metadata": {},
   "outputs": [],
   "source": [
    "backend.loads_info()"
   ]
  },
  {
   "cell_type": "code",
   "execution_count": null,
   "id": "340fd85a",
   "metadata": {},
   "outputs": [],
   "source": [
    "backend.runpf()"
   ]
  },
  {
   "cell_type": "code",
   "execution_count": null,
   "id": "9342c98e",
   "metadata": {},
   "outputs": [],
   "source": [
    "backend.thermal_limit_a"
   ]
  }
 ],
 "metadata": {
  "kernelspec": {
   "display_name": "Python 3 (ipykernel)",
   "language": "python",
   "name": "python3"
  },
  "language_info": {
   "codemirror_mode": {
    "name": "ipython",
    "version": 3
   },
   "file_extension": ".py",
   "mimetype": "text/x-python",
   "name": "python",
   "nbconvert_exporter": "python",
   "pygments_lexer": "ipython3",
   "version": "3.10.10"
  }
 },
 "nbformat": 4,
 "nbformat_minor": 5
}
