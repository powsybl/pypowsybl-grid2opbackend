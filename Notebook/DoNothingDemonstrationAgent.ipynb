{
 "cells": [
  {
   "cell_type": "code",
   "execution_count": 1,
   "id": "6bc6f37d",
   "metadata": {},
   "outputs": [
    {
     "name": "stderr",
     "output_type": "stream",
     "text": [
      "C:\\Users\\rtschupp\\AppData\\Local\\pypoetry\\Cache\\virtualenvs\\pypowsybltest-3L0u-b9v-py3.10\\lib\\site-packages\\lightsim2grid\\securityAnalysis.py:76: FutureWarning: In the future `np.str` will be defined as the corresponding NumPy scalar.\n",
      "  STR_TYPES = (str, np.str, np.str_)\n",
      "C:\\Users\\rtschupp\\AppData\\Local\\pypoetry\\Cache\\virtualenvs\\pypowsybltest-3L0u-b9v-py3.10\\lib\\site-packages\\grid2op\\Backend\\PandaPowerBackend.py:31: UserWarning: Numba cannot be loaded. You will gain possibly massive speed if installing it by \n",
      "\tC:\\Users\\rtschupp\\AppData\\Local\\pypoetry\\Cache\\virtualenvs\\pypowsybltest-3L0u-b9v-py3.10\\Scripts\\python.exe -m pip install numba\n",
      "\n",
      "  warnings.warn(\n"
     ]
    }
   ],
   "source": [
    "import grid2op\n",
    "from grid2op.PlotGrid import PlotMatplot\n",
    "from grid2op.Agent import DoNothingAgent\n",
    "from grid2op.Episode import EpisodeData\n",
    "import numpy as np\n",
    "import os\n",
    "import shutil\n",
    "from grid2op.gym_compat import GymEnv\n",
    "from gym import Env\n",
    "from gym.utils.env_checker import check_env\n",
    "import tqdm\n",
    "from grid2op.Runner import Runner"
   ]
  },
  {
   "cell_type": "code",
   "execution_count": 2,
   "id": "2a83a77e",
   "metadata": {},
   "outputs": [
    {
     "name": "stderr",
     "output_type": "stream",
     "text": [
      "d:\\projets\\airgo\\officialrepo\\pypowsybl-grid2opbackend\\src\\Backend\\PowsyblBackend.py:37: UserWarning: Numba cannot be loaded. You will gain possibly massive speed if installing it by \n",
      "\tC:\\Users\\rtschupp\\AppData\\Local\\pypoetry\\Cache\\virtualenvs\\pypowsybltest-3L0u-b9v-py3.10\\Scripts\\python.exe -m pip install numba\n",
      "\n",
      "  warnings.warn(\n"
     ]
    }
   ],
   "source": [
    "import sys\n",
    "sys.path.append('..\\src')\n",
    "from Backend.PowsyblBackend import PowsyblBackend"
   ]
  },
  {
   "cell_type": "code",
   "execution_count": 3,
   "id": "bcace802",
   "metadata": {},
   "outputs": [],
   "source": [
    "def make_backend(detailed_infos_for_cascading_failures=False):\n",
    "    return PowsyblBackend(\n",
    "        detailed_infos_for_cascading_failures=detailed_infos_for_cascading_failures\n",
    "    )"
   ]
  },
  {
   "cell_type": "code",
   "execution_count": 8,
   "id": "abb66ef8",
   "metadata": {},
   "outputs": [],
   "source": [
    "def setUp():\n",
    "    backend = make_backend()\n",
    "    path_matpower = get_path()\n",
    "    case_file = get_casefile()\n",
    "    with warnings.catch_warnings():\n",
    "        warnings.filterwarnings(\"ignore\")\n",
    "        backend.load_grid(path_matpower, case_file)\n",
    "    type(backend).set_env_name(\"TestLoadingBackendFunc_env\")\n",
    "    type(backend).set_no_storage()\n",
    "    backend.assert_grid_correct()\n",
    "    game_rules = RulesChecker()\n",
    "    action_env_class = ActionSpace.init_grid(backend)\n",
    "    action_env = action_env_class(\n",
    "        gridobj=backend, legal_action=game_rules.legal_action\n",
    "    )\n",
    "    bkact_class = _BackendAction.init_grid(backend)\n",
    "    backend.runpf()\n",
    "    backend.assert_grid_correct_after_powerflow()"
   ]
  },
  {
   "cell_type": "code",
   "execution_count": 5,
   "id": "c6c6432f",
   "metadata": {},
   "outputs": [],
   "source": [
    "def get_path():\n",
    "    return r\"C:\\Users\\rtschupp\\AppData\\Local\\pypoetry\\Cache\\virtualenvs\\pypowsybltest-3L0u-b9v-py3.10\\Lib\\site-packages\\grid2op\\data_test\\test_PandaPower\"\n",
    "\n",
    "def get_casefile(self):\n",
    "    return \"test_case14.json\""
   ]
  },
  {
   "cell_type": "code",
   "execution_count": 10,
   "id": "63b273ac",
   "metadata": {},
   "outputs": [],
   "source": [
    "def test_donothing_action():\n",
    "    conv = backend.runpf()\n",
    "    init_flow = backend.get_line_flow()\n",
    "    init_lp, *_ = backend.loads_info()\n",
    "    init_gp, *_ = backend.generators_info()\n",
    "    init_ls = backend.get_line_status()\n",
    "\n",
    "    action = action_env({})  # update the action\n",
    "    bk_action = bkact_class()\n",
    "    bk_action += action\n",
    "    backend.apply_action(bk_action)\n",
    "    after_lp, *_ = backend.loads_info()\n",
    "    after_gp, *_ = backend.generators_info()\n",
    "    after_ls = backend.get_line_status()\n",
    "#     assert compare_vect(init_lp, after_lp)  # check i didn't modify the loads\n",
    "    # assert self.compare_vect(init_gp, after_gp)  # check i didn't modify the generators  # TODO here !!! problem with steady state P=C+L\n",
    "#     assert np.all(init_ls == after_ls)  # check i didn't disconnect any powerlines\n",
    "    print(np.all(init_ls == after_ls))\n",
    "    conv = backend.runpf()\n",
    "    print(conv)\n",
    "#     assert conv, \"Cannot perform a powerflow after doing nothing\"\n",
    "    after_flow = backend.get_line_flow()\n",
    "    print(init_flow)\n",
    "    print(after_flow)\n",
    "#     assert compare_vect(init_flow, after_flow)"
   ]
  },
  {
   "cell_type": "code",
   "execution_count": null,
   "id": "d400ed3c",
   "metadata": {},
   "outputs": [],
   "source": [
    "test_donothing_action()"
   ]
  },
  {
   "cell_type": "code",
   "execution_count": 11,
   "id": "2e14137f",
   "metadata": {},
   "outputs": [],
   "source": [
    "backend = PowsyblBackend(detailed_infos_for_cascading_failures=False)"
   ]
  },
  {
   "cell_type": "code",
   "execution_count": 12,
   "id": "ab49a1f3",
   "metadata": {},
   "outputs": [
    {
     "ename": "EnvError",
     "evalue": "Grid2OpException EnvError \"Invalid dataset config file: D:\\Projets\\AIRGo\\OfficialRepo\\pypowsybl-grid2opbackend\\src\\data_test\\l2rpn_case14_sandbox_Pypowsybl\\config.py\"",
     "output_type": "error",
     "traceback": [
      "\u001b[1;31m---------------------------------------------------------------------------\u001b[0m",
      "\u001b[1;31mEnvError\u001b[0m                                  Traceback (most recent call last)",
      "Cell \u001b[1;32mIn[12], line 1\u001b[0m\n\u001b[1;32m----> 1\u001b[0m env \u001b[38;5;241m=\u001b[39m \u001b[43mgrid2op\u001b[49m\u001b[38;5;241;43m.\u001b[39;49m\u001b[43mmake\u001b[49m\u001b[43m(\u001b[49m\u001b[38;5;124;43m\"\u001b[39;49m\u001b[38;5;124;43mD:\u001b[39;49m\u001b[38;5;124;43m\\\u001b[39;49m\u001b[38;5;124;43mProjets\u001b[39;49m\u001b[38;5;124;43m\\\u001b[39;49m\u001b[38;5;124;43mAIRGo\u001b[39;49m\u001b[38;5;124;43m\\\u001b[39;49m\u001b[38;5;124;43mOfficialRepo\u001b[39;49m\u001b[38;5;124;43m\\\u001b[39;49m\u001b[38;5;124;43mpypowsybl-grid2opbackend\u001b[39;49m\u001b[38;5;124;43m\\\u001b[39;49m\u001b[38;5;124;43msrc\u001b[39;49m\u001b[38;5;124;43m\\\u001b[39;49m\u001b[38;5;124;43mdata_test\u001b[39;49m\u001b[38;5;124;43m\\\u001b[39;49m\u001b[38;5;124;43ml2rpn_case14_sandbox_Pypowsybl\u001b[39;49m\u001b[38;5;124;43m\"\u001b[39;49m\u001b[43m,\u001b[49m\u001b[43mbackend\u001b[49m\u001b[43m \u001b[49m\u001b[38;5;241;43m=\u001b[39;49m\u001b[43m \u001b[49m\u001b[43mPowsyblBackend\u001b[49m\u001b[43m(\u001b[49m\u001b[43mdetailed_infos_for_cascading_failures\u001b[49m\u001b[38;5;241;43m=\u001b[39;49m\u001b[38;5;28;43;01mFalse\u001b[39;49;00m\u001b[43m)\u001b[49m\u001b[43m)\u001b[49m \n\u001b[0;32m      2\u001b[0m max_iter \u001b[38;5;241m=\u001b[39m \u001b[38;5;241m5\u001b[39m  \u001b[38;5;66;03m# we limit the number of iterations to reduce computation time. Put -1 if you don't want to limit it\u001b[39;00m\n\u001b[0;32m      3\u001b[0m env\u001b[38;5;241m.\u001b[39mseed(\u001b[38;5;241m42\u001b[39m)\n",
      "File \u001b[1;32m~\\AppData\\Local\\pypoetry\\Cache\\virtualenvs\\pypowsybltest-3L0u-b9v-py3.10\\lib\\site-packages\\grid2op\\MakeEnv\\Make.py:382\u001b[0m, in \u001b[0;36mmake\u001b[1;34m(dataset, test, logger, experimental_read_from_local_dir, _add_to_name, _compat_glop_version, **kwargs)\u001b[0m\n\u001b[0;32m    377\u001b[0m     \u001b[38;5;28;01mif\u001b[39;00m \u001b[38;5;129;01mnot\u001b[39;00m \u001b[38;5;124m\"\u001b[39m\u001b[38;5;124mexperimental_read_from_local_dir\u001b[39m\u001b[38;5;124m\"\u001b[39m \u001b[38;5;129;01min\u001b[39;00m kwargs:\n\u001b[0;32m    378\u001b[0m         kwargs[\n\u001b[0;32m    379\u001b[0m             \u001b[38;5;124m\"\u001b[39m\u001b[38;5;124mexperimental_read_from_local_dir\u001b[39m\u001b[38;5;124m\"\u001b[39m\n\u001b[0;32m    380\u001b[0m         ] \u001b[38;5;241m=\u001b[39m experimental_read_from_local_dir\n\u001b[1;32m--> 382\u001b[0m     \u001b[38;5;28;01mreturn\u001b[39;00m make_from_path_fn(\n\u001b[0;32m    383\u001b[0m         dataset_path\u001b[38;5;241m=\u001b[39mdataset,\n\u001b[0;32m    384\u001b[0m         _add_to_name\u001b[38;5;241m=\u001b[39m_add_to_name_tmp,\n\u001b[0;32m    385\u001b[0m         _compat_glop_version\u001b[38;5;241m=\u001b[39m_compat_glop_version_tmp,\n\u001b[0;32m    386\u001b[0m         \u001b[38;5;241m*\u001b[39m\u001b[38;5;241m*\u001b[39mkwargs\n\u001b[0;32m    387\u001b[0m     )\n\u001b[0;32m    389\u001b[0m \u001b[38;5;66;03m# Not a path: get the dataset name and cache path\u001b[39;00m\n\u001b[0;32m    390\u001b[0m dataset_name \u001b[38;5;241m=\u001b[39m _extract_ds_name(dataset)\n",
      "File \u001b[1;32m~\\AppData\\Local\\pypoetry\\Cache\\virtualenvs\\pypowsybltest-3L0u-b9v-py3.10\\lib\\site-packages\\grid2op\\MakeEnv\\MakeFromPath.py:336\u001b[0m, in \u001b[0;36mmake_from_dataset_path\u001b[1;34m(dataset_path, logger, experimental_read_from_local_dir, _add_to_name, _compat_glop_version, **kwargs)\u001b[0m\n\u001b[0;32m    334\u001b[0m     config_data \u001b[38;5;241m=\u001b[39m config_module\u001b[38;5;241m.\u001b[39mconfig\n\u001b[0;32m    335\u001b[0m \u001b[38;5;28;01mexcept\u001b[39;00m \u001b[38;5;167;01mException\u001b[39;00m \u001b[38;5;28;01mas\u001b[39;00m exc_:\n\u001b[1;32m--> 336\u001b[0m     \u001b[38;5;28;01mraise\u001b[39;00m EnvError(\n\u001b[0;32m    337\u001b[0m         \u001b[38;5;124m\"\u001b[39m\u001b[38;5;124mInvalid dataset config file: \u001b[39m\u001b[38;5;132;01m{}\u001b[39;00m\u001b[38;5;124m\"\u001b[39m\u001b[38;5;241m.\u001b[39mformat(config_path_abs)\n\u001b[0;32m    338\u001b[0m     ) \u001b[38;5;28;01mfrom\u001b[39;00m \u001b[38;5;28;01mNone\u001b[39;00m\n\u001b[0;32m    340\u001b[0m \u001b[38;5;66;03m# Get graph layout\u001b[39;00m\n\u001b[0;32m    341\u001b[0m graph_layout \u001b[38;5;241m=\u001b[39m \u001b[38;5;28;01mNone\u001b[39;00m\n",
      "\u001b[1;31mEnvError\u001b[0m: Grid2OpException EnvError \"Invalid dataset config file: D:\\Projets\\AIRGo\\OfficialRepo\\pypowsybl-grid2opbackend\\src\\data_test\\l2rpn_case14_sandbox_Pypowsybl\\config.py\""
     ]
    }
   ],
   "source": [
    "env = grid2op.make(\"D:\\Projets\\AIRGo\\OfficialRepo\\pypowsybl-grid2opbackend\\src\\data_test\\l2rpn_case14_sandbox_Pypowsybl\",backend = PowsyblBackend(detailed_infos_for_cascading_failures=False)) \n",
    "max_iter = 5  # we limit the number of iterations to reduce computation time. Put -1 if you don't want to limit it\n",
    "env.seed(42)\n",
    "obs = env.reset()"
   ]
  },
  {
   "cell_type": "code",
   "execution_count": null,
   "id": "4c0059c1",
   "metadata": {},
   "outputs": [],
   "source": [
    "backend = PowsyblBackend(detailed_infos_for_cascading_failures=False)"
   ]
  },
  {
   "cell_type": "code",
   "execution_count": null,
   "id": "f3856e53",
   "metadata": {},
   "outputs": [],
   "source": [
    "backend.load_grid(\"D:\\Projets\\AIRGo\\OfficialRepo\\pypowsybl-grid2opbackend\\src\\data_test\\l2rpn_case14_sandbox_Pypowsybl\\grid.json\")"
   ]
  },
  {
   "cell_type": "code",
   "execution_count": null,
   "id": "15713a0b",
   "metadata": {},
   "outputs": [],
   "source": [
    "backend.load_grid_layout(\"D:\\Projets\\AIRGo\\OfficialRepo\\pypowsybl-grid2opbackend\\src\\data_test\\l2rpn_case14_sandbox_Pypowsybl\")"
   ]
  },
  {
   "cell_type": "code",
   "execution_count": null,
   "id": "7c6bcb92",
   "metadata": {},
   "outputs": [],
   "source": [
    "backend.next_grid_state()"
   ]
  },
  {
   "cell_type": "code",
   "execution_count": null,
   "id": "ad1d1147",
   "metadata": {},
   "outputs": [],
   "source": [
    "backend.loads_info()"
   ]
  },
  {
   "cell_type": "code",
   "execution_count": null,
   "id": "340fd85a",
   "metadata": {},
   "outputs": [],
   "source": [
    "backend.runpf()"
   ]
  },
  {
   "cell_type": "code",
   "execution_count": null,
   "id": "9342c98e",
   "metadata": {},
   "outputs": [],
   "source": [
    "backend.thermal_limit_a"
   ]
  }
 ],
 "metadata": {
  "kernelspec": {
   "display_name": "Python 3 (ipykernel)",
   "language": "python",
   "name": "python3"
  },
  "language_info": {
   "codemirror_mode": {
    "name": "ipython",
    "version": 3
   },
   "file_extension": ".py",
   "mimetype": "text/x-python",
   "name": "python",
   "nbconvert_exporter": "python",
   "pygments_lexer": "ipython3",
   "version": "3.10.10"
  }
 },
 "nbformat": 4,
 "nbformat_minor": 5
}
