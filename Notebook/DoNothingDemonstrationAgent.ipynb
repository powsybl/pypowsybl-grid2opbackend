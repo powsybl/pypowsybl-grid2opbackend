{
 "cells": [
  {
   "cell_type": "code",
   "execution_count": 1,
   "id": "6bc6f37d",
   "metadata": {},
   "outputs": [],
   "source": [
    "import grid2op\n",
    "from grid2op.PlotGrid import PlotMatplot\n",
    "from grid2op.Agent import DoNothingAgent\n",
    "from grid2op.Episode import EpisodeData\n",
    "import numpy as np\n",
    "import os\n",
    "import shutil\n",
    "from grid2op.gym_compat import GymEnv\n",
    "from gym import Env\n",
    "from gym.utils.env_checker import check_env\n",
    "import tqdm\n",
    "from grid2op.Runner import Runner"
   ]
  },
  {
   "cell_type": "code",
   "execution_count": 2,
   "id": "2a83a77e",
   "metadata": {},
   "outputs": [],
   "source": [
    "import sys\n",
    "sys.path.append('..\\src')\n",
    "from Backend.PowsyblBackend import PowsyblBackend"
   ]
  },
  {
   "cell_type": "code",
   "execution_count": 4,
   "id": "bcace802",
   "metadata": {},
   "outputs": [],
   "source": [
    "def make_backend(detailed_infos_for_cascading_failures=False):\n",
    "    return PowsyblBackend(\n",
    "        detailed_infos_for_cascading_failures=detailed_infos_for_cascading_failures\n",
    "    )"
   ]
  },
  {
   "cell_type": "code",
   "execution_count": 3,
   "id": "abb66ef8",
   "metadata": {},
   "outputs": [],
   "source": [
    "def setUp():\n",
    "    backend = make_backend()\n",
    "    path_matpower = get_path()\n",
    "    case_file = get_casefile()\n",
    "    with warnings.catch_warnings():\n",
    "        warnings.filterwarnings(\"ignore\")\n",
    "        backend.load_grid(path_matpower, case_file)\n",
    "    type(backend).set_env_name(\"TestLoadingBackendFunc_env\")\n",
    "    type(backend).set_no_storage()\n",
    "    backend.assert_grid_correct()\n",
    "    game_rules = RulesChecker()\n",
    "    action_env_class = ActionSpace.init_grid(backend)\n",
    "    action_env = action_env_class(\n",
    "        gridobj=backend, legal_action=game_rules.legal_action\n",
    "    )\n",
    "    bkact_class = _BackendAction.init_grid(backend)\n",
    "    backend.runpf()\n",
    "    backend.assert_grid_correct_after_powerflow()"
   ]
  },
  {
   "cell_type": "code",
   "execution_count": 5,
   "id": "c6c6432f",
   "metadata": {},
   "outputs": [],
   "source": [
    "def get_path():\n",
    "    return \"C:\\Users\\rtschupp\\AppData\\Local\\pypoetry\\Cache\\virtualenvs\\pypowsybltest-3L0u-b9v-py3.10\\Lib\\site-packages\\grid2op\\data_test\\test_PandaPower\"\n",
    "\n",
    "def get_casefile(self):\n",
    "    return \"test_case14.json\""
   ]
  },
  {
   "cell_type": "code",
   "execution_count": 10,
   "id": "63b273ac",
   "metadata": {},
   "outputs": [],
   "source": [
    "\n",
    "    conv = backend.runpf()\n",
    "    init_flow = backend.get_line_flow()\n",
    "    init_lp, *_ = backend.loads_info()\n",
    "    init_gp, *_ = backend.generators_info()\n",
    "    init_ls = backend.get_line_status()\n",
    "\n",
    "    action = action_env({})  # update the action\n",
    "    bk_action = bkact_class()\n",
    "    bk_action += action\n",
    "    backend.apply_action(bk_action)\n",
    "    after_lp, *_ = backend.loads_info()\n",
    "    after_gp, *_ = backend.generators_info()\n",
    "    after_ls = backend.get_line_status()\n",
    "#     assert compare_vect(init_lp, after_lp)  # check i didn't modify the loads\n",
    "    # assert self.compare_vect(init_gp, after_gp)  # check i didn't modify the generators  # TODO here !!! problem with steady state P=C+L\n",
    "#     assert np.all(init_ls == after_ls)  # check i didn't disconnect any powerlines\n",
    "    print(np.all(init_ls == after_ls))\n",
    "    conv = backend.runpf()\n",
    "    print(conv)\n",
    "#     assert conv, \"Cannot perform a powerflow after doing nothing\"\n",
    "    after_flow = backend.get_line_flow()\n",
    "    print(init_flow)\n",
    "    print(after_flow)\n",
    "#     assert compare_vect(init_flow, after_flow)"
   ]
  },
  {
   "cell_type": "code",
   "execution_count": 9,
   "id": "d400ed3c",
   "metadata": {},
   "outputs": [],
   "source": [
    "test_donothing_action()"
   ]
  },
  {
   "cell_type": "code",
   "execution_count": 16,
   "id": "2e14137f",
   "metadata": {},
   "outputs": [],
   "source": [
    "backend = PowsyblBackend(detailed_infos_for_cascading_failures=False)"
   ]
  },
  {
   "cell_type": "code",
   "execution_count": 22,
   "id": "ab49a1f3",
   "metadata": {},
   "outputs": [
    {
     "name": "stderr",
     "output_type": "stream",
     "text": [
      "gen vm_pu > bus max_vm_pu for gens [2 3 4]. Setting bus limit for these gens.\n",
      "<__array_function__ internals>:200: RuntimeWarning: invalid value encountered in cast\n",
      "C:\\Users\\rtschupp\\AppData\\Local\\pypoetry\\Cache\\virtualenvs\\pypowsybltest-3L0u-b9v-py3.10\\lib\\site-packages\\grid2op\\Environment\\Environment.py:246: UserWarning: Impossible to load redispatching data. This is not an error but you will not be able to use all grid2op functionalities. The error was: \"Grid2OpException BackendError \"Impossible to load the redispatching data. The generator 4 with name GEN-6#0 could not be located on the description file \"prods_charac.csv\".\"\"\n",
      "  warnings.warn(f\"Impossible to load redispatching data. This is not an error but you will not be able \"\n"
     ]
    },
    {
     "ename": "ChronicsError",
     "evalue": "Grid2OpException ChronicsError \"Element named load_1_0 is found in the data (column 1) but it is not found on the powergrid for data of type \"loads\".\nData in files  are: ['load_10_7', 'load_11_8', 'load_12_9', 'load_13_10', 'load_1_0', 'load_2_1', 'load_3_2', 'load_4_3', 'load_5_4', 'load_8_5', 'load_9_6']\nConverter data are: ['LOAD-10', 'LOAD-11', 'LOAD-12', 'LOAD-13', 'LOAD-14', 'LOAD-2', 'LOAD-3', 'LOAD-4', 'LOAD-5', 'LOAD-6', 'LOAD-9']\"",
     "output_type": "error",
     "traceback": [
      "\u001b[1;31m---------------------------------------------------------------------------\u001b[0m",
      "\u001b[1;31mChronicsError\u001b[0m                             Traceback (most recent call last)",
      "Cell \u001b[1;32mIn[22], line 1\u001b[0m\n\u001b[1;32m----> 1\u001b[0m env \u001b[38;5;241m=\u001b[39m \u001b[43mgrid2op\u001b[49m\u001b[38;5;241;43m.\u001b[39;49m\u001b[43mmake\u001b[49m\u001b[43m(\u001b[49m\u001b[38;5;124;43m\"\u001b[39;49m\u001b[38;5;124;43mD:\u001b[39;49m\u001b[38;5;124;43m\\\u001b[39;49m\u001b[38;5;124;43mProjets\u001b[39;49m\u001b[38;5;124;43m\\\u001b[39;49m\u001b[38;5;124;43mAIRGo\u001b[39;49m\u001b[38;5;124;43m\\\u001b[39;49m\u001b[38;5;124;43mOfficialRepo\u001b[39;49m\u001b[38;5;124;43m\\\u001b[39;49m\u001b[38;5;124;43mpypowsybl-grid2opbackend\u001b[39;49m\u001b[38;5;124;43m\\\u001b[39;49m\u001b[38;5;124;43msrc\u001b[39;49m\u001b[38;5;124;43m\\\u001b[39;49m\u001b[38;5;124;43mdata_test\u001b[39;49m\u001b[38;5;124;43m\\\u001b[39;49m\u001b[38;5;124;43ml2rpn_case14_sandbox\u001b[39;49m\u001b[38;5;124;43m\"\u001b[39;49m\u001b[43m,\u001b[49m\u001b[43mbackend\u001b[49m\u001b[43m \u001b[49m\u001b[38;5;241;43m=\u001b[39;49m\u001b[43m \u001b[49m\u001b[43mPowsyblBackend\u001b[49m\u001b[43m(\u001b[49m\u001b[43m)\u001b[49m\u001b[43m)\u001b[49m \n\u001b[0;32m      2\u001b[0m max_iter \u001b[38;5;241m=\u001b[39m \u001b[38;5;241m5\u001b[39m  \u001b[38;5;66;03m# we limit the number of iterations to reduce computation time. Put -1 if you don't want to limit it\u001b[39;00m\n\u001b[0;32m      3\u001b[0m env\u001b[38;5;241m.\u001b[39mseed(\u001b[38;5;241m42\u001b[39m)\n",
      "File \u001b[1;32m~\\AppData\\Local\\pypoetry\\Cache\\virtualenvs\\pypowsybltest-3L0u-b9v-py3.10\\lib\\site-packages\\grid2op\\MakeEnv\\Make.py:382\u001b[0m, in \u001b[0;36mmake\u001b[1;34m(dataset, test, logger, experimental_read_from_local_dir, _add_to_name, _compat_glop_version, **kwargs)\u001b[0m\n\u001b[0;32m    377\u001b[0m     \u001b[38;5;28;01mif\u001b[39;00m \u001b[38;5;129;01mnot\u001b[39;00m \u001b[38;5;124m\"\u001b[39m\u001b[38;5;124mexperimental_read_from_local_dir\u001b[39m\u001b[38;5;124m\"\u001b[39m \u001b[38;5;129;01min\u001b[39;00m kwargs:\n\u001b[0;32m    378\u001b[0m         kwargs[\n\u001b[0;32m    379\u001b[0m             \u001b[38;5;124m\"\u001b[39m\u001b[38;5;124mexperimental_read_from_local_dir\u001b[39m\u001b[38;5;124m\"\u001b[39m\n\u001b[0;32m    380\u001b[0m         ] \u001b[38;5;241m=\u001b[39m experimental_read_from_local_dir\n\u001b[1;32m--> 382\u001b[0m     \u001b[38;5;28;01mreturn\u001b[39;00m make_from_path_fn(\n\u001b[0;32m    383\u001b[0m         dataset_path\u001b[38;5;241m=\u001b[39mdataset,\n\u001b[0;32m    384\u001b[0m         _add_to_name\u001b[38;5;241m=\u001b[39m_add_to_name_tmp,\n\u001b[0;32m    385\u001b[0m         _compat_glop_version\u001b[38;5;241m=\u001b[39m_compat_glop_version_tmp,\n\u001b[0;32m    386\u001b[0m         \u001b[38;5;241m*\u001b[39m\u001b[38;5;241m*\u001b[39mkwargs\n\u001b[0;32m    387\u001b[0m     )\n\u001b[0;32m    389\u001b[0m \u001b[38;5;66;03m# Not a path: get the dataset name and cache path\u001b[39;00m\n\u001b[0;32m    390\u001b[0m dataset_name \u001b[38;5;241m=\u001b[39m _extract_ds_name(dataset)\n",
      "File \u001b[1;32m~\\AppData\\Local\\pypoetry\\Cache\\virtualenvs\\pypowsybltest-3L0u-b9v-py3.10\\lib\\site-packages\\grid2op\\MakeEnv\\MakeFromPath.py:844\u001b[0m, in \u001b[0;36mmake_from_dataset_path\u001b[1;34m(dataset_path, logger, experimental_read_from_local_dir, _add_to_name, _compat_glop_version, **kwargs)\u001b[0m\n\u001b[0;32m    841\u001b[0m     observation_backend_kwargs \u001b[38;5;241m=\u001b[39m \u001b[38;5;28;01mNone\u001b[39;00m\n\u001b[0;32m    843\u001b[0m \u001b[38;5;66;03m# Finally instantiate env from config & overrides\u001b[39;00m\n\u001b[1;32m--> 844\u001b[0m env \u001b[38;5;241m=\u001b[39m \u001b[43mEnvironment\u001b[49m\u001b[43m(\u001b[49m\n\u001b[0;32m    845\u001b[0m \u001b[43m    \u001b[49m\u001b[43minit_env_path\u001b[49m\u001b[38;5;241;43m=\u001b[39;49m\u001b[43mos\u001b[49m\u001b[38;5;241;43m.\u001b[39;49m\u001b[43mpath\u001b[49m\u001b[38;5;241;43m.\u001b[39;49m\u001b[43mabspath\u001b[49m\u001b[43m(\u001b[49m\u001b[43mdataset_path\u001b[49m\u001b[43m)\u001b[49m\u001b[43m,\u001b[49m\n\u001b[0;32m    846\u001b[0m \u001b[43m    \u001b[49m\u001b[43minit_grid_path\u001b[49m\u001b[38;5;241;43m=\u001b[39;49m\u001b[43mgrid_path_abs\u001b[49m\u001b[43m,\u001b[49m\n\u001b[0;32m    847\u001b[0m \u001b[43m    \u001b[49m\u001b[43mchronics_handler\u001b[49m\u001b[38;5;241;43m=\u001b[39;49m\u001b[43mdata_feeding\u001b[49m\u001b[43m,\u001b[49m\n\u001b[0;32m    848\u001b[0m \u001b[43m    \u001b[49m\u001b[43mbackend\u001b[49m\u001b[38;5;241;43m=\u001b[39;49m\u001b[43mbackend\u001b[49m\u001b[43m,\u001b[49m\n\u001b[0;32m    849\u001b[0m \u001b[43m    \u001b[49m\u001b[43mparameters\u001b[49m\u001b[38;5;241;43m=\u001b[39;49m\u001b[43mparam\u001b[49m\u001b[43m,\u001b[49m\n\u001b[0;32m    850\u001b[0m \u001b[43m    \u001b[49m\u001b[43mname\u001b[49m\u001b[38;5;241;43m=\u001b[39;49m\u001b[43mname_env\u001b[49m\u001b[43m \u001b[49m\u001b[38;5;241;43m+\u001b[39;49m\u001b[43m \u001b[49m\u001b[43m_add_to_name\u001b[49m\u001b[43m,\u001b[49m\n\u001b[0;32m    851\u001b[0m \u001b[43m    \u001b[49m\u001b[43mnames_chronics_to_backend\u001b[49m\u001b[38;5;241;43m=\u001b[39;49m\u001b[43mnames_chronics_to_backend\u001b[49m\u001b[43m,\u001b[49m\n\u001b[0;32m    852\u001b[0m \u001b[43m    \u001b[49m\u001b[43mactionClass\u001b[49m\u001b[38;5;241;43m=\u001b[39;49m\u001b[43maction_class\u001b[49m\u001b[43m,\u001b[49m\n\u001b[0;32m    853\u001b[0m \u001b[43m    \u001b[49m\u001b[43mobservationClass\u001b[49m\u001b[38;5;241;43m=\u001b[39;49m\u001b[43mobservation_class\u001b[49m\u001b[43m,\u001b[49m\n\u001b[0;32m    854\u001b[0m \u001b[43m    \u001b[49m\u001b[43mrewardClass\u001b[49m\u001b[38;5;241;43m=\u001b[39;49m\u001b[43mreward_class\u001b[49m\u001b[43m,\u001b[49m\n\u001b[0;32m    855\u001b[0m \u001b[43m    \u001b[49m\u001b[43mlegalActClass\u001b[49m\u001b[38;5;241;43m=\u001b[39;49m\u001b[43mgamerules_class\u001b[49m\u001b[43m,\u001b[49m\n\u001b[0;32m    856\u001b[0m \u001b[43m    \u001b[49m\u001b[43mvoltagecontrolerClass\u001b[49m\u001b[38;5;241;43m=\u001b[39;49m\u001b[43mvolagecontroler_class\u001b[49m\u001b[43m,\u001b[49m\n\u001b[0;32m    857\u001b[0m \u001b[43m    \u001b[49m\u001b[43mother_rewards\u001b[49m\u001b[38;5;241;43m=\u001b[39;49m\u001b[43mother_rewards\u001b[49m\u001b[43m,\u001b[49m\n\u001b[0;32m    858\u001b[0m \u001b[43m    \u001b[49m\u001b[43mopponent_space_type\u001b[49m\u001b[38;5;241;43m=\u001b[39;49m\u001b[43mopponent_space_type\u001b[49m\u001b[43m,\u001b[49m\n\u001b[0;32m    859\u001b[0m \u001b[43m    \u001b[49m\u001b[43mopponent_action_class\u001b[49m\u001b[38;5;241;43m=\u001b[39;49m\u001b[43mopponent_action_class\u001b[49m\u001b[43m,\u001b[49m\n\u001b[0;32m    860\u001b[0m \u001b[43m    \u001b[49m\u001b[43mopponent_class\u001b[49m\u001b[38;5;241;43m=\u001b[39;49m\u001b[43mopponent_class\u001b[49m\u001b[43m,\u001b[49m\n\u001b[0;32m    861\u001b[0m \u001b[43m    \u001b[49m\u001b[43mopponent_init_budget\u001b[49m\u001b[38;5;241;43m=\u001b[39;49m\u001b[43mopponent_init_budget\u001b[49m\u001b[43m,\u001b[49m\n\u001b[0;32m    862\u001b[0m \u001b[43m    \u001b[49m\u001b[43mopponent_attack_duration\u001b[49m\u001b[38;5;241;43m=\u001b[39;49m\u001b[43mopponent_attack_duration\u001b[49m\u001b[43m,\u001b[49m\n\u001b[0;32m    863\u001b[0m \u001b[43m    \u001b[49m\u001b[43mopponent_attack_cooldown\u001b[49m\u001b[38;5;241;43m=\u001b[39;49m\u001b[43mopponent_attack_cooldown\u001b[49m\u001b[43m,\u001b[49m\n\u001b[0;32m    864\u001b[0m \u001b[43m    \u001b[49m\u001b[43mopponent_budget_per_ts\u001b[49m\u001b[38;5;241;43m=\u001b[39;49m\u001b[43mopponent_budget_per_ts\u001b[49m\u001b[43m,\u001b[49m\n\u001b[0;32m    865\u001b[0m \u001b[43m    \u001b[49m\u001b[43mopponent_budget_class\u001b[49m\u001b[38;5;241;43m=\u001b[39;49m\u001b[43mopponent_budget_class\u001b[49m\u001b[43m,\u001b[49m\n\u001b[0;32m    866\u001b[0m \u001b[43m    \u001b[49m\u001b[43mkwargs_opponent\u001b[49m\u001b[38;5;241;43m=\u001b[39;49m\u001b[43mkwargs_opponent\u001b[49m\u001b[43m,\u001b[49m\n\u001b[0;32m    867\u001b[0m \u001b[43m    \u001b[49m\u001b[43mhas_attention_budget\u001b[49m\u001b[38;5;241;43m=\u001b[39;49m\u001b[43mhas_attention_budget\u001b[49m\u001b[43m,\u001b[49m\n\u001b[0;32m    868\u001b[0m \u001b[43m    \u001b[49m\u001b[43mattention_budget_cls\u001b[49m\u001b[38;5;241;43m=\u001b[39;49m\u001b[43mattention_budget_class\u001b[49m\u001b[43m,\u001b[49m\n\u001b[0;32m    869\u001b[0m \u001b[43m    \u001b[49m\u001b[43mkwargs_attention_budget\u001b[49m\u001b[38;5;241;43m=\u001b[39;49m\u001b[43mkwargs_attention_budget\u001b[49m\u001b[43m,\u001b[49m\n\u001b[0;32m    870\u001b[0m \u001b[43m    \u001b[49m\u001b[43mlogger\u001b[49m\u001b[38;5;241;43m=\u001b[39;49m\u001b[43mlogger\u001b[49m\u001b[43m,\u001b[49m\n\u001b[0;32m    871\u001b[0m \u001b[43m    \u001b[49m\u001b[43m_compat_glop_version\u001b[49m\u001b[38;5;241;43m=\u001b[39;49m\u001b[43m_compat_glop_version\u001b[49m\u001b[43m,\u001b[49m\n\u001b[0;32m    872\u001b[0m \u001b[43m    \u001b[49m\u001b[43m_read_from_local_dir\u001b[49m\u001b[38;5;241;43m=\u001b[39;49m\u001b[43mexperimental_read_from_local_dir\u001b[49m\u001b[43m,\u001b[49m\n\u001b[0;32m    873\u001b[0m \u001b[43m    \u001b[49m\u001b[43mkwargs_observation\u001b[49m\u001b[38;5;241;43m=\u001b[39;49m\u001b[43mkwargs_observation\u001b[49m\u001b[43m,\u001b[49m\n\u001b[0;32m    874\u001b[0m \u001b[43m    \u001b[49m\u001b[43mobservation_bk_class\u001b[49m\u001b[38;5;241;43m=\u001b[39;49m\u001b[43mobservation_backend_class\u001b[49m\u001b[43m,\u001b[49m\n\u001b[0;32m    875\u001b[0m \u001b[43m    \u001b[49m\u001b[43mobservation_bk_kwargs\u001b[49m\u001b[38;5;241;43m=\u001b[39;49m\u001b[43mobservation_backend_kwargs\u001b[49m\u001b[43m,\u001b[49m\n\u001b[0;32m    876\u001b[0m \u001b[43m\u001b[49m\u001b[43m)\u001b[49m\n\u001b[0;32m    878\u001b[0m \u001b[38;5;66;03m# Update the thermal limit if any\u001b[39;00m\n\u001b[0;32m    879\u001b[0m \u001b[38;5;28;01mif\u001b[39;00m thermal_limits \u001b[38;5;129;01mis\u001b[39;00m \u001b[38;5;129;01mnot\u001b[39;00m \u001b[38;5;28;01mNone\u001b[39;00m:\n",
      "File \u001b[1;32m~\\AppData\\Local\\pypoetry\\Cache\\virtualenvs\\pypowsybltest-3L0u-b9v-py3.10\\lib\\site-packages\\grid2op\\Environment\\Environment.py:167\u001b[0m, in \u001b[0;36mEnvironment.__init__\u001b[1;34m(self, init_env_path, init_grid_path, chronics_handler, backend, parameters, name, names_chronics_to_backend, actionClass, observationClass, rewardClass, legalActClass, voltagecontrolerClass, other_rewards, thermal_limit_a, with_forecast, epsilon_poly, tol_poly, opponent_space_type, opponent_action_class, opponent_class, opponent_init_budget, opponent_budget_per_ts, opponent_budget_class, opponent_attack_duration, opponent_attack_cooldown, kwargs_opponent, attention_budget_cls, kwargs_attention_budget, has_attention_budget, logger, kwargs_observation, observation_bk_class, observation_bk_kwargs, highres_sim_counter, _init_obs, _raw_backend_class, _compat_glop_version, _read_from_local_dir, _is_test)\u001b[0m\n\u001b[0;32m    164\u001b[0m \u001b[38;5;28mself\u001b[39m\u001b[38;5;241m.\u001b[39m_compat_glop_version \u001b[38;5;241m=\u001b[39m _compat_glop_version\n\u001b[0;32m    166\u001b[0m \u001b[38;5;66;03m# for plotting\u001b[39;00m\n\u001b[1;32m--> 167\u001b[0m \u001b[38;5;28;43mself\u001b[39;49m\u001b[38;5;241;43m.\u001b[39;49m\u001b[43m_init_backend\u001b[49m\u001b[43m(\u001b[49m\n\u001b[0;32m    168\u001b[0m \u001b[43m    \u001b[49m\u001b[43mchronics_handler\u001b[49m\u001b[43m,\u001b[49m\n\u001b[0;32m    169\u001b[0m \u001b[43m    \u001b[49m\u001b[43mbackend\u001b[49m\u001b[43m,\u001b[49m\n\u001b[0;32m    170\u001b[0m \u001b[43m    \u001b[49m\u001b[43mnames_chronics_to_backend\u001b[49m\u001b[43m,\u001b[49m\n\u001b[0;32m    171\u001b[0m \u001b[43m    \u001b[49m\u001b[43mactionClass\u001b[49m\u001b[43m,\u001b[49m\n\u001b[0;32m    172\u001b[0m \u001b[43m    \u001b[49m\u001b[43mobservationClass\u001b[49m\u001b[43m,\u001b[49m\n\u001b[0;32m    173\u001b[0m \u001b[43m    \u001b[49m\u001b[43mrewardClass\u001b[49m\u001b[43m,\u001b[49m\n\u001b[0;32m    174\u001b[0m \u001b[43m    \u001b[49m\u001b[43mlegalActClass\u001b[49m\u001b[43m,\u001b[49m\n\u001b[0;32m    175\u001b[0m \u001b[43m\u001b[49m\u001b[43m)\u001b[49m\n\u001b[0;32m    176\u001b[0m \u001b[38;5;28mself\u001b[39m\u001b[38;5;241m.\u001b[39m_actionClass_orig \u001b[38;5;241m=\u001b[39m actionClass\n\u001b[0;32m    177\u001b[0m \u001b[38;5;28mself\u001b[39m\u001b[38;5;241m.\u001b[39m_observationClass_orig \u001b[38;5;241m=\u001b[39m observationClass\n",
      "File \u001b[1;32m~\\AppData\\Local\\pypoetry\\Cache\\virtualenvs\\pypowsybltest-3L0u-b9v-py3.10\\lib\\site-packages\\grid2op\\Environment\\Environment.py:349\u001b[0m, in \u001b[0;36mEnvironment._init_backend\u001b[1;34m(self, chronics_handler, backend, names_chronics_to_backend, actionClass, observationClass, rewardClass, legalActClass)\u001b[0m\n\u001b[0;32m    346\u001b[0m     names_chronics_to_backend \u001b[38;5;241m=\u001b[39m \u001b[38;5;28mself\u001b[39m\u001b[38;5;241m.\u001b[39mbackend\u001b[38;5;241m.\u001b[39mnames_target_to_source\n\u001b[0;32m    348\u001b[0m \u001b[38;5;28mself\u001b[39m\u001b[38;5;241m.\u001b[39mchronics_handler \u001b[38;5;241m=\u001b[39m chronics_handler\n\u001b[1;32m--> 349\u001b[0m \u001b[38;5;28;43mself\u001b[39;49m\u001b[38;5;241;43m.\u001b[39;49m\u001b[43mchronics_handler\u001b[49m\u001b[38;5;241;43m.\u001b[39;49m\u001b[43minitialize\u001b[49m\u001b[43m(\u001b[49m\n\u001b[0;32m    350\u001b[0m \u001b[43m    \u001b[49m\u001b[38;5;28;43mself\u001b[39;49m\u001b[38;5;241;43m.\u001b[39;49m\u001b[43mname_load\u001b[49m\u001b[43m,\u001b[49m\n\u001b[0;32m    351\u001b[0m \u001b[43m    \u001b[49m\u001b[38;5;28;43mself\u001b[39;49m\u001b[38;5;241;43m.\u001b[39;49m\u001b[43mname_gen\u001b[49m\u001b[43m,\u001b[49m\n\u001b[0;32m    352\u001b[0m \u001b[43m    \u001b[49m\u001b[38;5;28;43mself\u001b[39;49m\u001b[38;5;241;43m.\u001b[39;49m\u001b[43mname_line\u001b[49m\u001b[43m,\u001b[49m\n\u001b[0;32m    353\u001b[0m \u001b[43m    \u001b[49m\u001b[38;5;28;43mself\u001b[39;49m\u001b[38;5;241;43m.\u001b[39;49m\u001b[43mname_sub\u001b[49m\u001b[43m,\u001b[49m\n\u001b[0;32m    354\u001b[0m \u001b[43m    \u001b[49m\u001b[43mnames_chronics_to_backend\u001b[49m\u001b[38;5;241;43m=\u001b[39;49m\u001b[43mnames_chronics_to_backend\u001b[49m\u001b[43m,\u001b[49m\n\u001b[0;32m    355\u001b[0m \u001b[43m\u001b[49m\u001b[43m)\u001b[49m\n\u001b[0;32m    356\u001b[0m \u001b[38;5;28mself\u001b[39m\u001b[38;5;241m.\u001b[39m_names_chronics_to_backend \u001b[38;5;241m=\u001b[39m names_chronics_to_backend\n\u001b[0;32m    357\u001b[0m \u001b[38;5;28mself\u001b[39m\u001b[38;5;241m.\u001b[39mdelta_time_seconds \u001b[38;5;241m=\u001b[39m dt_float(\u001b[38;5;28mself\u001b[39m\u001b[38;5;241m.\u001b[39mchronics_handler\u001b[38;5;241m.\u001b[39mtime_interval\u001b[38;5;241m.\u001b[39mseconds)\n",
      "File \u001b[1;32m~\\AppData\\Local\\pypoetry\\Cache\\virtualenvs\\pypowsybltest-3L0u-b9v-py3.10\\lib\\site-packages\\grid2op\\Chronics\\multiFolder.py:425\u001b[0m, in \u001b[0;36mMultifolder.initialize\u001b[1;34m(self, order_backend_loads, order_backend_prods, order_backend_lines, order_backend_subs, names_chronics_to_backend)\u001b[0m\n\u001b[0;32m    422\u001b[0m     seed_chronics \u001b[38;5;241m=\u001b[39m \u001b[38;5;28mself\u001b[39m\u001b[38;5;241m.\u001b[39mspace_prng\u001b[38;5;241m.\u001b[39mrandint(max_int)\n\u001b[0;32m    423\u001b[0m     \u001b[38;5;28mself\u001b[39m\u001b[38;5;241m.\u001b[39mdata\u001b[38;5;241m.\u001b[39mseed(seed_chronics)\n\u001b[1;32m--> 425\u001b[0m \u001b[38;5;28;43mself\u001b[39;49m\u001b[38;5;241;43m.\u001b[39;49m\u001b[43mdata\u001b[49m\u001b[38;5;241;43m.\u001b[39;49m\u001b[43minitialize\u001b[49m\u001b[43m(\u001b[49m\n\u001b[0;32m    426\u001b[0m \u001b[43m    \u001b[49m\u001b[43morder_backend_loads\u001b[49m\u001b[43m,\u001b[49m\n\u001b[0;32m    427\u001b[0m \u001b[43m    \u001b[49m\u001b[43morder_backend_prods\u001b[49m\u001b[43m,\u001b[49m\n\u001b[0;32m    428\u001b[0m \u001b[43m    \u001b[49m\u001b[43morder_backend_lines\u001b[49m\u001b[43m,\u001b[49m\n\u001b[0;32m    429\u001b[0m \u001b[43m    \u001b[49m\u001b[43morder_backend_subs\u001b[49m\u001b[43m,\u001b[49m\n\u001b[0;32m    430\u001b[0m \u001b[43m    \u001b[49m\u001b[43mnames_chronics_to_backend\u001b[49m\u001b[38;5;241;43m=\u001b[39;49m\u001b[43mnames_chronics_to_backend\u001b[49m\u001b[43m,\u001b[49m\n\u001b[0;32m    431\u001b[0m \u001b[43m\u001b[49m\u001b[43m)\u001b[49m\n",
      "File \u001b[1;32m~\\AppData\\Local\\pypoetry\\Cache\\virtualenvs\\pypowsybltest-3L0u-b9v-py3.10\\lib\\site-packages\\grid2op\\Chronics\\gridStateFromFileWithForecasts.py:150\u001b[0m, in \u001b[0;36mGridStateFromFileWithForecasts.initialize\u001b[1;34m(self, order_backend_loads, order_backend_prods, order_backend_lines, order_backend_subs, names_chronics_to_backend)\u001b[0m\n\u001b[0;32m    131\u001b[0m \u001b[38;5;28;01mdef\u001b[39;00m \u001b[38;5;21minitialize\u001b[39m(\n\u001b[0;32m    132\u001b[0m     \u001b[38;5;28mself\u001b[39m,\n\u001b[0;32m    133\u001b[0m     order_backend_loads,\n\u001b[1;32m   (...)\u001b[0m\n\u001b[0;32m    137\u001b[0m     names_chronics_to_backend\u001b[38;5;241m=\u001b[39m\u001b[38;5;28;01mNone\u001b[39;00m,\n\u001b[0;32m    138\u001b[0m ):\n\u001b[0;32m    139\u001b[0m \u001b[38;5;250m    \u001b[39m\u001b[38;5;124;03m\"\"\"\u001b[39;00m\n\u001b[0;32m    140\u001b[0m \u001b[38;5;124;03m    The same condition as :class:`GridStateFromFile.initialize` applies also for\u001b[39;00m\n\u001b[0;32m    141\u001b[0m \u001b[38;5;124;03m    :attr:`GridStateFromFileWithForecasts.load_p_forecast`,  :attr:`GridStateFromFileWithForecasts.load_q_forecast`,\u001b[39;00m\n\u001b[1;32m   (...)\u001b[0m\n\u001b[0;32m    148\u001b[0m \n\u001b[0;32m    149\u001b[0m \u001b[38;5;124;03m    \"\"\"\u001b[39;00m\n\u001b[1;32m--> 150\u001b[0m     \u001b[38;5;28;43msuper\u001b[39;49m\u001b[43m(\u001b[49m\u001b[43m)\u001b[49m\u001b[38;5;241;43m.\u001b[39;49m\u001b[43minitialize\u001b[49m\u001b[43m(\u001b[49m\n\u001b[0;32m    151\u001b[0m \u001b[43m        \u001b[49m\u001b[43morder_backend_loads\u001b[49m\u001b[43m,\u001b[49m\n\u001b[0;32m    152\u001b[0m \u001b[43m        \u001b[49m\u001b[43morder_backend_prods\u001b[49m\u001b[43m,\u001b[49m\n\u001b[0;32m    153\u001b[0m \u001b[43m        \u001b[49m\u001b[43morder_backend_lines\u001b[49m\u001b[43m,\u001b[49m\n\u001b[0;32m    154\u001b[0m \u001b[43m        \u001b[49m\u001b[43morder_backend_subs\u001b[49m\u001b[43m,\u001b[49m\n\u001b[0;32m    155\u001b[0m \u001b[43m        \u001b[49m\u001b[43mnames_chronics_to_backend\u001b[49m\u001b[43m,\u001b[49m\n\u001b[0;32m    156\u001b[0m \u001b[43m    \u001b[49m\u001b[43m)\u001b[49m\n\u001b[0;32m    158\u001b[0m     \u001b[38;5;28;01mif\u001b[39;00m \u001b[38;5;28mself\u001b[39m\u001b[38;5;241m.\u001b[39mchunk_size \u001b[38;5;129;01mis\u001b[39;00m \u001b[38;5;129;01mnot\u001b[39;00m \u001b[38;5;28;01mNone\u001b[39;00m:\n\u001b[0;32m    159\u001b[0m         chunk_size \u001b[38;5;241m=\u001b[39m \u001b[38;5;28mself\u001b[39m\u001b[38;5;241m.\u001b[39mchunk_size \u001b[38;5;241m*\u001b[39m \u001b[38;5;28mself\u001b[39m\u001b[38;5;241m.\u001b[39m_nb_forecast\n",
      "File \u001b[1;32m~\\AppData\\Local\\pypoetry\\Cache\\virtualenvs\\pypowsybltest-3L0u-b9v-py3.10\\lib\\site-packages\\grid2op\\Chronics\\gridStateFromFile.py:625\u001b[0m, in \u001b[0;36mGridStateFromFile.initialize\u001b[1;34m(self, order_backend_loads, order_backend_prods, order_backend_lines, order_backend_subs, names_chronics_to_backend)\u001b[0m\n\u001b[0;32m    615\u001b[0m     load_p, load_q, prod_p, prod_v \u001b[38;5;241m=\u001b[39m \u001b[38;5;28mself\u001b[39m\u001b[38;5;241m.\u001b[39m_get_next_chunk()\n\u001b[0;32m    617\u001b[0m \u001b[38;5;66;03m# get the chronics in order\u001b[39;00m\n\u001b[0;32m    618\u001b[0m (\n\u001b[0;32m    619\u001b[0m     order_chronics_load_p,\n\u001b[0;32m    620\u001b[0m     order_backend_load_q,\n\u001b[0;32m    621\u001b[0m     order_backend_prod_p,\n\u001b[0;32m    622\u001b[0m     order_backend_prod_v,\n\u001b[0;32m    623\u001b[0m     order_backend_hazards,\n\u001b[0;32m    624\u001b[0m     order_backend_maintenance,\n\u001b[1;32m--> 625\u001b[0m ) \u001b[38;5;241m=\u001b[39m \u001b[38;5;28;43mself\u001b[39;49m\u001b[38;5;241;43m.\u001b[39;49m\u001b[43m_get_orders\u001b[49m\u001b[43m(\u001b[49m\n\u001b[0;32m    626\u001b[0m \u001b[43m    \u001b[49m\u001b[43mload_p\u001b[49m\u001b[43m,\u001b[49m\n\u001b[0;32m    627\u001b[0m \u001b[43m    \u001b[49m\u001b[43mload_q\u001b[49m\u001b[43m,\u001b[49m\n\u001b[0;32m    628\u001b[0m \u001b[43m    \u001b[49m\u001b[43mprod_p\u001b[49m\u001b[43m,\u001b[49m\n\u001b[0;32m    629\u001b[0m \u001b[43m    \u001b[49m\u001b[43mprod_v\u001b[49m\u001b[43m,\u001b[49m\n\u001b[0;32m    630\u001b[0m \u001b[43m    \u001b[49m\u001b[43mhazards\u001b[49m\u001b[43m,\u001b[49m\n\u001b[0;32m    631\u001b[0m \u001b[43m    \u001b[49m\u001b[43mmaintenance\u001b[49m\u001b[43m,\u001b[49m\n\u001b[0;32m    632\u001b[0m \u001b[43m    \u001b[49m\u001b[43morder_backend_loads\u001b[49m\u001b[43m,\u001b[49m\n\u001b[0;32m    633\u001b[0m \u001b[43m    \u001b[49m\u001b[43morder_backend_prods\u001b[49m\u001b[43m,\u001b[49m\n\u001b[0;32m    634\u001b[0m \u001b[43m    \u001b[49m\u001b[43morder_backend_lines\u001b[49m\u001b[43m,\u001b[49m\n\u001b[0;32m    635\u001b[0m \u001b[43m\u001b[49m\u001b[43m)\u001b[49m\n\u001b[0;32m    637\u001b[0m \u001b[38;5;66;03m# now \"sort\" the columns of each chunk of data\u001b[39;00m\n\u001b[0;32m    638\u001b[0m \u001b[38;5;28mself\u001b[39m\u001b[38;5;241m.\u001b[39m_order_load_p \u001b[38;5;241m=\u001b[39m np\u001b[38;5;241m.\u001b[39margsort(order_chronics_load_p)\n",
      "File \u001b[1;32m~\\AppData\\Local\\pypoetry\\Cache\\virtualenvs\\pypowsybltest-3L0u-b9v-py3.10\\lib\\site-packages\\grid2op\\Chronics\\gridStateFromFile.py:361\u001b[0m, in \u001b[0;36mGridStateFromFile._get_orders\u001b[1;34m(self, load_p, load_q, prod_p, prod_v, hazards, maintenance, order_backend_loads, order_backend_prods, order_backend_lines)\u001b[0m\n\u001b[0;32m    358\u001b[0m order_backend_maintenance \u001b[38;5;241m=\u001b[39m \u001b[38;5;28;01mNone\u001b[39;00m\n\u001b[0;32m    360\u001b[0m \u001b[38;5;28;01mif\u001b[39;00m load_p \u001b[38;5;129;01mis\u001b[39;00m \u001b[38;5;129;01mnot\u001b[39;00m \u001b[38;5;28;01mNone\u001b[39;00m:\n\u001b[1;32m--> 361\u001b[0m     \u001b[38;5;28;43mself\u001b[39;49m\u001b[38;5;241;43m.\u001b[39;49m\u001b[43m_assert_correct_second_stage\u001b[49m\u001b[43m(\u001b[49m\n\u001b[0;32m    362\u001b[0m \u001b[43m        \u001b[49m\u001b[43mload_p\u001b[49m\u001b[38;5;241;43m.\u001b[39;49m\u001b[43mcolumns\u001b[49m\u001b[43m,\u001b[49m\u001b[43m \u001b[49m\u001b[38;5;28;43mself\u001b[39;49m\u001b[38;5;241;43m.\u001b[39;49m\u001b[43mnames_chronics_to_backend\u001b[49m\u001b[43m,\u001b[49m\u001b[43m \u001b[49m\u001b[38;5;124;43m\"\u001b[39;49m\u001b[38;5;124;43mloads\u001b[39;49m\u001b[38;5;124;43m\"\u001b[39;49m\u001b[43m,\u001b[49m\u001b[43m \u001b[49m\u001b[38;5;124;43m\"\u001b[39;49m\u001b[38;5;124;43mactive\u001b[39;49m\u001b[38;5;124;43m\"\u001b[39;49m\n\u001b[0;32m    363\u001b[0m \u001b[43m    \u001b[49m\u001b[43m)\u001b[49m\n\u001b[0;32m    364\u001b[0m     order_chronics_load_p \u001b[38;5;241m=\u001b[39m np\u001b[38;5;241m.\u001b[39marray(\n\u001b[0;32m    365\u001b[0m         [\n\u001b[0;32m    366\u001b[0m             order_backend_loads[\u001b[38;5;28mself\u001b[39m\u001b[38;5;241m.\u001b[39mnames_chronics_to_backend[\u001b[38;5;124m\"\u001b[39m\u001b[38;5;124mloads\u001b[39m\u001b[38;5;124m\"\u001b[39m][el]]\n\u001b[0;32m    367\u001b[0m             \u001b[38;5;28;01mfor\u001b[39;00m el \u001b[38;5;129;01min\u001b[39;00m load_p\u001b[38;5;241m.\u001b[39mcolumns\n\u001b[0;32m    368\u001b[0m         ]\n\u001b[0;32m    369\u001b[0m     )\u001b[38;5;241m.\u001b[39mastype(dt_int)\n\u001b[0;32m    370\u001b[0m \u001b[38;5;28;01mif\u001b[39;00m load_q \u001b[38;5;129;01mis\u001b[39;00m \u001b[38;5;129;01mnot\u001b[39;00m \u001b[38;5;28;01mNone\u001b[39;00m:\n",
      "File \u001b[1;32m~\\AppData\\Local\\pypoetry\\Cache\\virtualenvs\\pypowsybltest-3L0u-b9v-py3.10\\lib\\site-packages\\grid2op\\Chronics\\gridStateFromFile.py:256\u001b[0m, in \u001b[0;36mGridStateFromFile._assert_correct_second_stage\u001b[1;34m(self, pandas_name, dict_convert, key, extra)\u001b[0m\n\u001b[0;32m    254\u001b[0m \u001b[38;5;28;01mfor\u001b[39;00m i, el \u001b[38;5;129;01min\u001b[39;00m \u001b[38;5;28menumerate\u001b[39m(pandas_name):\n\u001b[0;32m    255\u001b[0m     \u001b[38;5;28;01mif\u001b[39;00m \u001b[38;5;129;01mnot\u001b[39;00m el \u001b[38;5;129;01min\u001b[39;00m dict_convert[key]:\n\u001b[1;32m--> 256\u001b[0m         \u001b[38;5;28;01mraise\u001b[39;00m ChronicsError(\n\u001b[0;32m    257\u001b[0m             \u001b[38;5;124m\"\u001b[39m\u001b[38;5;124mElement named \u001b[39m\u001b[38;5;132;01m{}\u001b[39;00m\u001b[38;5;124m is found in the data (column \u001b[39m\u001b[38;5;132;01m{}\u001b[39;00m\u001b[38;5;124m) but it is not found on the \u001b[39m\u001b[38;5;124m\"\u001b[39m\n\u001b[0;32m    258\u001b[0m             \u001b[38;5;124m'\u001b[39m\u001b[38;5;124mpowergrid for data of type \u001b[39m\u001b[38;5;124m\"\u001b[39m\u001b[38;5;132;01m{}\u001b[39;00m\u001b[38;5;124m\"\u001b[39m\u001b[38;5;124m.\u001b[39m\u001b[38;5;130;01m\\n\u001b[39;00m\u001b[38;5;124mData in files  are: \u001b[39m\u001b[38;5;132;01m{}\u001b[39;00m\u001b[38;5;130;01m\\n\u001b[39;00m\u001b[38;5;124m'\u001b[39m\n\u001b[0;32m    259\u001b[0m             \u001b[38;5;124m\"\u001b[39m\u001b[38;5;124mConverter data are: \u001b[39m\u001b[38;5;132;01m{}\u001b[39;00m\u001b[38;5;124m\"\u001b[39m\u001b[38;5;241m.\u001b[39mformat(\n\u001b[0;32m    260\u001b[0m                 el,\n\u001b[0;32m    261\u001b[0m                 i \u001b[38;5;241m+\u001b[39m \u001b[38;5;241m1\u001b[39m,\n\u001b[0;32m    262\u001b[0m                 key,\n\u001b[0;32m    263\u001b[0m                 \u001b[38;5;28msorted\u001b[39m(\u001b[38;5;28mlist\u001b[39m(pandas_name)),\n\u001b[0;32m    264\u001b[0m                 \u001b[38;5;28msorted\u001b[39m(\u001b[38;5;28mlist\u001b[39m(dict_convert[key]\u001b[38;5;241m.\u001b[39mkeys())),\n\u001b[0;32m    265\u001b[0m             )\n\u001b[0;32m    266\u001b[0m         )\n",
      "\u001b[1;31mChronicsError\u001b[0m: Grid2OpException ChronicsError \"Element named load_1_0 is found in the data (column 1) but it is not found on the powergrid for data of type \"loads\".\nData in files  are: ['load_10_7', 'load_11_8', 'load_12_9', 'load_13_10', 'load_1_0', 'load_2_1', 'load_3_2', 'load_4_3', 'load_5_4', 'load_8_5', 'load_9_6']\nConverter data are: ['LOAD-10', 'LOAD-11', 'LOAD-12', 'LOAD-13', 'LOAD-14', 'LOAD-2', 'LOAD-3', 'LOAD-4', 'LOAD-5', 'LOAD-6', 'LOAD-9']\""
     ]
    }
   ],
   "source": [
    "env = grid2op.make(\"D:\\Projets\\AIRGo\\OfficialRepo\\pypowsybl-grid2opbackend\\src\\data_test\\l2rpn_case14_sandbox\",backend = PowsyblBackend()) \n",
    "max_iter = 5  # we limit the number of iterations to reduce computation time. Put -1 if you don't want to limit it\n",
    "env.seed(42)\n",
    "obs = env.reset()"
   ]
  }
 ],
 "metadata": {
  "kernelspec": {
   "display_name": "Python 3 (ipykernel)",
   "language": "python",
   "name": "python3"
  },
  "language_info": {
   "codemirror_mode": {
    "name": "ipython",
    "version": 3
   },
   "file_extension": ".py",
   "mimetype": "text/x-python",
   "name": "python",
   "nbconvert_exporter": "python",
   "pygments_lexer": "ipython3",
   "version": "3.10.10"
  }
 },
 "nbformat": 4,
 "nbformat_minor": 5
}
