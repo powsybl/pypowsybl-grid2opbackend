{
 "cells": [
  {
   "cell_type": "markdown",
   "id": "fc820d4f",
   "metadata": {},
   "source": [
    "### Imports"
   ]
  },
  {
   "cell_type": "code",
   "execution_count": null,
   "id": "3b750114",
   "metadata": {},
   "outputs": [],
   "source": [
    "import pypowsybl.network as pp\n",
    "import pypowsybl.loadflow as lf\n",
    "import pypowsybl as ppow\n",
    "import pandapower as pp\n",
    "from pypowsybl.network import _path_to_str"
   ]
  },
  {
   "cell_type": "code",
   "execution_count": null,
   "id": "b725fe65",
   "metadata": {},
   "outputs": [],
   "source": [
    "full_path = \"../pypowsybl_grid2opbackend/data_test/l2rpn_case14_sandbox_Pypowsybl/grid.json\""
   ]
  },
  {
   "cell_type": "code",
   "execution_count": null,
   "id": "28e75f53",
   "metadata": {},
   "outputs": [],
   "source": [
    "pandapow_net = pp.from_json(full_path)"
   ]
  },
  {
   "cell_type": "code",
   "execution_count": null,
   "id": "2d7982f0",
   "metadata": {},
   "outputs": [],
   "source": [
    "mat_path = full_path[:2] + full_path[2:].split('.')[0] + '.mat'"
   ]
  },
  {
   "cell_type": "code",
   "execution_count": null,
   "id": "cb2613c2",
   "metadata": {},
   "outputs": [],
   "source": [
    "mat_path"
   ]
  },
  {
   "cell_type": "code",
   "execution_count": null,
   "id": "4e805b6d",
   "metadata": {},
   "outputs": [],
   "source": [
    "_ = pp.converter.to_mpc(pandapow_net, mat_path , init='flat')"
   ]
  },
  {
   "cell_type": "code",
   "execution_count": null,
   "id": "504ebc06",
   "metadata": {},
   "outputs": [],
   "source": [
    "grid = ppow.network.load(_path_to_str(mat_path),{'matpower.import.ignore-base-voltage': 'false'})"
   ]
  },
  {
   "cell_type": "markdown",
   "id": "2a3744c2",
   "metadata": {},
   "source": [
    "### Illustrative example the transformers"
   ]
  },
  {
   "cell_type": "code",
   "execution_count": null,
   "id": "f82d0c35",
   "metadata": {},
   "outputs": [],
   "source": [
    "pandapow_net.trafo"
   ]
  },
  {
   "cell_type": "code",
   "execution_count": null,
   "id": "e91c771b",
   "metadata": {},
   "outputs": [],
   "source": [
    "grid.get_2_windings_transformers()"
   ]
  }
 ],
 "metadata": {
  "kernelspec": {
   "display_name": "Python 3 (ipykernel)",
   "language": "python",
   "name": "python3"
  },
  "language_info": {
   "codemirror_mode": {
    "name": "ipython",
    "version": 3
   },
   "file_extension": ".py",
   "mimetype": "text/x-python",
   "name": "python",
   "nbconvert_exporter": "python",
   "pygments_lexer": "ipython3",
   "version": "3.10.10"
  }
 },
 "nbformat": 4,
 "nbformat_minor": 5
}
