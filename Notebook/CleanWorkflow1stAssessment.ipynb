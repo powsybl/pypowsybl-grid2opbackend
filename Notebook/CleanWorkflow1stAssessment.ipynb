{
 "cells": [
  {
   "cell_type": "markdown",
   "id": "7137b170",
   "metadata": {},
   "source": [
    "# Notebook for first assessment"
   ]
  },
  {
   "cell_type": "markdown",
   "id": "b8b07e65",
   "metadata": {},
   "source": [
    "### Import of libraries"
   ]
  },
  {
   "cell_type": "code",
   "execution_count": null,
   "id": "fb5651a9",
   "metadata": {},
   "outputs": [],
   "source": [
    "import pypowsybl.network as pp\n",
    "import pypowsybl.loadflow as lf"
   ]
  },
  {
   "cell_type": "code",
   "execution_count": null,
   "id": "3ebd4552",
   "metadata": {},
   "outputs": [],
   "source": [
    "import pandapower as pdp\n",
    "import pandapower.networks as pn\n",
    "from pandapower.plotting.plotly import simple_plotly"
   ]
  },
  {
   "cell_type": "code",
   "execution_count": null,
   "id": "83c314ef",
   "metadata": {},
   "outputs": [],
   "source": [
    "import grid2op"
   ]
  },
  {
   "cell_type": "markdown",
   "id": "1c361152",
   "metadata": {},
   "source": [
    "## First part : drop IEEE14 realisitic scenario by Grid2op and load it with pypowsybl"
   ]
  },
  {
   "cell_type": "markdown",
   "id": "fd3dc633",
   "metadata": {},
   "source": [
    "#### Export of Grid2op IEEE14 realistic scenario by Grid2op"
   ]
  },
  {
   "cell_type": "code",
   "execution_count": null,
   "id": "9fce99eb",
   "metadata": {},
   "outputs": [],
   "source": [
    "env = grid2op.make(\"rte_case14_realistic\")"
   ]
  },
  {
   "cell_type": "markdown",
   "id": "c7c7b01e",
   "metadata": {},
   "source": [
    "Use of pandapower (which is the default backend of Grid2op) to convert our grid file to a .mat file rather then a .json file. Pypowsybl could only read matpower, xiidm, UCTE, CGMES, PSS/E or IEEE-CDF type of file. So this is the only possible type of file that is making the bridge between pandapower and powsybl backend."
   ]
  },
  {
   "cell_type": "code",
   "execution_count": null,
   "id": "b15d9492",
   "metadata": {},
   "outputs": [],
   "source": [
    "_ = pdp.converter.to_mpc(env.backend._grid, \"case14_grid2op_realistic.mat\")"
   ]
  },
  {
   "cell_type": "markdown",
   "id": "4368f603",
   "metadata": {},
   "source": [
    "#### Load of Grid2op's IEEE14 realistic dropped matpower file with pypowsybl"
   ]
  },
  {
   "cell_type": "code",
   "execution_count": null,
   "id": "102fda5a",
   "metadata": {},
   "outputs": [],
   "source": [
    "pypowsybl_network = pp.load(\"case14_grid2op_realistic.mat\",{'matpower.import.ignore-base-voltage' : 'false'}) #change the voltage from per unit to Kv"
   ]
  },
  {
   "cell_type": "markdown",
   "id": "5c7b825f",
   "metadata": {},
   "source": [
    "#### Visualisation of the network"
   ]
  },
  {
   "cell_type": "code",
   "execution_count": null,
   "id": "01ec812e",
   "metadata": {
    "scrolled": false
   },
   "outputs": [],
   "source": [
    "pypowsybl_network.get_network_area_diagram()"
   ]
  },
  {
   "cell_type": "markdown",
   "id": "1a2eb19c",
   "metadata": {},
   "source": [
    "#### Run of a loadflow with pypowsybl"
   ]
  },
  {
   "cell_type": "markdown",
   "id": "b4c9b83c",
   "metadata": {},
   "source": [
    "AC loadflow"
   ]
  },
  {
   "cell_type": "code",
   "execution_count": null,
   "id": "ce016f62",
   "metadata": {},
   "outputs": [],
   "source": [
    "results_pypow_ac = lf.run_ac(pypowsybl_network,parameters=lf.Parameters(distributed_slack=False))\n",
    "print(results_pypow_ac)"
   ]
  },
  {
   "cell_type": "markdown",
   "id": "553404f0",
   "metadata": {},
   "source": [
    "DC loadflow (optionnal run AC or DC but not both)"
   ]
  },
  {
   "cell_type": "code",
   "execution_count": null,
   "id": "e7ca19f2",
   "metadata": {},
   "outputs": [],
   "source": [
    "results_pypow_dc = lf.run_dc(pypowsybl_network,parameters=lf.Parameters(distributed_slack=False))\n",
    "print(results_pypow_dc)"
   ]
  },
  {
   "cell_type": "markdown",
   "id": "45e5d5d7",
   "metadata": {},
   "source": [
    "## Second Part : Take an action on the network"
   ]
  },
  {
   "cell_type": "markdown",
   "id": "58353c06",
   "metadata": {},
   "source": [
    "#### An agent takes an action on the network : disconnection of the Line 4-5"
   ]
  },
  {
   "cell_type": "code",
   "execution_count": null,
   "id": "13d6f247",
   "metadata": {},
   "outputs": [],
   "source": [
    "pypowsybl_network.update_lines(id='LINE-4-5', connected1=False,connected2=False)"
   ]
  },
  {
   "cell_type": "markdown",
   "id": "f5cef086",
   "metadata": {},
   "source": [
    "#### Visualisation of the network"
   ]
  },
  {
   "cell_type": "code",
   "execution_count": null,
   "id": "3cb1fd08",
   "metadata": {
    "scrolled": false
   },
   "outputs": [],
   "source": [
    "pypowsybl_network.get_network_area_diagram()"
   ]
  },
  {
   "cell_type": "markdown",
   "id": "9d0440c6",
   "metadata": {},
   "source": [
    "#### Run of a loadflow"
   ]
  },
  {
   "cell_type": "markdown",
   "id": "891181a3",
   "metadata": {},
   "source": [
    "AC loadflow"
   ]
  },
  {
   "cell_type": "code",
   "execution_count": null,
   "id": "161479eb",
   "metadata": {},
   "outputs": [],
   "source": [
    "results_pypow_after_disconnection_ac = lf.run_ac(pypowsybl_network,parameters=lf.Parameters(distributed_slack=False))\n",
    "print(results_pypow_after_disconnection_ac)"
   ]
  },
  {
   "cell_type": "markdown",
   "id": "0209ee25",
   "metadata": {},
   "source": [
    "DC loadflow (optionnal run AC or DC but not both)"
   ]
  },
  {
   "cell_type": "code",
   "execution_count": null,
   "id": "7c6b614b",
   "metadata": {},
   "outputs": [],
   "source": [
    "results_pypow_after_disconnection_dc = lf.run_dc(pypowsybl_network,parameters=lf.Parameters(distributed_slack=False))\n",
    "print(results_pypow_after_disconnection_dc)"
   ]
  },
  {
   "cell_type": "markdown",
   "id": "5ece1e45",
   "metadata": {},
   "source": [
    "#### Final visualisation"
   ]
  },
  {
   "cell_type": "code",
   "execution_count": null,
   "id": "dc56db3c",
   "metadata": {},
   "outputs": [],
   "source": [
    "pypowsybl_network.get_network_area_diagram()"
   ]
  }
 ],
 "metadata": {
  "kernelspec": {
   "display_name": "Python 3 (ipykernel)",
   "language": "python",
   "name": "python3"
  },
  "language_info": {
   "codemirror_mode": {
    "name": "ipython",
    "version": 3
   },
   "file_extension": ".py",
   "mimetype": "text/x-python",
   "name": "python",
   "nbconvert_exporter": "python",
   "pygments_lexer": "ipython3",
   "version": "3.10.10"
  }
 },
 "nbformat": 4,
 "nbformat_minor": 5
}
