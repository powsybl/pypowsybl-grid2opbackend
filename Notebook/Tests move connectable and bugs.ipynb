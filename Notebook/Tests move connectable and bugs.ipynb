{
 "cells": [
  {
   "cell_type": "markdown",
   "id": "fc820d4f",
   "metadata": {},
   "source": [
    "### Imports"
   ]
  },
  {
   "cell_type": "code",
   "execution_count": null,
   "id": "3b750114",
   "metadata": {},
   "outputs": [],
   "source": [
    "import pypowsybl.network as pp\n",
    "import pypowsybl.loadflow as lf\n",
    "import pypowsybl as ppow"
   ]
  },
  {
   "cell_type": "markdown",
   "id": "ee2e2bfd",
   "metadata": {},
   "source": [
    "### Definition of doubling bus function as we are doing in Grid2op"
   ]
  },
  {
   "cell_type": "code",
   "execution_count": null,
   "id": "b8f69f24",
   "metadata": {},
   "outputs": [],
   "source": [
    "def _double_buses(grid):\n",
    "\n",
    "    df = grid.get_buses()\n",
    "    L = []\n",
    "    for elem in grid.get_voltage_levels().index:\n",
    "        for bus_id in grid.get_bus_breaker_topology(voltage_level_id=elem).buses.index:\n",
    "            L.append(bus_id)\n",
    "    L_voltage_id = df['voltage_level_id'].to_list()\n",
    "    for i in range(len(L)):\n",
    "        grid.create_buses(id=L[i] + '_bis', voltage_level_id=L_voltage_id[i], name=df['name'][i])"
   ]
  },
  {
   "cell_type": "markdown",
   "id": "95d1b9b0",
   "metadata": {},
   "source": [
    "### Move connectable test"
   ]
  },
  {
   "cell_type": "markdown",
   "id": "f3379b1a",
   "metadata": {},
   "source": [
    "#### Description of network"
   ]
  },
  {
   "cell_type": "code",
   "execution_count": null,
   "id": "101ddbbb",
   "metadata": {},
   "outputs": [],
   "source": [
    "network_pp = pp.create_ieee14()"
   ]
  },
  {
   "cell_type": "code",
   "execution_count": null,
   "id": "7c464c69",
   "metadata": {
    "scrolled": true
   },
   "outputs": [],
   "source": [
    "network_pp.get_lines(all_attributes=True)"
   ]
  },
  {
   "cell_type": "code",
   "execution_count": null,
   "id": "317286ee",
   "metadata": {
    "scrolled": true
   },
   "outputs": [],
   "source": [
    "network_pp.get_loads(all_attributes=True)"
   ]
  },
  {
   "cell_type": "code",
   "execution_count": null,
   "id": "f5ca9f7b",
   "metadata": {
    "scrolled": true
   },
   "outputs": [],
   "source": [
    "network_pp.get_generators(all_attributes=True)"
   ]
  },
  {
   "cell_type": "markdown",
   "id": "a05f7ac9",
   "metadata": {},
   "source": [
    "#### Moving generator only : verification of bug"
   ]
  },
  {
   "cell_type": "code",
   "execution_count": null,
   "id": "94694046",
   "metadata": {},
   "outputs": [],
   "source": [
    "network_pp = pp.create_ieee14()\n",
    "_double_buses(network_pp)\n",
    "\n",
    "ppow.network.move_connectable(network=network_pp, equipment_id='B2-G', bus_origin_id='B2',\n",
    "                                bus_destination_id='B2_bis')"
   ]
  },
  {
   "cell_type": "code",
   "execution_count": null,
   "id": "7015dd7c",
   "metadata": {},
   "outputs": [],
   "source": [
    "results_pypow = lf.run_ac(network_pp)"
   ]
  },
  {
   "cell_type": "markdown",
   "id": "5f50a697",
   "metadata": {},
   "source": [
    "Convergence but can not access to generators"
   ]
  },
  {
   "cell_type": "code",
   "execution_count": null,
   "id": "1bf98a04",
   "metadata": {},
   "outputs": [],
   "source": [
    "results_pypow"
   ]
  },
  {
   "cell_type": "code",
   "execution_count": null,
   "id": "5148b36c",
   "metadata": {
    "scrolled": true
   },
   "outputs": [],
   "source": [
    "network_pp.get_generators(all_attributes=True)"
   ]
  },
  {
   "cell_type": "markdown",
   "id": "1dbc09e0",
   "metadata": {},
   "source": [
    "#### Test with load"
   ]
  },
  {
   "cell_type": "code",
   "execution_count": null,
   "id": "8940c313",
   "metadata": {},
   "outputs": [],
   "source": [
    "network_pp = pp.create_ieee14()\n",
    "_double_buses(network_pp)\n",
    "\n",
    "ppow.network.move_connectable(network=network_pp, equipment_id='B2-L', bus_origin_id='B2',\n",
    "                                bus_destination_id='B2_bis')"
   ]
  },
  {
   "cell_type": "code",
   "execution_count": null,
   "id": "6cde7ad6",
   "metadata": {},
   "outputs": [],
   "source": [
    "results_pypow = lf.run_ac(network_pp)"
   ]
  },
  {
   "cell_type": "markdown",
   "id": "bb97b4c6",
   "metadata": {},
   "source": [
    "Converge and can access to load even if isolate"
   ]
  },
  {
   "cell_type": "code",
   "execution_count": null,
   "id": "88b5b791",
   "metadata": {},
   "outputs": [],
   "source": [
    "results_pypow"
   ]
  },
  {
   "cell_type": "code",
   "execution_count": null,
   "id": "3a024241",
   "metadata": {},
   "outputs": [],
   "source": [
    "network_pp.get_loads(all_attributes=True)"
   ]
  },
  {
   "cell_type": "markdown",
   "id": "9e5964d3",
   "metadata": {},
   "source": [
    "#### Test with line changes before"
   ]
  },
  {
   "cell_type": "code",
   "execution_count": null,
   "id": "8354f368",
   "metadata": {},
   "outputs": [],
   "source": [
    "network_pp = pp.create_ieee14()\n",
    "_double_buses(network_pp)\n",
    "\n",
    "pp.move_connectable(network=network_pp,equipment_id='L2-3-1', bus_origin_id='B2', bus_destination_id='B2_bis')\n",
    "pp.move_connectable(network=network_pp,equipment_id='B2-G', bus_origin_id='B2', bus_destination_id='B2_bis')"
   ]
  },
  {
   "cell_type": "markdown",
   "id": "29a3f199",
   "metadata": {},
   "source": [
    "It seems there is a Powsybl Error"
   ]
  },
  {
   "cell_type": "code",
   "execution_count": null,
   "id": "f3f383c4",
   "metadata": {
    "scrolled": true
   },
   "outputs": [],
   "source": [
    "results_pypow = lf.run_ac(network_pp)"
   ]
  },
  {
   "cell_type": "code",
   "execution_count": null,
   "id": "29496819",
   "metadata": {
    "scrolled": true
   },
   "outputs": [],
   "source": [
    "network_pp.get_lines(all_attributes=True)"
   ]
  },
  {
   "cell_type": "code",
   "execution_count": null,
   "id": "16fd833e",
   "metadata": {},
   "outputs": [],
   "source": [
    "network_pp.get_generators(all_attributes=True)"
   ]
  },
  {
   "cell_type": "markdown",
   "id": "cc4835cf",
   "metadata": {},
   "source": [
    "#### Same test with load instead of generator"
   ]
  },
  {
   "cell_type": "code",
   "execution_count": null,
   "id": "6989f682",
   "metadata": {},
   "outputs": [],
   "source": [
    "network_pp = pp.create_ieee14()\n",
    "_double_buses(network_pp)\n",
    "\n",
    "pp.move_connectable(network=network_pp,equipment_id='L2-3-1', bus_origin_id='B2', bus_destination_id='B2_bis')\n",
    "ppow.network.move_connectable(network=network_pp, equipment_id='B2-L', bus_origin_id='B2', bus_destination_id='B2_bis')"
   ]
  },
  {
   "cell_type": "code",
   "execution_count": null,
   "id": "0781048a",
   "metadata": {},
   "outputs": [],
   "source": [
    "results_pypow = lf.run_ac(network_pp)"
   ]
  },
  {
   "cell_type": "code",
   "execution_count": null,
   "id": "7fa2e255",
   "metadata": {},
   "outputs": [],
   "source": [
    "results_pypow"
   ]
  },
  {
   "cell_type": "code",
   "execution_count": null,
   "id": "e8c30571",
   "metadata": {},
   "outputs": [],
   "source": [
    "network_pp.get_lines(all_attributes=True)"
   ]
  },
  {
   "cell_type": "code",
   "execution_count": null,
   "id": "8849cbfc",
   "metadata": {},
   "outputs": [],
   "source": [
    "network_pp.get_loads(all_attributes=True)"
   ]
  }
 ],
 "metadata": {
  "kernelspec": {
   "display_name": "Python 3 (ipykernel)",
   "language": "python",
   "name": "python3"
  },
  "language_info": {
   "codemirror_mode": {
    "name": "ipython",
    "version": 3
   },
   "file_extension": ".py",
   "mimetype": "text/x-python",
   "name": "python",
   "nbconvert_exporter": "python",
   "pygments_lexer": "ipython3",
   "version": "3.10.10"
  }
 },
 "nbformat": 4,
 "nbformat_minor": 5
}
