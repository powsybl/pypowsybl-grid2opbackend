{
 "cells": [
  {
   "cell_type": "markdown",
   "id": "38283226",
   "metadata": {},
   "source": [
    "# Notebook for M3 assesment"
   ]
  },
  {
   "cell_type": "markdown",
   "id": "3764d929",
   "metadata": {},
   "source": [
    "### Import of libraries"
   ]
  },
  {
   "cell_type": "code",
   "execution_count": 35,
   "id": "06da9afa",
   "metadata": {},
   "outputs": [],
   "source": [
    "import grid2op\n",
    "from Grid2OpPowsybl.src.Backend.PowsyblBackend import PowsyblBackend\n",
    "import os\n",
    "from pathlib import Path"
   ]
  },
  {
   "cell_type": "code",
   "execution_count": 36,
   "id": "1283beac",
   "metadata": {},
   "outputs": [],
   "source": [
    "backend = PowsyblBackend()"
   ]
  },
  {
   "cell_type": "code",
   "execution_count": 37,
   "id": "538525d5",
   "metadata": {},
   "outputs": [
    {
     "name": "stderr",
     "output_type": "stream",
     "text": [
      "<__array_function__ internals>:200: RuntimeWarning: invalid value encountered in cast\n"
     ]
    }
   ],
   "source": [
    "backend.load_grid('','Grid2OpPowsybl/src/data_test/test_case14.xiidm')"
   ]
  },
  {
   "cell_type": "code",
   "execution_count": 43,
   "id": "863c9086",
   "metadata": {},
   "outputs": [
    {
     "data": {
      "text/plain": [
       "array(['B2-L', 'B3-L', 'B4-L', 'B9-L', 'B5-L', 'B6-L', 'B10-L', 'B11-L',\n",
       "       'B12-L', 'B13-L', 'B14-L'], dtype='<U5')"
      ]
     },
     "execution_count": 43,
     "metadata": {},
     "output_type": "execute_result"
    }
   ],
   "source": [
    "backend.name_load"
   ]
  },
  {
   "cell_type": "code",
   "execution_count": 38,
   "id": "90d9d0f9",
   "metadata": {},
   "outputs": [],
   "source": [
    "type(backend).set_env_name(\"BaseTestLoadingCase\")\n",
    "backend.assert_grid_correct()"
   ]
  },
  {
   "cell_type": "code",
   "execution_count": 44,
   "id": "bf5b8152",
   "metadata": {},
   "outputs": [],
   "source": [
    "conv=backend.runpf()"
   ]
  },
  {
   "cell_type": "code",
   "execution_count": 45,
   "id": "58002a72",
   "metadata": {},
   "outputs": [
    {
     "name": "stdout",
     "output_type": "stream",
     "text": [
      "True\n"
     ]
    }
   ],
   "source": [
    "print(conv)"
   ]
  },
  {
   "cell_type": "code",
   "execution_count": 46,
   "id": "d820e8ec",
   "metadata": {},
   "outputs": [],
   "source": [
    "backend.assert_grid_correct_after_powerflow()"
   ]
  },
  {
   "cell_type": "code",
   "execution_count": 49,
   "id": "24e51466",
   "metadata": {},
   "outputs": [
    {
     "data": {
      "text/plain": [
       "array([False, False, False, False, False, False, False, False, False,\n",
       "       False, False, False, False, False, False, False, False, False,\n",
       "       False, False])"
      ]
     },
     "execution_count": 49,
     "metadata": {},
     "output_type": "execute_result"
    }
   ],
   "source": [
    "backend.get_line_overflow()"
   ]
  }
 ],
 "metadata": {
  "kernelspec": {
   "display_name": "Python 3 (ipykernel)",
   "language": "python",
   "name": "python3"
  },
  "language_info": {
   "codemirror_mode": {
    "name": "ipython",
    "version": 3
   },
   "file_extension": ".py",
   "mimetype": "text/x-python",
   "name": "python",
   "nbconvert_exporter": "python",
   "pygments_lexer": "ipython3",
   "version": "3.10.10"
  }
 },
 "nbformat": 4,
 "nbformat_minor": 5
}
